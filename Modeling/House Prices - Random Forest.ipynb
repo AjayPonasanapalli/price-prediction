{
 "cells": [
  {
   "cell_type": "code",
   "execution_count": 1,
   "metadata": {
    "collapsed": false
   },
   "outputs": [],
   "source": [
    "import pandas as pd \n",
    "import sklearn\n",
    "import seaborn as sea\n",
    "import numpy as np\n",
    "from scipy import stats\n",
    "import matplotlib.pyplot as plt\n",
    "import xgboost as xgb\n",
    "import warnings\n",
    "warnings.filterwarnings('ignore')"
   ]
  },
  {
   "cell_type": "markdown",
   "metadata": {},
   "source": [
    "## Load in the data"
   ]
  },
  {
   "cell_type": "code",
   "execution_count": 2,
   "metadata": {
    "collapsed": false
   },
   "outputs": [
    {
     "data": {
      "text/html": [
       "<div>\n",
       "<table border=\"1\" class=\"dataframe\">\n",
       "  <thead>\n",
       "    <tr style=\"text-align: right;\">\n",
       "      <th></th>\n",
       "      <th>Id</th>\n",
       "      <th>MSSubClass</th>\n",
       "      <th>MSZoning</th>\n",
       "      <th>LotFrontage</th>\n",
       "      <th>LotArea</th>\n",
       "      <th>Street</th>\n",
       "      <th>Alley</th>\n",
       "      <th>LotShape</th>\n",
       "      <th>LandContour</th>\n",
       "      <th>Utilities</th>\n",
       "      <th>...</th>\n",
       "      <th>PoolArea</th>\n",
       "      <th>PoolQC</th>\n",
       "      <th>Fence</th>\n",
       "      <th>MiscFeature</th>\n",
       "      <th>MiscVal</th>\n",
       "      <th>MoSold</th>\n",
       "      <th>YrSold</th>\n",
       "      <th>SaleType</th>\n",
       "      <th>SaleCondition</th>\n",
       "      <th>SalePrice</th>\n",
       "    </tr>\n",
       "  </thead>\n",
       "  <tbody>\n",
       "    <tr>\n",
       "      <th>0</th>\n",
       "      <td>1</td>\n",
       "      <td>60</td>\n",
       "      <td>RL</td>\n",
       "      <td>65.0</td>\n",
       "      <td>8450</td>\n",
       "      <td>Pave</td>\n",
       "      <td>NaN</td>\n",
       "      <td>Reg</td>\n",
       "      <td>Lvl</td>\n",
       "      <td>AllPub</td>\n",
       "      <td>...</td>\n",
       "      <td>0</td>\n",
       "      <td>NaN</td>\n",
       "      <td>NaN</td>\n",
       "      <td>NaN</td>\n",
       "      <td>0</td>\n",
       "      <td>2</td>\n",
       "      <td>2008</td>\n",
       "      <td>WD</td>\n",
       "      <td>Normal</td>\n",
       "      <td>208500</td>\n",
       "    </tr>\n",
       "    <tr>\n",
       "      <th>1</th>\n",
       "      <td>2</td>\n",
       "      <td>20</td>\n",
       "      <td>RL</td>\n",
       "      <td>80.0</td>\n",
       "      <td>9600</td>\n",
       "      <td>Pave</td>\n",
       "      <td>NaN</td>\n",
       "      <td>Reg</td>\n",
       "      <td>Lvl</td>\n",
       "      <td>AllPub</td>\n",
       "      <td>...</td>\n",
       "      <td>0</td>\n",
       "      <td>NaN</td>\n",
       "      <td>NaN</td>\n",
       "      <td>NaN</td>\n",
       "      <td>0</td>\n",
       "      <td>5</td>\n",
       "      <td>2007</td>\n",
       "      <td>WD</td>\n",
       "      <td>Normal</td>\n",
       "      <td>181500</td>\n",
       "    </tr>\n",
       "  </tbody>\n",
       "</table>\n",
       "<p>2 rows × 81 columns</p>\n",
       "</div>"
      ],
      "text/plain": [
       "   Id  MSSubClass MSZoning  LotFrontage  LotArea Street Alley LotShape  \\\n",
       "0   1          60       RL         65.0     8450   Pave   NaN      Reg   \n",
       "1   2          20       RL         80.0     9600   Pave   NaN      Reg   \n",
       "\n",
       "  LandContour Utilities    ...     PoolArea PoolQC Fence MiscFeature MiscVal  \\\n",
       "0         Lvl    AllPub    ...            0    NaN   NaN         NaN       0   \n",
       "1         Lvl    AllPub    ...            0    NaN   NaN         NaN       0   \n",
       "\n",
       "  MoSold YrSold  SaleType  SaleCondition  SalePrice  \n",
       "0      2   2008        WD         Normal     208500  \n",
       "1      5   2007        WD         Normal     181500  \n",
       "\n",
       "[2 rows x 81 columns]"
      ]
     },
     "execution_count": 2,
     "metadata": {},
     "output_type": "execute_result"
    }
   ],
   "source": [
    "house_prices_train = pd.read_csv('train.csv')\n",
    "house_prices_test = pd.read_csv('test.csv')\n",
    "house_prices_train.head(2)"
   ]
  },
  {
   "cell_type": "code",
   "execution_count": 3,
   "metadata": {
    "collapsed": false
   },
   "outputs": [
    {
     "data": {
      "text/plain": [
       "((1460, 81), (1459, 80))"
      ]
     },
     "execution_count": 3,
     "metadata": {},
     "output_type": "execute_result"
    }
   ],
   "source": [
    "house_prices_train.shape, house_prices_test.shape"
   ]
  },
  {
   "cell_type": "code",
   "execution_count": 4,
   "metadata": {
    "collapsed": false
   },
   "outputs": [
    {
     "name": "stdout",
     "output_type": "stream",
     "text": [
      "(1456, 403) (1459, 403) (1456, 1)\n"
     ]
    }
   ],
   "source": [
    "train = pd.read_csv('train_human_analog.csv')\n",
    "test = pd.read_csv('test_human_analog.csv')\n",
    "output = pd.read_csv('output_human_analog.csv', header=None)\n",
    "output.rename(columns={0: \"log_SalePrice\"}, inplace=True)\n",
    "output.drop(0,axis=0,inplace=True)\n",
    "output.head(2)\n",
    "print train.shape, test.shape, output.shape"
   ]
  },
  {
   "cell_type": "code",
   "execution_count": 5,
   "metadata": {
    "collapsed": false
   },
   "outputs": [
    {
     "data": {
      "text/plain": [
       "log_SalePrice    object\n",
       "dtype: object"
      ]
     },
     "execution_count": 5,
     "metadata": {},
     "output_type": "execute_result"
    }
   ],
   "source": [
    "output.dtypes"
   ]
  },
  {
   "cell_type": "code",
   "execution_count": 6,
   "metadata": {
    "collapsed": false
   },
   "outputs": [
    {
     "data": {
      "text/plain": [
       "log_SalePrice    float64\n",
       "dtype: object"
      ]
     },
     "execution_count": 6,
     "metadata": {},
     "output_type": "execute_result"
    }
   ],
   "source": [
    "output['log_SalePrice'] = output['log_SalePrice'].astype('float64')\n",
    "output.dtypes"
   ]
  },
  {
   "cell_type": "markdown",
   "metadata": {},
   "source": [
    "## Random Forest"
   ]
  },
  {
   "cell_type": "code",
   "execution_count": 7,
   "metadata": {
    "collapsed": false
   },
   "outputs": [],
   "source": [
    "#Import libraries:\n",
    "import pandas as pd\n",
    "import numpy as np\n",
    "from sklearn.ensemble import RandomForestRegressor  #GBM algorithm\n",
    "from sklearn import cross_validation, metrics   #Additional scklearn functions\n",
    "from sklearn.grid_search import GridSearchCV   #Performing grid search\n",
    "from sklearn.grid_search import RandomizedSearchCV\n",
    "\n",
    "import matplotlib.pylab as plt\n",
    "%matplotlib inline\n",
    "from matplotlib.pylab import rcParams\n",
    "rcParams['figure.figsize'] = 12, 4"
   ]
  },
  {
   "cell_type": "markdown",
   "metadata": {},
   "source": [
    "### Function to fit model and do Cross Validation for error calculation"
   ]
  },
  {
   "cell_type": "code",
   "execution_count": 8,
   "metadata": {
    "collapsed": false
   },
   "outputs": [],
   "source": [
    "def modelfit(model, dtrain, features, output, performCV=True, printFeatureImportance=True, cv_folds=5):\n",
    "    #Fit the algorithm on the data\n",
    "    model.fit(dtrain[features], output)\n",
    "        \n",
    "    #Predict training set:\n",
    "    dtrain_predictions = model.predict(dtrain[features])\n",
    "    #dtrain_predprob = model.predict_proba(dtrain[features])[:,1]\n",
    "    \n",
    "    #Perform cross-validation:\n",
    "    if performCV:\n",
    "        cv_score = cross_validation.cross_val_score(model, dtrain[features], output, cv=cv_folds)\n",
    "    \n",
    "    #Print model report:\n",
    "    print \"\\nModel Report\"\n",
    "    print \"R-Square: %.3f\" % metrics.r2_score(output, dtrain_predictions)\n",
    "    print \"RMSE : %.3f\" % np.sqrt(metrics.mean_squared_error(output, dtrain_predictions))\n",
    "    print\"cv_score: \"\n",
    "    print(cv_score)\n",
    "\n",
    "    if performCV:\n",
    "        print \"CV Score : Mean: %.7g | Std: %.7g | Min: %.7g | Max: %.7g\" % (np.mean(cv_score),np.std(cv_score),np.min(cv_score),np.max(cv_score))\n",
    "        \n",
    "    #Print Feature Importance:\n",
    "    if printFeatureImportance:\n",
    "        feat_imp = pd.Series(model.feature_importances_[0:30], features[0:30]).sort_values(ascending=False)\n",
    "        feat_imp.plot(kind='bar', title='Top 30 Feature Importances')\n",
    "        plt.ylabel('Features Importance Score')"
   ]
  },
  {
   "cell_type": "markdown",
   "metadata": {},
   "source": [
    "### Baseline Model"
   ]
  },
  {
   "cell_type": "code",
   "execution_count": 9,
   "metadata": {
    "collapsed": false
   },
   "outputs": [
    {
     "name": "stdout",
     "output_type": "stream",
     "text": [
      "\n",
      "Model Report\n",
      "R-Square: 0.976\n",
      "RMSE : 0.061\n",
      "cv_score: \n",
      "[ 0.87481638  0.8864139   0.84617983  0.87268951  0.85241746]\n",
      "CV Score : Mean: 0.8665034 | Std: 0.01493494 | Min: 0.8461798 | Max: 0.8864139\n"
     ]
    },
    {
     "data": {
      "image/png": "[encoded data removed]",
      "text/plain": [
       "<matplotlib.figure.Figure at 0x107482850>"
      ]
     },
     "metadata": {},
     "output_type": "display_data"
    }
   ],
   "source": [
    "features = train.columns\n",
    "rf = RandomForestRegressor(random_state=5)\n",
    "modelfit(rf, train, features, output, performCV=True, printFeatureImportance=True)"
   ]
  },
  {
   "cell_type": "markdown",
   "metadata": {},
   "source": [
    "### Parameter Tuning"
   ]
  },
  {
   "cell_type": "code",
   "execution_count": 10,
   "metadata": {
    "collapsed": true
   },
   "outputs": [],
   "source": [
    "min_samples_split = 0.01  #This should be ~0.5-1% of total values. \n",
    "min_samples_leaf = 50 #Can be selected based on intuition. This is just used for preventing overfitting \n",
    "max_depth = 3\n",
    "max_features = 'sqrt' #Its a general thumb-rule to start with square root."
   ]
  },
  {
   "cell_type": "code",
   "execution_count": 11,
   "metadata": {
    "collapsed": false
   },
   "outputs": [],
   "source": [
    "param_test1 = {'n_estimators': range(20,501,10)}\n",
    "gsearch1 = GridSearchCV(estimator = RandomForestRegressor(min_samples_split=min_samples_split, \n",
    "                                                              min_samples_leaf=min_samples_leaf,\n",
    "                                                              max_depth=max_depth,\n",
    "                                                              max_features=max_features,\n",
    "                                                              random_state=5), \n",
    "                                                              param_grid = param_test1, n_jobs=4,iid=False,cv=5)"
   ]
  },
  {
   "cell_type": "code",
   "execution_count": 12,
   "metadata": {
    "collapsed": false
   },
   "outputs": [
    {
     "data": {
      "text/plain": [
       "GridSearchCV(cv=5, error_score='raise',\n",
       "       estimator=RandomForestRegressor(bootstrap=True, criterion='mse', max_depth=3,\n",
       "           max_features='sqrt', max_leaf_nodes=None, min_samples_leaf=50,\n",
       "           min_samples_split=0.01, min_weight_fraction_leaf=0.0,\n",
       "           n_estimators=10, n_jobs=1, oob_score=False, random_state=5,\n",
       "           verbose=0, warm_start=False),\n",
       "       fit_params={}, iid=False, n_jobs=4,\n",
       "       param_grid={'n_estimators': [20, 30, 40, 50, 60, 70, 80, 90, 100, 110, 120, 130, 140, 150, 160, 170, 180, 190, 200, 210, 220, 230, 240, 250, 260, 270, 280, 290, 300, 310, 320, 330, 340, 350, 360, 370, 380, 390, 400, 410, 420, 430, 440, 450, 460, 470, 480, 490, 500]},\n",
       "       pre_dispatch='2*n_jobs', refit=True, scoring=None, verbose=0)"
      ]
     },
     "execution_count": 12,
     "metadata": {},
     "output_type": "execute_result"
    }
   ],
   "source": [
    "gsearch1.fit(train[features], output)"
   ]
  },
  {
   "cell_type": "code",
   "execution_count": 13,
   "metadata": {
    "collapsed": false
   },
   "outputs": [
    {
     "data": {
      "text/plain": [
       "([mean: 0.71568, std: 0.00968, params: {'n_estimators': 20},\n",
       "  mean: 0.71681, std: 0.01006, params: {'n_estimators': 30},\n",
       "  mean: 0.72278, std: 0.01084, params: {'n_estimators': 40},\n",
       "  mean: 0.72070, std: 0.01053, params: {'n_estimators': 50},\n",
       "  mean: 0.71981, std: 0.00980, params: {'n_estimators': 60},\n",
       "  mean: 0.71802, std: 0.00889, params: {'n_estimators': 70},\n",
       "  mean: 0.71920, std: 0.00960, params: {'n_estimators': 80},\n",
       "  mean: 0.72143, std: 0.01021, params: {'n_estimators': 90},\n",
       "  mean: 0.72109, std: 0.00866, params: {'n_estimators': 100},\n",
       "  mean: 0.72203, std: 0.00918, params: {'n_estimators': 110},\n",
       "  mean: 0.72457, std: 0.00898, params: {'n_estimators': 120},\n",
       "  mean: 0.72594, std: 0.00947, params: {'n_estimators': 130},\n",
       "  mean: 0.72520, std: 0.00936, params: {'n_estimators': 140},\n",
       "  mean: 0.72405, std: 0.00956, params: {'n_estimators': 150},\n",
       "  mean: 0.72412, std: 0.01033, params: {'n_estimators': 160},\n",
       "  mean: 0.72487, std: 0.01039, params: {'n_estimators': 170},\n",
       "  mean: 0.72501, std: 0.01112, params: {'n_estimators': 180},\n",
       "  mean: 0.72618, std: 0.01162, params: {'n_estimators': 190},\n",
       "  mean: 0.72733, std: 0.01158, params: {'n_estimators': 200},\n",
       "  mean: 0.72697, std: 0.01216, params: {'n_estimators': 210},\n",
       "  mean: 0.72684, std: 0.01235, params: {'n_estimators': 220},\n",
       "  mean: 0.72770, std: 0.01262, params: {'n_estimators': 230},\n",
       "  mean: 0.72756, std: 0.01271, params: {'n_estimators': 240},\n",
       "  mean: 0.72788, std: 0.01303, params: {'n_estimators': 250},\n",
       "  mean: 0.72768, std: 0.01312, params: {'n_estimators': 260},\n",
       "  mean: 0.72784, std: 0.01303, params: {'n_estimators': 270},\n",
       "  mean: 0.72779, std: 0.01296, params: {'n_estimators': 280},\n",
       "  mean: 0.72709, std: 0.01301, params: {'n_estimators': 290},\n",
       "  mean: 0.72677, std: 0.01299, params: {'n_estimators': 300},\n",
       "  mean: 0.72660, std: 0.01322, params: {'n_estimators': 310},\n",
       "  mean: 0.72708, std: 0.01311, params: {'n_estimators': 320},\n",
       "  mean: 0.72726, std: 0.01341, params: {'n_estimators': 330},\n",
       "  mean: 0.72792, std: 0.01373, params: {'n_estimators': 340},\n",
       "  mean: 0.72829, std: 0.01370, params: {'n_estimators': 350},\n",
       "  mean: 0.72848, std: 0.01380, params: {'n_estimators': 360},\n",
       "  mean: 0.72827, std: 0.01382, params: {'n_estimators': 370},\n",
       "  mean: 0.72848, std: 0.01366, params: {'n_estimators': 380},\n",
       "  mean: 0.72853, std: 0.01347, params: {'n_estimators': 390},\n",
       "  mean: 0.72817, std: 0.01345, params: {'n_estimators': 400},\n",
       "  mean: 0.72810, std: 0.01356, params: {'n_estimators': 410},\n",
       "  mean: 0.72830, std: 0.01351, params: {'n_estimators': 420},\n",
       "  mean: 0.72855, std: 0.01341, params: {'n_estimators': 430},\n",
       "  mean: 0.72847, std: 0.01353, params: {'n_estimators': 440},\n",
       "  mean: 0.72825, std: 0.01359, params: {'n_estimators': 450},\n",
       "  mean: 0.72825, std: 0.01381, params: {'n_estimators': 460},\n",
       "  mean: 0.72844, std: 0.01373, params: {'n_estimators': 470},\n",
       "  mean: 0.72840, std: 0.01380, params: {'n_estimators': 480},\n",
       "  mean: 0.72890, std: 0.01375, params: {'n_estimators': 490},\n",
       "  mean: 0.72849, std: 0.01391, params: {'n_estimators': 500}],\n",
       " {'n_estimators': 490},\n",
       " 0.72890206729678952)"
      ]
     },
     "execution_count": 13,
     "metadata": {},
     "output_type": "execute_result"
    }
   ],
   "source": [
    "gsearch1.grid_scores_, gsearch1.best_params_, gsearch1.best_score_"
   ]
  },
  {
   "cell_type": "markdown",
   "metadata": {},
   "source": [
    "### Tuning tree-specific parameters\n",
    "\n",
    "Now lets move onto tuning the tree parameters. I plan to do this in following stages:\n",
    "\n",
    "Tune max_depth and num_samples_split\n",
    "Tune min_samples_leaf\n",
    "Tune max_features"
   ]
  },
  {
   "cell_type": "code",
   "execution_count": 14,
   "metadata": {
    "collapsed": false
   },
   "outputs": [
    {
     "data": {
      "text/plain": [
       "490"
      ]
     },
     "execution_count": 14,
     "metadata": {},
     "output_type": "execute_result"
    }
   ],
   "source": [
    "gsearch1.best_params_['n_estimators']"
   ]
  },
  {
   "cell_type": "code",
   "execution_count": 15,
   "metadata": {
    "collapsed": false
   },
   "outputs": [
    {
     "data": {
      "text/plain": [
       "([mean: 0.49387, std: 0.01265, params: {'min_samples_split': 0.001, 'max_depth': 1},\n",
       "  mean: 0.49387, std: 0.01265, params: {'min_samples_split': 0.002, 'max_depth': 1},\n",
       "  mean: 0.49387, std: 0.01265, params: {'min_samples_split': 0.0030000000000000001, 'max_depth': 1},\n",
       "  mean: 0.49387, std: 0.01265, params: {'min_samples_split': 0.0040000000000000001, 'max_depth': 1},\n",
       "  mean: 0.49387, std: 0.01265, params: {'min_samples_split': 0.0050000000000000001, 'max_depth': 1},\n",
       "  mean: 0.49387, std: 0.01265, params: {'min_samples_split': 0.0060000000000000001, 'max_depth': 1},\n",
       "  mean: 0.49387, std: 0.01265, params: {'min_samples_split': 0.0070000000000000001, 'max_depth': 1},\n",
       "  mean: 0.49387, std: 0.01265, params: {'min_samples_split': 0.0080000000000000002, 'max_depth': 1},\n",
       "  mean: 0.49387, std: 0.01265, params: {'min_samples_split': 0.0090000000000000011, 'max_depth': 1},\n",
       "  mean: 0.49387, std: 0.01265, params: {'min_samples_split': 0.010000000000000002, 'max_depth': 1},\n",
       "  mean: 0.72890, std: 0.01375, params: {'min_samples_split': 0.001, 'max_depth': 3},\n",
       "  mean: 0.72890, std: 0.01375, params: {'min_samples_split': 0.002, 'max_depth': 3},\n",
       "  mean: 0.72890, std: 0.01375, params: {'min_samples_split': 0.0030000000000000001, 'max_depth': 3},\n",
       "  mean: 0.72890, std: 0.01375, params: {'min_samples_split': 0.0040000000000000001, 'max_depth': 3},\n",
       "  mean: 0.72890, std: 0.01375, params: {'min_samples_split': 0.0050000000000000001, 'max_depth': 3},\n",
       "  mean: 0.72890, std: 0.01375, params: {'min_samples_split': 0.0060000000000000001, 'max_depth': 3},\n",
       "  mean: 0.72890, std: 0.01375, params: {'min_samples_split': 0.0070000000000000001, 'max_depth': 3},\n",
       "  mean: 0.72890, std: 0.01375, params: {'min_samples_split': 0.0080000000000000002, 'max_depth': 3},\n",
       "  mean: 0.72890, std: 0.01375, params: {'min_samples_split': 0.0090000000000000011, 'max_depth': 3},\n",
       "  mean: 0.72890, std: 0.01375, params: {'min_samples_split': 0.010000000000000002, 'max_depth': 3},\n",
       "  mean: 0.75999, std: 0.01410, params: {'min_samples_split': 0.001, 'max_depth': 5},\n",
       "  mean: 0.75999, std: 0.01410, params: {'min_samples_split': 0.002, 'max_depth': 5},\n",
       "  mean: 0.75999, std: 0.01410, params: {'min_samples_split': 0.0030000000000000001, 'max_depth': 5},\n",
       "  mean: 0.75999, std: 0.01410, params: {'min_samples_split': 0.0040000000000000001, 'max_depth': 5},\n",
       "  mean: 0.75999, std: 0.01410, params: {'min_samples_split': 0.0050000000000000001, 'max_depth': 5},\n",
       "  mean: 0.75999, std: 0.01410, params: {'min_samples_split': 0.0060000000000000001, 'max_depth': 5},\n",
       "  mean: 0.75999, std: 0.01410, params: {'min_samples_split': 0.0070000000000000001, 'max_depth': 5},\n",
       "  mean: 0.75999, std: 0.01410, params: {'min_samples_split': 0.0080000000000000002, 'max_depth': 5},\n",
       "  mean: 0.75999, std: 0.01410, params: {'min_samples_split': 0.0090000000000000011, 'max_depth': 5},\n",
       "  mean: 0.75999, std: 0.01410, params: {'min_samples_split': 0.010000000000000002, 'max_depth': 5},\n",
       "  mean: 0.76098, std: 0.01390, params: {'min_samples_split': 0.001, 'max_depth': 7},\n",
       "  mean: 0.76098, std: 0.01390, params: {'min_samples_split': 0.002, 'max_depth': 7},\n",
       "  mean: 0.76098, std: 0.01390, params: {'min_samples_split': 0.0030000000000000001, 'max_depth': 7},\n",
       "  mean: 0.76098, std: 0.01390, params: {'min_samples_split': 0.0040000000000000001, 'max_depth': 7},\n",
       "  mean: 0.76098, std: 0.01390, params: {'min_samples_split': 0.0050000000000000001, 'max_depth': 7},\n",
       "  mean: 0.76098, std: 0.01390, params: {'min_samples_split': 0.0060000000000000001, 'max_depth': 7},\n",
       "  mean: 0.76098, std: 0.01390, params: {'min_samples_split': 0.0070000000000000001, 'max_depth': 7},\n",
       "  mean: 0.76098, std: 0.01390, params: {'min_samples_split': 0.0080000000000000002, 'max_depth': 7},\n",
       "  mean: 0.76098, std: 0.01390, params: {'min_samples_split': 0.0090000000000000011, 'max_depth': 7},\n",
       "  mean: 0.76098, std: 0.01390, params: {'min_samples_split': 0.010000000000000002, 'max_depth': 7},\n",
       "  mean: 0.76098, std: 0.01390, params: {'min_samples_split': 0.001, 'max_depth': 9},\n",
       "  mean: 0.76098, std: 0.01390, params: {'min_samples_split': 0.002, 'max_depth': 9},\n",
       "  mean: 0.76098, std: 0.01390, params: {'min_samples_split': 0.0030000000000000001, 'max_depth': 9},\n",
       "  mean: 0.76098, std: 0.01390, params: {'min_samples_split': 0.0040000000000000001, 'max_depth': 9},\n",
       "  mean: 0.76098, std: 0.01390, params: {'min_samples_split': 0.0050000000000000001, 'max_depth': 9},\n",
       "  mean: 0.76098, std: 0.01390, params: {'min_samples_split': 0.0060000000000000001, 'max_depth': 9},\n",
       "  mean: 0.76098, std: 0.01390, params: {'min_samples_split': 0.0070000000000000001, 'max_depth': 9},\n",
       "  mean: 0.76098, std: 0.01390, params: {'min_samples_split': 0.0080000000000000002, 'max_depth': 9},\n",
       "  mean: 0.76098, std: 0.01390, params: {'min_samples_split': 0.0090000000000000011, 'max_depth': 9},\n",
       "  mean: 0.76098, std: 0.01390, params: {'min_samples_split': 0.010000000000000002, 'max_depth': 9},\n",
       "  mean: 0.76098, std: 0.01390, params: {'min_samples_split': 0.001, 'max_depth': 11},\n",
       "  mean: 0.76098, std: 0.01390, params: {'min_samples_split': 0.002, 'max_depth': 11},\n",
       "  mean: 0.76098, std: 0.01390, params: {'min_samples_split': 0.0030000000000000001, 'max_depth': 11},\n",
       "  mean: 0.76098, std: 0.01390, params: {'min_samples_split': 0.0040000000000000001, 'max_depth': 11},\n",
       "  mean: 0.76098, std: 0.01390, params: {'min_samples_split': 0.0050000000000000001, 'max_depth': 11},\n",
       "  mean: 0.76098, std: 0.01390, params: {'min_samples_split': 0.0060000000000000001, 'max_depth': 11},\n",
       "  mean: 0.76098, std: 0.01390, params: {'min_samples_split': 0.0070000000000000001, 'max_depth': 11},\n",
       "  mean: 0.76098, std: 0.01390, params: {'min_samples_split': 0.0080000000000000002, 'max_depth': 11},\n",
       "  mean: 0.76098, std: 0.01390, params: {'min_samples_split': 0.0090000000000000011, 'max_depth': 11},\n",
       "  mean: 0.76098, std: 0.01390, params: {'min_samples_split': 0.010000000000000002, 'max_depth': 11},\n",
       "  mean: 0.76098, std: 0.01390, params: {'min_samples_split': 0.001, 'max_depth': 13},\n",
       "  mean: 0.76098, std: 0.01390, params: {'min_samples_split': 0.002, 'max_depth': 13},\n",
       "  mean: 0.76098, std: 0.01390, params: {'min_samples_split': 0.0030000000000000001, 'max_depth': 13},\n",
       "  mean: 0.76098, std: 0.01390, params: {'min_samples_split': 0.0040000000000000001, 'max_depth': 13},\n",
       "  mean: 0.76098, std: 0.01390, params: {'min_samples_split': 0.0050000000000000001, 'max_depth': 13},\n",
       "  mean: 0.76098, std: 0.01390, params: {'min_samples_split': 0.0060000000000000001, 'max_depth': 13},\n",
       "  mean: 0.76098, std: 0.01390, params: {'min_samples_split': 0.0070000000000000001, 'max_depth': 13},\n",
       "  mean: 0.76098, std: 0.01390, params: {'min_samples_split': 0.0080000000000000002, 'max_depth': 13},\n",
       "  mean: 0.76098, std: 0.01390, params: {'min_samples_split': 0.0090000000000000011, 'max_depth': 13},\n",
       "  mean: 0.76098, std: 0.01390, params: {'min_samples_split': 0.010000000000000002, 'max_depth': 13},\n",
       "  mean: 0.76098, std: 0.01390, params: {'min_samples_split': 0.001, 'max_depth': 15},\n",
       "  mean: 0.76098, std: 0.01390, params: {'min_samples_split': 0.002, 'max_depth': 15},\n",
       "  mean: 0.76098, std: 0.01390, params: {'min_samples_split': 0.0030000000000000001, 'max_depth': 15},\n",
       "  mean: 0.76098, std: 0.01390, params: {'min_samples_split': 0.0040000000000000001, 'max_depth': 15},\n",
       "  mean: 0.76098, std: 0.01390, params: {'min_samples_split': 0.0050000000000000001, 'max_depth': 15},\n",
       "  mean: 0.76098, std: 0.01390, params: {'min_samples_split': 0.0060000000000000001, 'max_depth': 15},\n",
       "  mean: 0.76098, std: 0.01390, params: {'min_samples_split': 0.0070000000000000001, 'max_depth': 15},\n",
       "  mean: 0.76098, std: 0.01390, params: {'min_samples_split': 0.0080000000000000002, 'max_depth': 15},\n",
       "  mean: 0.76098, std: 0.01390, params: {'min_samples_split': 0.0090000000000000011, 'max_depth': 15},\n",
       "  mean: 0.76098, std: 0.01390, params: {'min_samples_split': 0.010000000000000002, 'max_depth': 15}],\n",
       " {'max_depth': 7, 'min_samples_split': 0.001},\n",
       " 0.76097717450888536)"
      ]
     },
     "execution_count": 15,
     "metadata": {},
     "output_type": "execute_result"
    }
   ],
   "source": [
    "param_test2 = {'max_depth': range(1,16,2), 'min_samples_split': np.arange(0.001, 0.011, 0.001)}\n",
    "gsearch2 = GridSearchCV(estimator = RandomForestRegressor(min_samples_leaf=min_samples_leaf,\n",
    "                                                              max_features=max_features,\n",
    "                                                              n_estimators=gsearch1.best_params_['n_estimators'],\n",
    "                                                              random_state=5), \n",
    "                                                              param_grid = param_test2, n_jobs=4,iid=False,cv=5)\n",
    "gsearch2.fit(train[features],output)\n",
    "gsearch2.grid_scores_, gsearch2.best_params_, gsearch2.best_score_"
   ]
  },
  {
   "cell_type": "code",
   "execution_count": 16,
   "metadata": {
    "collapsed": false
   },
   "outputs": [],
   "source": [
    "min_samples_split = gsearch2.best_params_['min_samples_split'] \n",
    "min_samples_leaf = min_samples_leaf \n",
    "max_depth = gsearch2.best_params_['max_depth']\n",
    "max_features = 'sqrt'\n",
    "n_estimators=gsearch1.best_params_['n_estimators'] "
   ]
  },
  {
   "cell_type": "code",
   "execution_count": 17,
   "metadata": {
    "collapsed": false
   },
   "outputs": [
    {
     "data": {
      "text/plain": [
       "([mean: 0.77817, std: 0.01012, params: {'max_features': 7, 'min_samples_leaf': 10},\n",
       "  mean: 0.74230, std: 0.01315, params: {'max_features': 7, 'min_samples_leaf': 20},\n",
       "  mean: 0.71119, std: 0.01286, params: {'max_features': 7, 'min_samples_leaf': 30},\n",
       "  mean: 0.68148, std: 0.01303, params: {'max_features': 7, 'min_samples_leaf': 40},\n",
       "  mean: 0.65600, std: 0.01454, params: {'max_features': 7, 'min_samples_leaf': 50},\n",
       "  mean: 0.62748, std: 0.01243, params: {'max_features': 7, 'min_samples_leaf': 60},\n",
       "  mean: 0.59835, std: 0.01234, params: {'max_features': 7, 'min_samples_leaf': 70},\n",
       "  mean: 0.57395, std: 0.01261, params: {'max_features': 7, 'min_samples_leaf': 80},\n",
       "  mean: 0.55669, std: 0.01163, params: {'max_features': 7, 'min_samples_leaf': 90},\n",
       "  mean: 0.54096, std: 0.01206, params: {'max_features': 7, 'min_samples_leaf': 100},\n",
       "  mean: 0.80124, std: 0.01136, params: {'max_features': 9, 'min_samples_leaf': 10},\n",
       "  mean: 0.76874, std: 0.01217, params: {'max_features': 9, 'min_samples_leaf': 20},\n",
       "  mean: 0.74240, std: 0.01211, params: {'max_features': 9, 'min_samples_leaf': 30},\n",
       "  mean: 0.71543, std: 0.01226, params: {'max_features': 9, 'min_samples_leaf': 40},\n",
       "  mean: 0.69075, std: 0.01131, params: {'max_features': 9, 'min_samples_leaf': 50},\n",
       "  mean: 0.66817, std: 0.01131, params: {'max_features': 9, 'min_samples_leaf': 60},\n",
       "  mean: 0.64482, std: 0.01206, params: {'max_features': 9, 'min_samples_leaf': 70},\n",
       "  mean: 0.62366, std: 0.01074, params: {'max_features': 9, 'min_samples_leaf': 80},\n",
       "  mean: 0.60582, std: 0.01056, params: {'max_features': 9, 'min_samples_leaf': 90},\n",
       "  mean: 0.59061, std: 0.01115, params: {'max_features': 9, 'min_samples_leaf': 100},\n",
       "  mean: 0.81458, std: 0.01093, params: {'max_features': 11, 'min_samples_leaf': 10},\n",
       "  mean: 0.78604, std: 0.01214, params: {'max_features': 11, 'min_samples_leaf': 20},\n",
       "  mean: 0.76032, std: 0.01288, params: {'max_features': 11, 'min_samples_leaf': 30},\n",
       "  mean: 0.73543, std: 0.01162, params: {'max_features': 11, 'min_samples_leaf': 40},\n",
       "  mean: 0.71140, std: 0.01294, params: {'max_features': 11, 'min_samples_leaf': 50},\n",
       "  mean: 0.69084, std: 0.01204, params: {'max_features': 11, 'min_samples_leaf': 60},\n",
       "  mean: 0.66983, std: 0.01203, params: {'max_features': 11, 'min_samples_leaf': 70},\n",
       "  mean: 0.65160, std: 0.01057, params: {'max_features': 11, 'min_samples_leaf': 80},\n",
       "  mean: 0.63172, std: 0.01137, params: {'max_features': 11, 'min_samples_leaf': 90},\n",
       "  mean: 0.61554, std: 0.01084, params: {'max_features': 11, 'min_samples_leaf': 100},\n",
       "  mean: 0.82576, std: 0.01141, params: {'max_features': 13, 'min_samples_leaf': 10},\n",
       "  mean: 0.79678, std: 0.01236, params: {'max_features': 13, 'min_samples_leaf': 20},\n",
       "  mean: 0.77248, std: 0.01249, params: {'max_features': 13, 'min_samples_leaf': 30},\n",
       "  mean: 0.74959, std: 0.01136, params: {'max_features': 13, 'min_samples_leaf': 40},\n",
       "  mean: 0.72711, std: 0.01121, params: {'max_features': 13, 'min_samples_leaf': 50},\n",
       "  mean: 0.70763, std: 0.01208, params: {'max_features': 13, 'min_samples_leaf': 60},\n",
       "  mean: 0.68893, std: 0.01176, params: {'max_features': 13, 'min_samples_leaf': 70},\n",
       "  mean: 0.67119, std: 0.01095, params: {'max_features': 13, 'min_samples_leaf': 80},\n",
       "  mean: 0.65460, std: 0.01109, params: {'max_features': 13, 'min_samples_leaf': 90},\n",
       "  mean: 0.63975, std: 0.01088, params: {'max_features': 13, 'min_samples_leaf': 100},\n",
       "  mean: 0.83028, std: 0.01068, params: {'max_features': 15, 'min_samples_leaf': 10},\n",
       "  mean: 0.80586, std: 0.01253, params: {'max_features': 15, 'min_samples_leaf': 20},\n",
       "  mean: 0.78214, std: 0.01256, params: {'max_features': 15, 'min_samples_leaf': 30},\n",
       "  mean: 0.76261, std: 0.01272, params: {'max_features': 15, 'min_samples_leaf': 40},\n",
       "  mean: 0.74190, std: 0.01159, params: {'max_features': 15, 'min_samples_leaf': 50},\n",
       "  mean: 0.72132, std: 0.01234, params: {'max_features': 15, 'min_samples_leaf': 60},\n",
       "  mean: 0.70426, std: 0.01332, params: {'max_features': 15, 'min_samples_leaf': 70},\n",
       "  mean: 0.68585, std: 0.01329, params: {'max_features': 15, 'min_samples_leaf': 80},\n",
       "  mean: 0.67039, std: 0.01275, params: {'max_features': 15, 'min_samples_leaf': 90},\n",
       "  mean: 0.65595, std: 0.01190, params: {'max_features': 15, 'min_samples_leaf': 100},\n",
       "  mean: 0.83606, std: 0.01109, params: {'max_features': 17, 'min_samples_leaf': 10},\n",
       "  mean: 0.81246, std: 0.01323, params: {'max_features': 17, 'min_samples_leaf': 20},\n",
       "  mean: 0.78870, std: 0.01294, params: {'max_features': 17, 'min_samples_leaf': 30},\n",
       "  mean: 0.76785, std: 0.01337, params: {'max_features': 17, 'min_samples_leaf': 40},\n",
       "  mean: 0.74859, std: 0.01193, params: {'max_features': 17, 'min_samples_leaf': 50},\n",
       "  mean: 0.72958, std: 0.01217, params: {'max_features': 17, 'min_samples_leaf': 60},\n",
       "  mean: 0.70969, std: 0.01298, params: {'max_features': 17, 'min_samples_leaf': 70},\n",
       "  mean: 0.69402, std: 0.01462, params: {'max_features': 17, 'min_samples_leaf': 80},\n",
       "  mean: 0.67769, std: 0.01432, params: {'max_features': 17, 'min_samples_leaf': 90},\n",
       "  mean: 0.66410, std: 0.01369, params: {'max_features': 17, 'min_samples_leaf': 100},\n",
       "  mean: 0.84219, std: 0.01060, params: {'max_features': 19, 'min_samples_leaf': 10},\n",
       "  mean: 0.81752, std: 0.01203, params: {'max_features': 19, 'min_samples_leaf': 20},\n",
       "  mean: 0.79620, std: 0.01363, params: {'max_features': 19, 'min_samples_leaf': 30},\n",
       "  mean: 0.77534, std: 0.01317, params: {'max_features': 19, 'min_samples_leaf': 40},\n",
       "  mean: 0.75611, std: 0.01304, params: {'max_features': 19, 'min_samples_leaf': 50},\n",
       "  mean: 0.73530, std: 0.01293, params: {'max_features': 19, 'min_samples_leaf': 60},\n",
       "  mean: 0.71744, std: 0.01321, params: {'max_features': 19, 'min_samples_leaf': 70},\n",
       "  mean: 0.70312, std: 0.01292, params: {'max_features': 19, 'min_samples_leaf': 80},\n",
       "  mean: 0.68872, std: 0.01380, params: {'max_features': 19, 'min_samples_leaf': 90},\n",
       "  mean: 0.67630, std: 0.01286, params: {'max_features': 19, 'min_samples_leaf': 100},\n",
       "  mean: 0.84458, std: 0.01082, params: {'max_features': 21, 'min_samples_leaf': 10},\n",
       "  mean: 0.82308, std: 0.01235, params: {'max_features': 21, 'min_samples_leaf': 20},\n",
       "  mean: 0.80135, std: 0.01261, params: {'max_features': 21, 'min_samples_leaf': 30},\n",
       "  mean: 0.78300, std: 0.01256, params: {'max_features': 21, 'min_samples_leaf': 40},\n",
       "  mean: 0.76388, std: 0.01290, params: {'max_features': 21, 'min_samples_leaf': 50},\n",
       "  mean: 0.74745, std: 0.01322, params: {'max_features': 21, 'min_samples_leaf': 60},\n",
       "  mean: 0.73073, std: 0.01250, params: {'max_features': 21, 'min_samples_leaf': 70},\n",
       "  mean: 0.71451, std: 0.01126, params: {'max_features': 21, 'min_samples_leaf': 80},\n",
       "  mean: 0.69897, std: 0.01174, params: {'max_features': 21, 'min_samples_leaf': 90},\n",
       "  mean: 0.68493, std: 0.01310, params: {'max_features': 21, 'min_samples_leaf': 100},\n",
       "  mean: 0.84901, std: 0.01002, params: {'max_features': 23, 'min_samples_leaf': 10},\n",
       "  mean: 0.82712, std: 0.01118, params: {'max_features': 23, 'min_samples_leaf': 20},\n",
       "  mean: 0.80596, std: 0.01276, params: {'max_features': 23, 'min_samples_leaf': 30},\n",
       "  mean: 0.78692, std: 0.01203, params: {'max_features': 23, 'min_samples_leaf': 40},\n",
       "  mean: 0.76819, std: 0.01205, params: {'max_features': 23, 'min_samples_leaf': 50},\n",
       "  mean: 0.74946, std: 0.01331, params: {'max_features': 23, 'min_samples_leaf': 60},\n",
       "  mean: 0.73416, std: 0.01265, params: {'max_features': 23, 'min_samples_leaf': 70},\n",
       "  mean: 0.71990, std: 0.01127, params: {'max_features': 23, 'min_samples_leaf': 80},\n",
       "  mean: 0.70643, std: 0.01122, params: {'max_features': 23, 'min_samples_leaf': 90},\n",
       "  mean: 0.69201, std: 0.01048, params: {'max_features': 23, 'min_samples_leaf': 100},\n",
       "  mean: 0.85005, std: 0.01175, params: {'max_features': 25, 'min_samples_leaf': 10},\n",
       "  mean: 0.82949, std: 0.01245, params: {'max_features': 25, 'min_samples_leaf': 20},\n",
       "  mean: 0.80878, std: 0.01282, params: {'max_features': 25, 'min_samples_leaf': 30},\n",
       "  mean: 0.79026, std: 0.01384, params: {'max_features': 25, 'min_samples_leaf': 40},\n",
       "  mean: 0.77343, std: 0.01344, params: {'max_features': 25, 'min_samples_leaf': 50},\n",
       "  mean: 0.75669, std: 0.01281, params: {'max_features': 25, 'min_samples_leaf': 60},\n",
       "  mean: 0.73979, std: 0.01297, params: {'max_features': 25, 'min_samples_leaf': 70},\n",
       "  mean: 0.72590, std: 0.01163, params: {'max_features': 25, 'min_samples_leaf': 80},\n",
       "  mean: 0.71096, std: 0.01198, params: {'max_features': 25, 'min_samples_leaf': 90},\n",
       "  mean: 0.69784, std: 0.01122, params: {'max_features': 25, 'min_samples_leaf': 100},\n",
       "  mean: 0.85294, std: 0.01078, params: {'max_features': 27, 'min_samples_leaf': 10},\n",
       "  mean: 0.83116, std: 0.01297, params: {'max_features': 27, 'min_samples_leaf': 20},\n",
       "  mean: 0.81186, std: 0.01302, params: {'max_features': 27, 'min_samples_leaf': 30},\n",
       "  mean: 0.79411, std: 0.01409, params: {'max_features': 27, 'min_samples_leaf': 40},\n",
       "  mean: 0.77638, std: 0.01313, params: {'max_features': 27, 'min_samples_leaf': 50},\n",
       "  mean: 0.76117, std: 0.01404, params: {'max_features': 27, 'min_samples_leaf': 60},\n",
       "  mean: 0.74469, std: 0.01348, params: {'max_features': 27, 'min_samples_leaf': 70},\n",
       "  mean: 0.73028, std: 0.01425, params: {'max_features': 27, 'min_samples_leaf': 80},\n",
       "  mean: 0.71495, std: 0.01352, params: {'max_features': 27, 'min_samples_leaf': 90},\n",
       "  mean: 0.70152, std: 0.01304, params: {'max_features': 27, 'min_samples_leaf': 100},\n",
       "  mean: 0.85508, std: 0.01124, params: {'max_features': 29, 'min_samples_leaf': 10},\n",
       "  mean: 0.83421, std: 0.01226, params: {'max_features': 29, 'min_samples_leaf': 20},\n",
       "  mean: 0.81369, std: 0.01341, params: {'max_features': 29, 'min_samples_leaf': 30},\n",
       "  mean: 0.79658, std: 0.01382, params: {'max_features': 29, 'min_samples_leaf': 40},\n",
       "  mean: 0.78023, std: 0.01306, params: {'max_features': 29, 'min_samples_leaf': 50},\n",
       "  mean: 0.76449, std: 0.01312, params: {'max_features': 29, 'min_samples_leaf': 60},\n",
       "  mean: 0.74845, std: 0.01351, params: {'max_features': 29, 'min_samples_leaf': 70},\n",
       "  mean: 0.73318, std: 0.01339, params: {'max_features': 29, 'min_samples_leaf': 80},\n",
       "  mean: 0.71823, std: 0.01372, params: {'max_features': 29, 'min_samples_leaf': 90},\n",
       "  mean: 0.70643, std: 0.01379, params: {'max_features': 29, 'min_samples_leaf': 100}],\n",
       " {'max_features': 29, 'min_samples_leaf': 10},\n",
       " 0.85507618204300828)"
      ]
     },
     "execution_count": 17,
     "metadata": {},
     "output_type": "execute_result"
    }
   ],
   "source": [
    "param_test3 = {'min_samples_leaf':range(10,101,10), 'max_features':range(7,30,2)}\n",
    "gsearch3 = GridSearchCV(estimator = RandomForestRegressor(min_samples_split=min_samples_split,\n",
    "                                                              max_depth=max_depth,\n",
    "                                                              n_estimators=n_estimators,\n",
    "                                                              random_state=5), \n",
    "                                                              param_grid = param_test3, n_jobs=4,iid=False,cv=5)\n",
    "gsearch3.fit(train[features], output)\n",
    "gsearch3.grid_scores_, gsearch3.best_params_, gsearch3.best_score_"
   ]
  },
  {
   "cell_type": "markdown",
   "metadata": {},
   "source": [
    "#### Optimum parameters so far: "
   ]
  },
  {
   "cell_type": "code",
   "execution_count": 18,
   "metadata": {
    "collapsed": false
   },
   "outputs": [],
   "source": [
    "min_samples_split = gsearch2.best_params_['min_samples_split'] \n",
    "min_samples_leaf = gsearch3.best_params_['min_samples_leaf'] \n",
    "max_depth = gsearch2.best_params_['max_depth']\n",
    "max_features = gsearch3.best_params_['max_features']\n",
    "n_estimators=gsearch1.best_params_['n_estimators'] "
   ]
  },
  {
   "cell_type": "code",
   "execution_count": 19,
   "metadata": {
    "collapsed": false
   },
   "outputs": [
    {
     "name": "stdout",
     "output_type": "stream",
     "text": [
      "\n",
      "Model Report\n",
      "R-Square: 0.893\n",
      "RMSE : 0.130\n",
      "cv_score: \n",
      "[ 0.875187    0.8568935   0.8454094   0.84367858  0.85421242]\n",
      "CV Score : Mean: 0.8550762 | Std: 0.0112414 | Min: 0.8436786 | Max: 0.875187\n"
     ]
    },
    {
     "data": {
      "image/png": "[encoded data removed]",
      "text/plain": [
       "<matplotlib.figure.Figure at 0x1176b7bd0>"
      ]
     },
     "metadata": {},
     "output_type": "display_data"
    }
   ],
   "source": [
    "modelfit(gsearch3.best_estimator_, train, features, output)"
   ]
  },
  {
   "cell_type": "code",
   "execution_count": 20,
   "metadata": {
    "collapsed": false
   },
   "outputs": [
    {
     "data": {
      "text/html": [
       "<div>\n",
       "<table border=\"1\" class=\"dataframe\">\n",
       "  <thead>\n",
       "    <tr style=\"text-align: right;\">\n",
       "      <th></th>\n",
       "      <th>Id</th>\n",
       "      <th>SalePrice</th>\n",
       "    </tr>\n",
       "  </thead>\n",
       "  <tbody>\n",
       "    <tr>\n",
       "      <th>0</th>\n",
       "      <td>1461</td>\n",
       "      <td>128272.050731</td>\n",
       "    </tr>\n",
       "    <tr>\n",
       "      <th>1</th>\n",
       "      <td>1462</td>\n",
       "      <td>145821.428035</td>\n",
       "    </tr>\n",
       "    <tr>\n",
       "      <th>2</th>\n",
       "      <td>1463</td>\n",
       "      <td>182613.121114</td>\n",
       "    </tr>\n",
       "    <tr>\n",
       "      <th>3</th>\n",
       "      <td>1464</td>\n",
       "      <td>185677.184118</td>\n",
       "    </tr>\n",
       "    <tr>\n",
       "      <th>4</th>\n",
       "      <td>1465</td>\n",
       "      <td>198844.892345</td>\n",
       "    </tr>\n",
       "  </tbody>\n",
       "</table>\n",
       "</div>"
      ],
      "text/plain": [
       "     Id      SalePrice\n",
       "0  1461  128272.050731\n",
       "1  1462  145821.428035\n",
       "2  1463  182613.121114\n",
       "3  1464  185677.184118\n",
       "4  1465  198844.892345"
      ]
     },
     "execution_count": 20,
     "metadata": {},
     "output_type": "execute_result"
    }
   ],
   "source": [
    "pred = np.expm1(gsearch3.best_estimator_.predict(test))\n",
    "rf_prediction = pd.DataFrame({'Id': house_prices_test['Id'], 'SalePrice': pred})\n",
    "rf_prediction.head(5)"
   ]
  },
  {
   "cell_type": "markdown",
   "metadata": {},
   "source": [
    "### Lets stack this with Lasso"
   ]
  },
  {
   "cell_type": "code",
   "execution_count": 21,
   "metadata": {
    "collapsed": true
   },
   "outputs": [],
   "source": [
    "lasso_pred = pd.read_csv('kaggle_submission_lasso_01012017.csv')"
   ]
  },
  {
   "cell_type": "code",
   "execution_count": 24,
   "metadata": {
    "collapsed": false
   },
   "outputs": [],
   "source": [
    "rf_lasso = lasso_pred['SalePrice'].values * 0.5 + pred * 0.5"
   ]
  },
  {
   "cell_type": "code",
   "execution_count": 25,
   "metadata": {
    "collapsed": false
   },
   "outputs": [
    {
     "data": {
      "text/html": [
       "<div>\n",
       "<table border=\"1\" class=\"dataframe\">\n",
       "  <thead>\n",
       "    <tr style=\"text-align: right;\">\n",
       "      <th></th>\n",
       "      <th>Id</th>\n",
       "      <th>SalePrice</th>\n",
       "    </tr>\n",
       "  </thead>\n",
       "  <tbody>\n",
       "    <tr>\n",
       "      <th>0</th>\n",
       "      <td>1461</td>\n",
       "      <td>125001.933136</td>\n",
       "    </tr>\n",
       "    <tr>\n",
       "      <th>1</th>\n",
       "      <td>1462</td>\n",
       "      <td>151105.028518</td>\n",
       "    </tr>\n",
       "    <tr>\n",
       "      <th>2</th>\n",
       "      <td>1463</td>\n",
       "      <td>181163.154671</td>\n",
       "    </tr>\n",
       "    <tr>\n",
       "      <th>3</th>\n",
       "      <td>1464</td>\n",
       "      <td>191091.480671</td>\n",
       "    </tr>\n",
       "    <tr>\n",
       "      <th>4</th>\n",
       "      <td>1465</td>\n",
       "      <td>198845.874390</td>\n",
       "    </tr>\n",
       "  </tbody>\n",
       "</table>\n",
       "</div>"
      ],
      "text/plain": [
       "     Id      SalePrice\n",
       "0  1461  125001.933136\n",
       "1  1462  151105.028518\n",
       "2  1463  181163.154671\n",
       "3  1464  191091.480671\n",
       "4  1465  198845.874390"
      ]
     },
     "execution_count": 25,
     "metadata": {},
     "output_type": "execute_result"
    }
   ],
   "source": [
    "rf_lasso_prediction = pd.DataFrame({'Id': house_prices_test['Id'], 'SalePrice': rf_lasso})\n",
    "rf_lasso_prediction.head(5)"
   ]
  },
  {
   "cell_type": "code",
   "execution_count": 26,
   "metadata": {
    "collapsed": true
   },
   "outputs": [],
   "source": [
    "rf_lasso_prediction.to_csv('kaggle_submission_rf_lasso_01012017.csv', index=False)"
   ]
  },
  {
   "cell_type": "code",
   "execution_count": null,
   "metadata": {
    "collapsed": true
   },
   "outputs": [],
   "source": []
  }
 ],
 "metadata": {
  "anaconda-cloud": {},
  "kernelspec": {
   "display_name": "Python [conda root]",
   "language": "python",
   "name": "conda-root-py"
  },
  "language_info": {
   "codemirror_mode": {
    "name": "ipython",
    "version": 2
   },
   "file_extension": ".py",
   "mimetype": "text/x-python",
   "name": "python",
   "nbconvert_exporter": "python",
   "pygments_lexer": "ipython2",
   "version": "2.7.12"
  }
 },
 "nbformat": 4,
 "nbformat_minor": 1
}
