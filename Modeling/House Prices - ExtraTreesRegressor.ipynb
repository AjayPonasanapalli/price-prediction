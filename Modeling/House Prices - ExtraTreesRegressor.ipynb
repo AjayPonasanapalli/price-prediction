{
 "cells": [
  {
   "cell_type": "code",
   "execution_count": 1,
   "metadata": {
    "collapsed": false
   },
   "outputs": [],
   "source": [
    "import pandas as pd \n",
    "import sklearn\n",
    "import seaborn as sea\n",
    "import numpy as np\n",
    "from scipy import stats\n",
    "import matplotlib.pyplot as plt\n",
    "import xgboost as xgb\n",
    "import warnings\n",
    "warnings.filterwarnings('ignore')"
   ]
  },
  {
   "cell_type": "markdown",
   "metadata": {},
   "source": [
    "## Load in the data"
   ]
  },
  {
   "cell_type": "code",
   "execution_count": 2,
   "metadata": {
    "collapsed": false
   },
   "outputs": [
    {
     "data": {
      "text/html": [
       "<div>\n",
       "<table border=\"1\" class=\"dataframe\">\n",
       "  <thead>\n",
       "    <tr style=\"text-align: right;\">\n",
       "      <th></th>\n",
       "      <th>Id</th>\n",
       "      <th>MSSubClass</th>\n",
       "      <th>MSZoning</th>\n",
       "      <th>LotFrontage</th>\n",
       "      <th>LotArea</th>\n",
       "      <th>Street</th>\n",
       "      <th>Alley</th>\n",
       "      <th>LotShape</th>\n",
       "      <th>LandContour</th>\n",
       "      <th>Utilities</th>\n",
       "      <th>...</th>\n",
       "      <th>PoolArea</th>\n",
       "      <th>PoolQC</th>\n",
       "      <th>Fence</th>\n",
       "      <th>MiscFeature</th>\n",
       "      <th>MiscVal</th>\n",
       "      <th>MoSold</th>\n",
       "      <th>YrSold</th>\n",
       "      <th>SaleType</th>\n",
       "      <th>SaleCondition</th>\n",
       "      <th>SalePrice</th>\n",
       "    </tr>\n",
       "  </thead>\n",
       "  <tbody>\n",
       "    <tr>\n",
       "      <th>0</th>\n",
       "      <td>1</td>\n",
       "      <td>60</td>\n",
       "      <td>RL</td>\n",
       "      <td>65.0</td>\n",
       "      <td>8450</td>\n",
       "      <td>Pave</td>\n",
       "      <td>NaN</td>\n",
       "      <td>Reg</td>\n",
       "      <td>Lvl</td>\n",
       "      <td>AllPub</td>\n",
       "      <td>...</td>\n",
       "      <td>0</td>\n",
       "      <td>NaN</td>\n",
       "      <td>NaN</td>\n",
       "      <td>NaN</td>\n",
       "      <td>0</td>\n",
       "      <td>2</td>\n",
       "      <td>2008</td>\n",
       "      <td>WD</td>\n",
       "      <td>Normal</td>\n",
       "      <td>208500</td>\n",
       "    </tr>\n",
       "    <tr>\n",
       "      <th>1</th>\n",
       "      <td>2</td>\n",
       "      <td>20</td>\n",
       "      <td>RL</td>\n",
       "      <td>80.0</td>\n",
       "      <td>9600</td>\n",
       "      <td>Pave</td>\n",
       "      <td>NaN</td>\n",
       "      <td>Reg</td>\n",
       "      <td>Lvl</td>\n",
       "      <td>AllPub</td>\n",
       "      <td>...</td>\n",
       "      <td>0</td>\n",
       "      <td>NaN</td>\n",
       "      <td>NaN</td>\n",
       "      <td>NaN</td>\n",
       "      <td>0</td>\n",
       "      <td>5</td>\n",
       "      <td>2007</td>\n",
       "      <td>WD</td>\n",
       "      <td>Normal</td>\n",
       "      <td>181500</td>\n",
       "    </tr>\n",
       "  </tbody>\n",
       "</table>\n",
       "<p>2 rows × 81 columns</p>\n",
       "</div>"
      ],
      "text/plain": [
       "   Id  MSSubClass MSZoning  LotFrontage  LotArea Street Alley LotShape  \\\n",
       "0   1          60       RL         65.0     8450   Pave   NaN      Reg   \n",
       "1   2          20       RL         80.0     9600   Pave   NaN      Reg   \n",
       "\n",
       "  LandContour Utilities    ...     PoolArea PoolQC Fence MiscFeature MiscVal  \\\n",
       "0         Lvl    AllPub    ...            0    NaN   NaN         NaN       0   \n",
       "1         Lvl    AllPub    ...            0    NaN   NaN         NaN       0   \n",
       "\n",
       "  MoSold YrSold  SaleType  SaleCondition  SalePrice  \n",
       "0      2   2008        WD         Normal     208500  \n",
       "1      5   2007        WD         Normal     181500  \n",
       "\n",
       "[2 rows x 81 columns]"
      ]
     },
     "execution_count": 2,
     "metadata": {},
     "output_type": "execute_result"
    }
   ],
   "source": [
    "house_prices_train = pd.read_csv('train.csv')\n",
    "house_prices_test = pd.read_csv('test.csv')\n",
    "house_prices_train.head(2)"
   ]
  },
  {
   "cell_type": "code",
   "execution_count": 3,
   "metadata": {
    "collapsed": false
   },
   "outputs": [
    {
     "data": {
      "text/plain": [
       "((1460, 81), (1459, 80))"
      ]
     },
     "execution_count": 3,
     "metadata": {},
     "output_type": "execute_result"
    }
   ],
   "source": [
    "house_prices_train.shape, house_prices_test.shape"
   ]
  },
  {
   "cell_type": "code",
   "execution_count": 4,
   "metadata": {
    "collapsed": false
   },
   "outputs": [],
   "source": [
    "train = pd.read_csv('train_engineered2_poly.csv')\n",
    "test = pd.read_csv('test_engineered2_poly.csv')\n",
    "output = pd.read_csv('output_engineered2_poly.csv', header=None)"
   ]
  },
  {
   "cell_type": "code",
   "execution_count": 5,
   "metadata": {
    "collapsed": false
   },
   "outputs": [
    {
     "data": {
      "text/html": [
       "<div>\n",
       "<table border=\"1\" class=\"dataframe\">\n",
       "  <thead>\n",
       "    <tr style=\"text-align: right;\">\n",
       "      <th></th>\n",
       "      <th>Unnamed: 0</th>\n",
       "      <th>LotFrontage</th>\n",
       "      <th>LotArea</th>\n",
       "      <th>OverallQual</th>\n",
       "      <th>OverallCond</th>\n",
       "      <th>YearBuilt</th>\n",
       "      <th>YearRemodAdd</th>\n",
       "      <th>MasVnrArea</th>\n",
       "      <th>BsmtFinSF1</th>\n",
       "      <th>BsmtFinSF2</th>\n",
       "      <th>...</th>\n",
       "      <th>WoodDeckSF**2</th>\n",
       "      <th>OpenPorchSF**2</th>\n",
       "      <th>EnclosedPorch**2</th>\n",
       "      <th>3SsnPorch**2</th>\n",
       "      <th>ScreenPorch**2</th>\n",
       "      <th>PoolArea**2</th>\n",
       "      <th>MiscFeature_Gar2**2</th>\n",
       "      <th>MiscFeature_Othr**2</th>\n",
       "      <th>MiscFeature_Shed**2</th>\n",
       "      <th>MiscFeature_TenC**2</th>\n",
       "    </tr>\n",
       "  </thead>\n",
       "  <tbody>\n",
       "    <tr>\n",
       "      <th>0</th>\n",
       "      <td>0</td>\n",
       "      <td>4.189655</td>\n",
       "      <td>9.042040</td>\n",
       "      <td>7</td>\n",
       "      <td>5</td>\n",
       "      <td>2003</td>\n",
       "      <td>2003</td>\n",
       "      <td>5.283204</td>\n",
       "      <td>6.561031</td>\n",
       "      <td>0.0</td>\n",
       "      <td>...</td>\n",
       "      <td>0.000000</td>\n",
       "      <td>17.033238</td>\n",
       "      <td>0.0</td>\n",
       "      <td>0.0</td>\n",
       "      <td>0.0</td>\n",
       "      <td>0.0</td>\n",
       "      <td>0.0</td>\n",
       "      <td>0.0</td>\n",
       "      <td>0.0</td>\n",
       "      <td>0.0</td>\n",
       "    </tr>\n",
       "    <tr>\n",
       "      <th>1</th>\n",
       "      <td>1</td>\n",
       "      <td>4.394449</td>\n",
       "      <td>9.169623</td>\n",
       "      <td>6</td>\n",
       "      <td>8</td>\n",
       "      <td>1976</td>\n",
       "      <td>1976</td>\n",
       "      <td>0.000000</td>\n",
       "      <td>6.886532</td>\n",
       "      <td>0.0</td>\n",
       "      <td>...</td>\n",
       "      <td>32.495057</td>\n",
       "      <td>0.000000</td>\n",
       "      <td>0.0</td>\n",
       "      <td>0.0</td>\n",
       "      <td>0.0</td>\n",
       "      <td>0.0</td>\n",
       "      <td>0.0</td>\n",
       "      <td>0.0</td>\n",
       "      <td>0.0</td>\n",
       "      <td>0.0</td>\n",
       "    </tr>\n",
       "  </tbody>\n",
       "</table>\n",
       "<p>2 rows × 326 columns</p>\n",
       "</div>"
      ],
      "text/plain": [
       "   Unnamed: 0  LotFrontage   LotArea  OverallQual  OverallCond  YearBuilt  \\\n",
       "0           0     4.189655  9.042040            7            5       2003   \n",
       "1           1     4.394449  9.169623            6            8       1976   \n",
       "\n",
       "   YearRemodAdd  MasVnrArea  BsmtFinSF1  BsmtFinSF2         ...           \\\n",
       "0          2003    5.283204    6.561031         0.0         ...            \n",
       "1          1976    0.000000    6.886532         0.0         ...            \n",
       "\n",
       "   WoodDeckSF**2  OpenPorchSF**2  EnclosedPorch**2  3SsnPorch**2  \\\n",
       "0       0.000000       17.033238               0.0           0.0   \n",
       "1      32.495057        0.000000               0.0           0.0   \n",
       "\n",
       "   ScreenPorch**2  PoolArea**2  MiscFeature_Gar2**2  MiscFeature_Othr**2  \\\n",
       "0             0.0          0.0                  0.0                  0.0   \n",
       "1             0.0          0.0                  0.0                  0.0   \n",
       "\n",
       "   MiscFeature_Shed**2  MiscFeature_TenC**2  \n",
       "0                  0.0                  0.0  \n",
       "1                  0.0                  0.0  \n",
       "\n",
       "[2 rows x 326 columns]"
      ]
     },
     "execution_count": 5,
     "metadata": {},
     "output_type": "execute_result"
    }
   ],
   "source": [
    "train.head(2)"
   ]
  },
  {
   "cell_type": "code",
   "execution_count": 6,
   "metadata": {
    "collapsed": false
   },
   "outputs": [
    {
     "data": {
      "text/html": [
       "<div>\n",
       "<table border=\"1\" class=\"dataframe\">\n",
       "  <thead>\n",
       "    <tr style=\"text-align: right;\">\n",
       "      <th></th>\n",
       "      <th>Unnamed: 0</th>\n",
       "      <th>LotFrontage</th>\n",
       "      <th>LotArea</th>\n",
       "      <th>OverallQual</th>\n",
       "      <th>OverallCond</th>\n",
       "      <th>YearBuilt</th>\n",
       "      <th>YearRemodAdd</th>\n",
       "      <th>MasVnrArea</th>\n",
       "      <th>BsmtFinSF1</th>\n",
       "      <th>BsmtFinSF2</th>\n",
       "      <th>...</th>\n",
       "      <th>WoodDeckSF**2</th>\n",
       "      <th>OpenPorchSF**2</th>\n",
       "      <th>EnclosedPorch**2</th>\n",
       "      <th>3SsnPorch**2</th>\n",
       "      <th>ScreenPorch**2</th>\n",
       "      <th>PoolArea**2</th>\n",
       "      <th>MiscFeature_Gar2**2</th>\n",
       "      <th>MiscFeature_Othr**2</th>\n",
       "      <th>MiscFeature_Shed**2</th>\n",
       "      <th>MiscFeature_TenC**2</th>\n",
       "    </tr>\n",
       "  </thead>\n",
       "  <tbody>\n",
       "    <tr>\n",
       "      <th>0</th>\n",
       "      <td>0</td>\n",
       "      <td>4.394449</td>\n",
       "      <td>9.360741</td>\n",
       "      <td>5</td>\n",
       "      <td>6</td>\n",
       "      <td>1961</td>\n",
       "      <td>1961</td>\n",
       "      <td>0.000000</td>\n",
       "      <td>6.150603</td>\n",
       "      <td>4.976734</td>\n",
       "      <td>...</td>\n",
       "      <td>24.490224</td>\n",
       "      <td>0.000000</td>\n",
       "      <td>0.0</td>\n",
       "      <td>0.0</td>\n",
       "      <td>22.999607</td>\n",
       "      <td>0.0</td>\n",
       "      <td>0.000000</td>\n",
       "      <td>0.0</td>\n",
       "      <td>0.0</td>\n",
       "      <td>0.0</td>\n",
       "    </tr>\n",
       "    <tr>\n",
       "      <th>1</th>\n",
       "      <td>1</td>\n",
       "      <td>4.406719</td>\n",
       "      <td>9.565775</td>\n",
       "      <td>6</td>\n",
       "      <td>6</td>\n",
       "      <td>1958</td>\n",
       "      <td>1958</td>\n",
       "      <td>4.691348</td>\n",
       "      <td>6.828712</td>\n",
       "      <td>0.000000</td>\n",
       "      <td>...</td>\n",
       "      <td>35.716770</td>\n",
       "      <td>13.038728</td>\n",
       "      <td>0.0</td>\n",
       "      <td>0.0</td>\n",
       "      <td>0.000000</td>\n",
       "      <td>0.0</td>\n",
       "      <td>88.992128</td>\n",
       "      <td>0.0</td>\n",
       "      <td>0.0</td>\n",
       "      <td>0.0</td>\n",
       "    </tr>\n",
       "  </tbody>\n",
       "</table>\n",
       "<p>2 rows × 326 columns</p>\n",
       "</div>"
      ],
      "text/plain": [
       "   Unnamed: 0  LotFrontage   LotArea  OverallQual  OverallCond  YearBuilt  \\\n",
       "0           0     4.394449  9.360741            5            6       1961   \n",
       "1           1     4.406719  9.565775            6            6       1958   \n",
       "\n",
       "   YearRemodAdd  MasVnrArea  BsmtFinSF1  BsmtFinSF2         ...           \\\n",
       "0          1961    0.000000    6.150603    4.976734         ...            \n",
       "1          1958    4.691348    6.828712    0.000000         ...            \n",
       "\n",
       "   WoodDeckSF**2  OpenPorchSF**2  EnclosedPorch**2  3SsnPorch**2  \\\n",
       "0      24.490224        0.000000               0.0           0.0   \n",
       "1      35.716770       13.038728               0.0           0.0   \n",
       "\n",
       "   ScreenPorch**2  PoolArea**2  MiscFeature_Gar2**2  MiscFeature_Othr**2  \\\n",
       "0       22.999607          0.0             0.000000                  0.0   \n",
       "1        0.000000          0.0            88.992128                  0.0   \n",
       "\n",
       "   MiscFeature_Shed**2  MiscFeature_TenC**2  \n",
       "0                  0.0                  0.0  \n",
       "1                  0.0                  0.0  \n",
       "\n",
       "[2 rows x 326 columns]"
      ]
     },
     "execution_count": 6,
     "metadata": {},
     "output_type": "execute_result"
    }
   ],
   "source": [
    "test.head(2)"
   ]
  },
  {
   "cell_type": "code",
   "execution_count": 7,
   "metadata": {
    "collapsed": false
   },
   "outputs": [],
   "source": [
    "train.drop(\"Unnamed: 0\", axis=1, inplace=True)\n",
    "test.drop(\"Unnamed: 0\", axis=1, inplace=True)"
   ]
  },
  {
   "cell_type": "code",
   "execution_count": 8,
   "metadata": {
    "collapsed": false
   },
   "outputs": [
    {
     "data": {
      "text/html": [
       "<div>\n",
       "<table border=\"1\" class=\"dataframe\">\n",
       "  <thead>\n",
       "    <tr style=\"text-align: right;\">\n",
       "      <th></th>\n",
       "      <th>LotFrontage</th>\n",
       "      <th>LotArea</th>\n",
       "      <th>OverallQual</th>\n",
       "      <th>OverallCond</th>\n",
       "      <th>YearBuilt</th>\n",
       "      <th>YearRemodAdd</th>\n",
       "      <th>MasVnrArea</th>\n",
       "      <th>BsmtFinSF1</th>\n",
       "      <th>BsmtFinSF2</th>\n",
       "      <th>BsmtUnfSF</th>\n",
       "      <th>...</th>\n",
       "      <th>WoodDeckSF**2</th>\n",
       "      <th>OpenPorchSF**2</th>\n",
       "      <th>EnclosedPorch**2</th>\n",
       "      <th>3SsnPorch**2</th>\n",
       "      <th>ScreenPorch**2</th>\n",
       "      <th>PoolArea**2</th>\n",
       "      <th>MiscFeature_Gar2**2</th>\n",
       "      <th>MiscFeature_Othr**2</th>\n",
       "      <th>MiscFeature_Shed**2</th>\n",
       "      <th>MiscFeature_TenC**2</th>\n",
       "    </tr>\n",
       "  </thead>\n",
       "  <tbody>\n",
       "    <tr>\n",
       "      <th>0</th>\n",
       "      <td>4.189655</td>\n",
       "      <td>9.042040</td>\n",
       "      <td>7</td>\n",
       "      <td>5</td>\n",
       "      <td>2003</td>\n",
       "      <td>2003</td>\n",
       "      <td>5.283204</td>\n",
       "      <td>6.561031</td>\n",
       "      <td>0.0</td>\n",
       "      <td>5.017280</td>\n",
       "      <td>...</td>\n",
       "      <td>0.000000</td>\n",
       "      <td>17.033238</td>\n",
       "      <td>0.0</td>\n",
       "      <td>0.0</td>\n",
       "      <td>0.0</td>\n",
       "      <td>0.0</td>\n",
       "      <td>0.0</td>\n",
       "      <td>0.0</td>\n",
       "      <td>0.0</td>\n",
       "      <td>0.0</td>\n",
       "    </tr>\n",
       "    <tr>\n",
       "      <th>1</th>\n",
       "      <td>4.394449</td>\n",
       "      <td>9.169623</td>\n",
       "      <td>6</td>\n",
       "      <td>8</td>\n",
       "      <td>1976</td>\n",
       "      <td>1976</td>\n",
       "      <td>0.000000</td>\n",
       "      <td>6.886532</td>\n",
       "      <td>0.0</td>\n",
       "      <td>5.652489</td>\n",
       "      <td>...</td>\n",
       "      <td>32.495057</td>\n",
       "      <td>0.000000</td>\n",
       "      <td>0.0</td>\n",
       "      <td>0.0</td>\n",
       "      <td>0.0</td>\n",
       "      <td>0.0</td>\n",
       "      <td>0.0</td>\n",
       "      <td>0.0</td>\n",
       "      <td>0.0</td>\n",
       "      <td>0.0</td>\n",
       "    </tr>\n",
       "  </tbody>\n",
       "</table>\n",
       "<p>2 rows × 325 columns</p>\n",
       "</div>"
      ],
      "text/plain": [
       "   LotFrontage   LotArea  OverallQual  OverallCond  YearBuilt  YearRemodAdd  \\\n",
       "0     4.189655  9.042040            7            5       2003          2003   \n",
       "1     4.394449  9.169623            6            8       1976          1976   \n",
       "\n",
       "   MasVnrArea  BsmtFinSF1  BsmtFinSF2  BsmtUnfSF         ...           \\\n",
       "0    5.283204    6.561031         0.0   5.017280         ...            \n",
       "1    0.000000    6.886532         0.0   5.652489         ...            \n",
       "\n",
       "   WoodDeckSF**2  OpenPorchSF**2  EnclosedPorch**2  3SsnPorch**2  \\\n",
       "0       0.000000       17.033238               0.0           0.0   \n",
       "1      32.495057        0.000000               0.0           0.0   \n",
       "\n",
       "   ScreenPorch**2  PoolArea**2  MiscFeature_Gar2**2  MiscFeature_Othr**2  \\\n",
       "0             0.0          0.0                  0.0                  0.0   \n",
       "1             0.0          0.0                  0.0                  0.0   \n",
       "\n",
       "   MiscFeature_Shed**2  MiscFeature_TenC**2  \n",
       "0                  0.0                  0.0  \n",
       "1                  0.0                  0.0  \n",
       "\n",
       "[2 rows x 325 columns]"
      ]
     },
     "execution_count": 8,
     "metadata": {},
     "output_type": "execute_result"
    }
   ],
   "source": [
    "train.head(2)"
   ]
  },
  {
   "cell_type": "code",
   "execution_count": 9,
   "metadata": {
    "collapsed": false
   },
   "outputs": [
    {
     "data": {
      "text/html": [
       "<div>\n",
       "<table border=\"1\" class=\"dataframe\">\n",
       "  <thead>\n",
       "    <tr style=\"text-align: right;\">\n",
       "      <th></th>\n",
       "      <th>LotFrontage</th>\n",
       "      <th>LotArea</th>\n",
       "      <th>OverallQual</th>\n",
       "      <th>OverallCond</th>\n",
       "      <th>YearBuilt</th>\n",
       "      <th>YearRemodAdd</th>\n",
       "      <th>MasVnrArea</th>\n",
       "      <th>BsmtFinSF1</th>\n",
       "      <th>BsmtFinSF2</th>\n",
       "      <th>BsmtUnfSF</th>\n",
       "      <th>...</th>\n",
       "      <th>WoodDeckSF**2</th>\n",
       "      <th>OpenPorchSF**2</th>\n",
       "      <th>EnclosedPorch**2</th>\n",
       "      <th>3SsnPorch**2</th>\n",
       "      <th>ScreenPorch**2</th>\n",
       "      <th>PoolArea**2</th>\n",
       "      <th>MiscFeature_Gar2**2</th>\n",
       "      <th>MiscFeature_Othr**2</th>\n",
       "      <th>MiscFeature_Shed**2</th>\n",
       "      <th>MiscFeature_TenC**2</th>\n",
       "    </tr>\n",
       "  </thead>\n",
       "  <tbody>\n",
       "    <tr>\n",
       "      <th>0</th>\n",
       "      <td>4.394449</td>\n",
       "      <td>9.360741</td>\n",
       "      <td>5</td>\n",
       "      <td>6</td>\n",
       "      <td>1961</td>\n",
       "      <td>1961</td>\n",
       "      <td>0.000000</td>\n",
       "      <td>6.150603</td>\n",
       "      <td>4.976734</td>\n",
       "      <td>5.602119</td>\n",
       "      <td>...</td>\n",
       "      <td>24.490224</td>\n",
       "      <td>0.000000</td>\n",
       "      <td>0.0</td>\n",
       "      <td>0.0</td>\n",
       "      <td>22.999607</td>\n",
       "      <td>0.0</td>\n",
       "      <td>0.000000</td>\n",
       "      <td>0.0</td>\n",
       "      <td>0.0</td>\n",
       "      <td>0.0</td>\n",
       "    </tr>\n",
       "    <tr>\n",
       "      <th>1</th>\n",
       "      <td>4.406719</td>\n",
       "      <td>9.565775</td>\n",
       "      <td>6</td>\n",
       "      <td>6</td>\n",
       "      <td>1958</td>\n",
       "      <td>1958</td>\n",
       "      <td>4.691348</td>\n",
       "      <td>6.828712</td>\n",
       "      <td>0.000000</td>\n",
       "      <td>6.008813</td>\n",
       "      <td>...</td>\n",
       "      <td>35.716770</td>\n",
       "      <td>13.038728</td>\n",
       "      <td>0.0</td>\n",
       "      <td>0.0</td>\n",
       "      <td>0.000000</td>\n",
       "      <td>0.0</td>\n",
       "      <td>88.992128</td>\n",
       "      <td>0.0</td>\n",
       "      <td>0.0</td>\n",
       "      <td>0.0</td>\n",
       "    </tr>\n",
       "  </tbody>\n",
       "</table>\n",
       "<p>2 rows × 325 columns</p>\n",
       "</div>"
      ],
      "text/plain": [
       "   LotFrontage   LotArea  OverallQual  OverallCond  YearBuilt  YearRemodAdd  \\\n",
       "0     4.394449  9.360741            5            6       1961          1961   \n",
       "1     4.406719  9.565775            6            6       1958          1958   \n",
       "\n",
       "   MasVnrArea  BsmtFinSF1  BsmtFinSF2  BsmtUnfSF         ...           \\\n",
       "0    0.000000    6.150603    4.976734   5.602119         ...            \n",
       "1    4.691348    6.828712    0.000000   6.008813         ...            \n",
       "\n",
       "   WoodDeckSF**2  OpenPorchSF**2  EnclosedPorch**2  3SsnPorch**2  \\\n",
       "0      24.490224        0.000000               0.0           0.0   \n",
       "1      35.716770       13.038728               0.0           0.0   \n",
       "\n",
       "   ScreenPorch**2  PoolArea**2  MiscFeature_Gar2**2  MiscFeature_Othr**2  \\\n",
       "0       22.999607          0.0             0.000000                  0.0   \n",
       "1        0.000000          0.0            88.992128                  0.0   \n",
       "\n",
       "   MiscFeature_Shed**2  MiscFeature_TenC**2  \n",
       "0                  0.0                  0.0  \n",
       "1                  0.0                  0.0  \n",
       "\n",
       "[2 rows x 325 columns]"
      ]
     },
     "execution_count": 9,
     "metadata": {},
     "output_type": "execute_result"
    }
   ],
   "source": [
    "test.head(2)"
   ]
  },
  {
   "cell_type": "code",
   "execution_count": 10,
   "metadata": {
    "collapsed": false
   },
   "outputs": [
    {
     "data": {
      "text/html": [
       "<div>\n",
       "<table border=\"1\" class=\"dataframe\">\n",
       "  <thead>\n",
       "    <tr style=\"text-align: right;\">\n",
       "      <th></th>\n",
       "      <th>0</th>\n",
       "      <th>1</th>\n",
       "    </tr>\n",
       "  </thead>\n",
       "  <tbody>\n",
       "    <tr>\n",
       "      <th>0</th>\n",
       "      <td>NaN</td>\n",
       "      <td>log_SalePrice</td>\n",
       "    </tr>\n",
       "    <tr>\n",
       "      <th>1</th>\n",
       "      <td>0.0</td>\n",
       "      <td>12.2476991164</td>\n",
       "    </tr>\n",
       "    <tr>\n",
       "      <th>2</th>\n",
       "      <td>1.0</td>\n",
       "      <td>12.1090164423</td>\n",
       "    </tr>\n",
       "    <tr>\n",
       "      <th>3</th>\n",
       "      <td>2.0</td>\n",
       "      <td>12.3171711673</td>\n",
       "    </tr>\n",
       "    <tr>\n",
       "      <th>4</th>\n",
       "      <td>3.0</td>\n",
       "      <td>11.8494048444</td>\n",
       "    </tr>\n",
       "  </tbody>\n",
       "</table>\n",
       "</div>"
      ],
      "text/plain": [
       "     0              1\n",
       "0  NaN  log_SalePrice\n",
       "1  0.0  12.2476991164\n",
       "2  1.0  12.1090164423\n",
       "3  2.0  12.3171711673\n",
       "4  3.0  11.8494048444"
      ]
     },
     "execution_count": 10,
     "metadata": {},
     "output_type": "execute_result"
    }
   ],
   "source": [
    "output.head(5)"
   ]
  },
  {
   "cell_type": "code",
   "execution_count": 11,
   "metadata": {
    "collapsed": false
   },
   "outputs": [
    {
     "name": "stdout",
     "output_type": "stream",
     "text": [
      "(1434, 325) (1459, 325) (1434, 1)\n"
     ]
    }
   ],
   "source": [
    "output.drop(0, axis=1, inplace=True)\n",
    "output.rename(columns={1: \"log_SalePrice\"}, inplace=True)\n",
    "output.drop(0,axis=0,inplace=True)\n",
    "output.head(2)\n",
    "print train.shape, test.shape, output.shape"
   ]
  },
  {
   "cell_type": "code",
   "execution_count": 12,
   "metadata": {
    "collapsed": false
   },
   "outputs": [
    {
     "data": {
      "text/html": [
       "<div>\n",
       "<table border=\"1\" class=\"dataframe\">\n",
       "  <thead>\n",
       "    <tr style=\"text-align: right;\">\n",
       "      <th></th>\n",
       "      <th>log_SalePrice</th>\n",
       "    </tr>\n",
       "  </thead>\n",
       "  <tbody>\n",
       "    <tr>\n",
       "      <th>1</th>\n",
       "      <td>12.2476991164</td>\n",
       "    </tr>\n",
       "    <tr>\n",
       "      <th>2</th>\n",
       "      <td>12.1090164423</td>\n",
       "    </tr>\n",
       "    <tr>\n",
       "      <th>3</th>\n",
       "      <td>12.3171711673</td>\n",
       "    </tr>\n",
       "    <tr>\n",
       "      <th>4</th>\n",
       "      <td>11.8494048444</td>\n",
       "    </tr>\n",
       "    <tr>\n",
       "      <th>5</th>\n",
       "      <td>12.4292201968</td>\n",
       "    </tr>\n",
       "  </tbody>\n",
       "</table>\n",
       "</div>"
      ],
      "text/plain": [
       "   log_SalePrice\n",
       "1  12.2476991164\n",
       "2  12.1090164423\n",
       "3  12.3171711673\n",
       "4  11.8494048444\n",
       "5  12.4292201968"
      ]
     },
     "execution_count": 12,
     "metadata": {},
     "output_type": "execute_result"
    }
   ],
   "source": [
    "output.head(5)"
   ]
  },
  {
   "cell_type": "markdown",
   "metadata": {},
   "source": [
    "## ExtraTreesRegressor"
   ]
  },
  {
   "cell_type": "code",
   "execution_count": 13,
   "metadata": {
    "collapsed": false
   },
   "outputs": [],
   "source": [
    "#Import libraries:\n",
    "from sklearn.ensemble import ExtraTreesRegressor  #GBM algorithm\n",
    "from sklearn import model_selection, metrics   #Additional scklearn functions\n",
    "from sklearn.grid_search import GridSearchCV   #Performing grid search\n",
    "from sklearn.grid_search import RandomizedSearchCV\n",
    "\n",
    "import matplotlib.pylab as plt\n",
    "%matplotlib inline\n",
    "from matplotlib.pylab import rcParams\n",
    "rcParams['figure.figsize'] = 12, 4"
   ]
  },
  {
   "cell_type": "markdown",
   "metadata": {},
   "source": [
    "### Function to fit model and do Cross Validation for error calculation"
   ]
  },
  {
   "cell_type": "code",
   "execution_count": 14,
   "metadata": {
    "collapsed": false
   },
   "outputs": [],
   "source": [
    "def modelfit(model, dtrain, features, output, performCV=True, printFeatureImportance=True, cv_folds=5):\n",
    "    #Fit the algorithm on the data\n",
    "    model.fit(dtrain[features], output)\n",
    "        \n",
    "    #Predict training set:\n",
    "    dtrain_predictions = model.predict(dtrain[features])\n",
    "    #dtrain_predprob = model.predict_proba(dtrain[features])[:,1]\n",
    "    \n",
    "    #Perform cross-validation:\n",
    "    if performCV:\n",
    "        cv_score = model_selection.cross_val_score(model, dtrain[features], output, cv=cv_folds)\n",
    "    \n",
    "    #Print model report:\n",
    "    print \"\\nModel Report\"\n",
    "    print \"R-Square: %.3f\" % metrics.r2_score(output, dtrain_predictions)\n",
    "    print \"RMSE : %.3f\" % np.sqrt(metrics.mean_squared_error(output, dtrain_predictions))\n",
    "    print\"cv_score: \"\n",
    "    print(cv_score)\n",
    "\n",
    "    if performCV:\n",
    "        print \"CV Score : Mean: %.7g | Std: %.7g | Min: %.7g | Max: %.7g\" % (np.mean(cv_score),np.std(cv_score),np.min(cv_score),np.max(cv_score))\n",
    "        \n",
    "    #Print Feature Importance:\n",
    "    if printFeatureImportance:\n",
    "        feat_imp = pd.Series(model.feature_importances_[0:30], features[0:30]).sort_values(ascending=False)\n",
    "        feat_imp.plot(kind='bar', title='Top 30 Feature Importances')\n",
    "        plt.ylabel('Features Importance Score')"
   ]
  },
  {
   "cell_type": "markdown",
   "metadata": {},
   "source": [
    "### Baseline Model"
   ]
  },
  {
   "cell_type": "code",
   "execution_count": 15,
   "metadata": {
    "collapsed": false
   },
   "outputs": [
    {
     "name": "stdout",
     "output_type": "stream",
     "text": [
      "(1434, 325) (1434, 1)\n",
      "\n",
      "Model Report\n",
      "R-Square: 1.000\n",
      "RMSE : 0.000\n",
      "cv_score: \n",
      "[ 0.87706385  0.87559537  0.83663131  0.88428036  0.85758818]\n",
      "CV Score : Mean: 0.8662318 | Std: 0.0172143 | Min: 0.8366313 | Max: 0.8842804\n"
     ]
    },
    {
     "data": {
      "image/png": "[encoded data removed]",
      "text/plain": [
       "<matplotlib.figure.Figure at 0x1107ce3d0>"
      ]
     },
     "metadata": {},
     "output_type": "display_data"
    }
   ],
   "source": [
    "#features = [x for x in train.columns if x not in ['SalePrice', 'log_SalePrice']]\n",
    "features = train.columns\n",
    "print train[features].shape, output.shape\n",
    "#print output\n",
    "trees = ExtraTreesRegressor(random_state=84)\n",
    "modelfit(trees, train, features, output, performCV=True, printFeatureImportance=True)"
   ]
  },
  {
   "cell_type": "markdown",
   "metadata": {},
   "source": [
    "Mean CV score is 0.8662318 and we should be able to do better so lets keep going! Also, it looks like it is overfitting to the training set looking at RMSE and R-Square."
   ]
  },
  {
   "cell_type": "markdown",
   "metadata": {},
   "source": [
    "### Parameter Tuning"
   ]
  },
  {
   "cell_type": "code",
   "execution_count": 20,
   "metadata": {
    "collapsed": false
   },
   "outputs": [
    {
     "data": {
      "text/plain": [
       "GridSearchCV(cv=5, error_score='raise',\n",
       "       estimator=ExtraTreesRegressor(bootstrap=False, criterion='mse', max_depth=None,\n",
       "          max_features='auto', max_leaf_nodes=None,\n",
       "          min_impurity_split=1e-07, min_samples_leaf=1,\n",
       "          min_samples_split=2, min_weight_fraction_leaf=0.0,\n",
       "          n_estimators=10, n_jobs=1, oob_score=False, random_state=77,\n",
       "          verbose=0, warm_start=False),\n",
       "       fit_params={}, iid=False, n_jobs=4,\n",
       "       param_grid={'n_estimators': [20, 30, 40, 50, 60, 70, 80, 90, 100, 110, 120, 130, 140, 150, 160, 170, 180, 190, 200, 210, 220, 230, 240, 250, 260, 270, 280, 290, 300, 310, 320, 330, 340]},\n",
       "       pre_dispatch='2*n_jobs', refit=True, scoring=None, verbose=0)"
      ]
     },
     "execution_count": 20,
     "metadata": {},
     "output_type": "execute_result"
    }
   ],
   "source": [
    "param_test1 = {'n_estimators': range(20,350,10)}\n",
    "gsearch1 = GridSearchCV(estimator = ExtraTreesRegressor(random_state=77), \n",
    "                                                        param_grid = param_test1, \n",
    "                                                        n_jobs=4,\n",
    "                                                        iid=False,\n",
    "                                                        cv=5)\n",
    "gsearch1.fit(train[features], output)"
   ]
  },
  {
   "cell_type": "code",
   "execution_count": 21,
   "metadata": {
    "collapsed": false
   },
   "outputs": [
    {
     "data": {
      "text/plain": [
       "([mean: 0.87553, std: 0.01812, params: {'n_estimators': 20},\n",
       "  mean: 0.87641, std: 0.02115, params: {'n_estimators': 30},\n",
       "  mean: 0.87974, std: 0.02045, params: {'n_estimators': 40},\n",
       "  mean: 0.88039, std: 0.02037, params: {'n_estimators': 50},\n",
       "  mean: 0.88097, std: 0.02055, params: {'n_estimators': 60},\n",
       "  mean: 0.88161, std: 0.02131, params: {'n_estimators': 70},\n",
       "  mean: 0.88149, std: 0.02213, params: {'n_estimators': 80},\n",
       "  mean: 0.88155, std: 0.02199, params: {'n_estimators': 90},\n",
       "  mean: 0.88191, std: 0.02203, params: {'n_estimators': 100},\n",
       "  mean: 0.88233, std: 0.02179, params: {'n_estimators': 110},\n",
       "  mean: 0.88213, std: 0.02208, params: {'n_estimators': 120},\n",
       "  mean: 0.88239, std: 0.02168, params: {'n_estimators': 130},\n",
       "  mean: 0.88230, std: 0.02174, params: {'n_estimators': 140},\n",
       "  mean: 0.88214, std: 0.02204, params: {'n_estimators': 150},\n",
       "  mean: 0.88219, std: 0.02225, params: {'n_estimators': 160},\n",
       "  mean: 0.88233, std: 0.02198, params: {'n_estimators': 170},\n",
       "  mean: 0.88247, std: 0.02176, params: {'n_estimators': 180},\n",
       "  mean: 0.88273, std: 0.02165, params: {'n_estimators': 190},\n",
       "  mean: 0.88290, std: 0.02178, params: {'n_estimators': 200},\n",
       "  mean: 0.88300, std: 0.02156, params: {'n_estimators': 210},\n",
       "  mean: 0.88321, std: 0.02159, params: {'n_estimators': 220},\n",
       "  mean: 0.88332, std: 0.02145, params: {'n_estimators': 230},\n",
       "  mean: 0.88357, std: 0.02131, params: {'n_estimators': 240},\n",
       "  mean: 0.88395, std: 0.02123, params: {'n_estimators': 250},\n",
       "  mean: 0.88403, std: 0.02148, params: {'n_estimators': 260},\n",
       "  mean: 0.88423, std: 0.02146, params: {'n_estimators': 270},\n",
       "  mean: 0.88428, std: 0.02140, params: {'n_estimators': 280},\n",
       "  mean: 0.88426, std: 0.02143, params: {'n_estimators': 290},\n",
       "  mean: 0.88418, std: 0.02155, params: {'n_estimators': 300},\n",
       "  mean: 0.88413, std: 0.02154, params: {'n_estimators': 310},\n",
       "  mean: 0.88427, std: 0.02158, params: {'n_estimators': 320},\n",
       "  mean: 0.88431, std: 0.02158, params: {'n_estimators': 330},\n",
       "  mean: 0.88427, std: 0.02150, params: {'n_estimators': 340}],\n",
       " {'n_estimators': 330},\n",
       " 0.8843064833874056)"
      ]
     },
     "execution_count": 21,
     "metadata": {},
     "output_type": "execute_result"
    }
   ],
   "source": [
    "gsearch1.grid_scores_, gsearch1.best_params_, gsearch1.best_score_"
   ]
  },
  {
   "cell_type": "markdown",
   "metadata": {},
   "source": [
    "### Tuning tree-specific parameters\n",
    "\n",
    "Now lets move onto tuning the tree parameters. I plan to do this in following stages:\n",
    "\n",
    "Tune max_depth and num_samples_split\n",
    "Tune min_samples_leaf\n",
    "Tune max_features"
   ]
  },
  {
   "cell_type": "code",
   "execution_count": 22,
   "metadata": {
    "collapsed": false
   },
   "outputs": [
    {
     "data": {
      "text/plain": [
       "{'n_estimators': 330}"
      ]
     },
     "execution_count": 22,
     "metadata": {},
     "output_type": "execute_result"
    }
   ],
   "source": [
    "gsearch1.best_params_"
   ]
  },
  {
   "cell_type": "code",
   "execution_count": 25,
   "metadata": {
    "collapsed": false
   },
   "outputs": [
    {
     "data": {
      "text/plain": [
       "([mean: 0.87226, std: 0.02004, params: {'min_samples_split': 0.001, 'max_depth': 8},\n",
       "  mean: 0.87117, std: 0.02083, params: {'min_samples_split': 0.0060000000000000001, 'max_depth': 8},\n",
       "  mean: 0.87698, std: 0.02023, params: {'min_samples_split': 0.001, 'max_depth': 9},\n",
       "  mean: 0.87484, std: 0.02151, params: {'min_samples_split': 0.0060000000000000001, 'max_depth': 9},\n",
       "  mean: 0.87935, std: 0.02117, params: {'min_samples_split': 0.001, 'max_depth': 10},\n",
       "  mean: 0.87923, std: 0.02141, params: {'min_samples_split': 0.0060000000000000001, 'max_depth': 10},\n",
       "  mean: 0.88152, std: 0.02083, params: {'min_samples_split': 0.001, 'max_depth': 11},\n",
       "  mean: 0.88036, std: 0.02106, params: {'min_samples_split': 0.0060000000000000001, 'max_depth': 11},\n",
       "  mean: 0.88327, std: 0.02121, params: {'min_samples_split': 0.001, 'max_depth': 12},\n",
       "  mean: 0.88171, std: 0.02221, params: {'min_samples_split': 0.0060000000000000001, 'max_depth': 12},\n",
       "  mean: 0.88405, std: 0.02192, params: {'min_samples_split': 0.001, 'max_depth': 13},\n",
       "  mean: 0.88310, std: 0.02081, params: {'min_samples_split': 0.0060000000000000001, 'max_depth': 13},\n",
       "  mean: 0.88399, std: 0.02169, params: {'min_samples_split': 0.001, 'max_depth': 14},\n",
       "  mean: 0.88255, std: 0.02165, params: {'min_samples_split': 0.0060000000000000001, 'max_depth': 14},\n",
       "  mean: 0.88372, std: 0.02167, params: {'min_samples_split': 0.001, 'max_depth': 15},\n",
       "  mean: 0.88262, std: 0.02053, params: {'min_samples_split': 0.0060000000000000001, 'max_depth': 15},\n",
       "  mean: 0.88559, std: 0.02069, params: {'min_samples_split': 0.001, 'max_depth': 16},\n",
       "  mean: 0.88363, std: 0.02185, params: {'min_samples_split': 0.0060000000000000001, 'max_depth': 16},\n",
       "  mean: 0.88392, std: 0.02142, params: {'min_samples_split': 0.001, 'max_depth': 17},\n",
       "  mean: 0.88366, std: 0.02188, params: {'min_samples_split': 0.0060000000000000001, 'max_depth': 17},\n",
       "  mean: 0.88442, std: 0.02087, params: {'min_samples_split': 0.001, 'max_depth': 18},\n",
       "  mean: 0.88295, std: 0.02117, params: {'min_samples_split': 0.0060000000000000001, 'max_depth': 18},\n",
       "  mean: 0.88486, std: 0.02121, params: {'min_samples_split': 0.001, 'max_depth': 19},\n",
       "  mean: 0.88409, std: 0.02167, params: {'min_samples_split': 0.0060000000000000001, 'max_depth': 19}],\n",
       " {'max_depth': 16, 'min_samples_split': 0.001},\n",
       " 0.8855929128440394)"
      ]
     },
     "execution_count": 25,
     "metadata": {},
     "output_type": "execute_result"
    }
   ],
   "source": [
    "param_test2 = {'max_depth': range(8,20,1), 'min_samples_split': np.arange(0.001, 0.011, 0.005)}\n",
    "gsearch2 = GridSearchCV(estimator = ExtraTreesRegressor(n_estimators=gsearch1.best_params_['n_estimators'],\n",
    "                                                        random_state=77), \n",
    "                                                        param_grid = param_test2, \n",
    "                                                        n_jobs=4,\n",
    "                                                        iid=False,\n",
    "                                                        cv=5)\n",
    "gsearch2.fit(train[features],output)\n",
    "gsearch2.grid_scores_, gsearch2.best_params_, gsearch2.best_score_"
   ]
  },
  {
   "cell_type": "code",
   "execution_count": 27,
   "metadata": {
    "collapsed": false
   },
   "outputs": [],
   "source": [
    "min_samples_split = gsearch2.best_params_['min_samples_split'] \n",
    "max_depth = gsearch2.best_params_['max_depth']\n",
    "n_estimators=gsearch1.best_params_['n_estimators'] "
   ]
  },
  {
   "cell_type": "code",
   "execution_count": 28,
   "metadata": {
    "collapsed": false
   },
   "outputs": [
    {
     "name": "stdout",
     "output_type": "stream",
     "text": [
      "0.001 16 330\n"
     ]
    }
   ],
   "source": [
    "print min_samples_split, max_depth, n_estimators"
   ]
  },
  {
   "cell_type": "code",
   "execution_count": 31,
   "metadata": {
    "collapsed": false
   },
   "outputs": [
    {
     "data": {
      "text/plain": [
       "([mean: 0.87349, std: 0.01734, params: {'max_features': 20, 'min_samples_leaf': 1},\n",
       "  mean: 0.83967, std: 0.02249, params: {'max_features': 20, 'min_samples_leaf': 6},\n",
       "  mean: 0.81362, std: 0.02381, params: {'max_features': 20, 'min_samples_leaf': 11},\n",
       "  mean: 0.79391, std: 0.02378, params: {'max_features': 20, 'min_samples_leaf': 16},\n",
       "  mean: 0.87475, std: 0.01713, params: {'max_features': 22, 'min_samples_leaf': 1},\n",
       "  mean: 0.84389, std: 0.02123, params: {'max_features': 22, 'min_samples_leaf': 6},\n",
       "  mean: 0.81853, std: 0.02283, params: {'max_features': 22, 'min_samples_leaf': 11},\n",
       "  mean: 0.79921, std: 0.02319, params: {'max_features': 22, 'min_samples_leaf': 16},\n",
       "  mean: 0.87627, std: 0.01876, params: {'max_features': 24, 'min_samples_leaf': 1},\n",
       "  mean: 0.84729, std: 0.02201, params: {'max_features': 24, 'min_samples_leaf': 6},\n",
       "  mean: 0.82393, std: 0.02368, params: {'max_features': 24, 'min_samples_leaf': 11},\n",
       "  mean: 0.80516, std: 0.02392, params: {'max_features': 24, 'min_samples_leaf': 16},\n",
       "  mean: 0.87714, std: 0.01848, params: {'max_features': 26, 'min_samples_leaf': 1},\n",
       "  mean: 0.84922, std: 0.02178, params: {'max_features': 26, 'min_samples_leaf': 6},\n",
       "  mean: 0.82545, std: 0.02248, params: {'max_features': 26, 'min_samples_leaf': 11},\n",
       "  mean: 0.80929, std: 0.02323, params: {'max_features': 26, 'min_samples_leaf': 16},\n",
       "  mean: 0.87820, std: 0.01800, params: {'max_features': 28, 'min_samples_leaf': 1},\n",
       "  mean: 0.85221, std: 0.02180, params: {'max_features': 28, 'min_samples_leaf': 6},\n",
       "  mean: 0.82912, std: 0.02370, params: {'max_features': 28, 'min_samples_leaf': 11},\n",
       "  mean: 0.81275, std: 0.02346, params: {'max_features': 28, 'min_samples_leaf': 16},\n",
       "  mean: 0.87898, std: 0.01745, params: {'max_features': 30, 'min_samples_leaf': 1},\n",
       "  mean: 0.85297, std: 0.02177, params: {'max_features': 30, 'min_samples_leaf': 6},\n",
       "  mean: 0.83209, std: 0.02331, params: {'max_features': 30, 'min_samples_leaf': 11},\n",
       "  mean: 0.81436, std: 0.02398, params: {'max_features': 30, 'min_samples_leaf': 16},\n",
       "  mean: 0.88048, std: 0.01811, params: {'max_features': 32, 'min_samples_leaf': 1},\n",
       "  mean: 0.85488, std: 0.02228, params: {'max_features': 32, 'min_samples_leaf': 6},\n",
       "  mean: 0.83420, std: 0.02359, params: {'max_features': 32, 'min_samples_leaf': 11},\n",
       "  mean: 0.81885, std: 0.02409, params: {'max_features': 32, 'min_samples_leaf': 16},\n",
       "  mean: 0.87917, std: 0.01891, params: {'max_features': 34, 'min_samples_leaf': 1},\n",
       "  mean: 0.85576, std: 0.02189, params: {'max_features': 34, 'min_samples_leaf': 6},\n",
       "  mean: 0.83561, std: 0.02286, params: {'max_features': 34, 'min_samples_leaf': 11},\n",
       "  mean: 0.81836, std: 0.02478, params: {'max_features': 34, 'min_samples_leaf': 16},\n",
       "  mean: 0.88141, std: 0.01850, params: {'max_features': 36, 'min_samples_leaf': 1},\n",
       "  mean: 0.85809, std: 0.02120, params: {'max_features': 36, 'min_samples_leaf': 6},\n",
       "  mean: 0.83842, std: 0.02432, params: {'max_features': 36, 'min_samples_leaf': 11},\n",
       "  mean: 0.82294, std: 0.02504, params: {'max_features': 36, 'min_samples_leaf': 16},\n",
       "  mean: 0.88212, std: 0.01877, params: {'max_features': 38, 'min_samples_leaf': 1},\n",
       "  mean: 0.85982, std: 0.02190, params: {'max_features': 38, 'min_samples_leaf': 6},\n",
       "  mean: 0.83804, std: 0.02315, params: {'max_features': 38, 'min_samples_leaf': 11},\n",
       "  mean: 0.82372, std: 0.02321, params: {'max_features': 38, 'min_samples_leaf': 16}],\n",
       " {'max_features': 38, 'min_samples_leaf': 1},\n",
       " 0.882115591706525)"
      ]
     },
     "execution_count": 31,
     "metadata": {},
     "output_type": "execute_result"
    }
   ],
   "source": [
    "param_test3 = {'min_samples_leaf':range(1,20,5), 'max_features':range(20,40,2)}\n",
    "gsearch3 = GridSearchCV(estimator = ExtraTreesRegressor(min_samples_split=min_samples_split,\n",
    "                                                        max_depth=max_depth,\n",
    "                                                        n_estimators=n_estimators,\n",
    "                                                        random_state=77), \n",
    "                                                        param_grid = param_test3, \n",
    "                                                        n_jobs=4,\n",
    "                                                        iid=False,\n",
    "                                                        cv=5)\n",
    "gsearch3.fit(train[features], output)\n",
    "gsearch3.grid_scores_, gsearch3.best_params_, gsearch3.best_score_"
   ]
  },
  {
   "cell_type": "code",
   "execution_count": 32,
   "metadata": {
    "collapsed": false
   },
   "outputs": [
    {
     "data": {
      "text/plain": [
       "1"
      ]
     },
     "execution_count": 32,
     "metadata": {},
     "output_type": "execute_result"
    }
   ],
   "source": [
    "gsearch3.best_params_['min_samples_leaf']"
   ]
  },
  {
   "cell_type": "code",
   "execution_count": 33,
   "metadata": {
    "collapsed": false
   },
   "outputs": [
    {
     "data": {
      "text/plain": [
       "([mean: 0.87898, std: 0.01745, params: {'max_features': 30},\n",
       "  mean: 0.88048, std: 0.01811, params: {'max_features': 32},\n",
       "  mean: 0.87917, std: 0.01891, params: {'max_features': 34},\n",
       "  mean: 0.88141, std: 0.01850, params: {'max_features': 36},\n",
       "  mean: 0.88212, std: 0.01877, params: {'max_features': 38},\n",
       "  mean: 0.88227, std: 0.01902, params: {'max_features': 40},\n",
       "  mean: 0.88311, std: 0.01872, params: {'max_features': 42},\n",
       "  mean: 0.88312, std: 0.01810, params: {'max_features': 44},\n",
       "  mean: 0.88399, std: 0.01818, params: {'max_features': 46},\n",
       "  mean: 0.88298, std: 0.01824, params: {'max_features': 48},\n",
       "  mean: 0.88321, std: 0.01861, params: {'max_features': 50},\n",
       "  mean: 0.88385, std: 0.01769, params: {'max_features': 52},\n",
       "  mean: 0.88398, std: 0.01800, params: {'max_features': 54},\n",
       "  mean: 0.88478, std: 0.01860, params: {'max_features': 56},\n",
       "  mean: 0.88376, std: 0.01824, params: {'max_features': 58},\n",
       "  mean: 0.88522, std: 0.01796, params: {'max_features': 60},\n",
       "  mean: 0.88528, std: 0.01849, params: {'max_features': 62},\n",
       "  mean: 0.88517, std: 0.01954, params: {'max_features': 64},\n",
       "  mean: 0.88522, std: 0.01902, params: {'max_features': 66},\n",
       "  mean: 0.88654, std: 0.01802, params: {'max_features': 68},\n",
       "  mean: 0.88563, std: 0.01833, params: {'max_features': 70},\n",
       "  mean: 0.88521, std: 0.01955, params: {'max_features': 72},\n",
       "  mean: 0.88541, std: 0.01928, params: {'max_features': 74},\n",
       "  mean: 0.88609, std: 0.01944, params: {'max_features': 76},\n",
       "  mean: 0.88710, std: 0.01845, params: {'max_features': 78},\n",
       "  mean: 0.88625, std: 0.01880, params: {'max_features': 80},\n",
       "  mean: 0.88609, std: 0.01842, params: {'max_features': 82},\n",
       "  mean: 0.88590, std: 0.01840, params: {'max_features': 84},\n",
       "  mean: 0.88631, std: 0.01934, params: {'max_features': 86},\n",
       "  mean: 0.88700, std: 0.01916, params: {'max_features': 88},\n",
       "  mean: 0.88674, std: 0.01904, params: {'max_features': 90},\n",
       "  mean: 0.88696, std: 0.01831, params: {'max_features': 92},\n",
       "  mean: 0.88616, std: 0.01981, params: {'max_features': 94},\n",
       "  mean: 0.88655, std: 0.01921, params: {'max_features': 96},\n",
       "  mean: 0.88684, std: 0.01939, params: {'max_features': 98}],\n",
       " {'max_features': 78},\n",
       " 0.8870977547076224)"
      ]
     },
     "execution_count": 33,
     "metadata": {},
     "output_type": "execute_result"
    }
   ],
   "source": [
    "param_test4 = {'max_features':range(30,100,2)}\n",
    "gsearch4 = GridSearchCV(estimator = ExtraTreesRegressor(min_samples_split=min_samples_split,\n",
    "                                                        max_depth=max_depth,\n",
    "                                                        n_estimators=n_estimators,\n",
    "                                                        min_samples_leaf=gsearch3.best_params_['min_samples_leaf'],\n",
    "                                                        random_state=77), \n",
    "                                                        param_grid = param_test4, \n",
    "                                                        n_jobs=4,\n",
    "                                                        iid=False,\n",
    "                                                        cv=5)\n",
    "gsearch4.fit(train[features], output)\n",
    "gsearch4.grid_scores_, gsearch4.best_params_, gsearch4.best_score_"
   ]
  },
  {
   "cell_type": "markdown",
   "metadata": {},
   "source": [
    "#### Optimum parameters so far: "
   ]
  },
  {
   "cell_type": "code",
   "execution_count": 34,
   "metadata": {
    "collapsed": true
   },
   "outputs": [],
   "source": [
    "min_samples_split = gsearch2.best_params_['min_samples_split'] \n",
    "min_samples_leaf = gsearch3.best_params_['min_samples_leaf'] \n",
    "max_depth = gsearch2.best_params_['max_depth']\n",
    "max_features = gsearch4.best_params_['max_features']\n",
    "n_estimators=gsearch1.best_params_['n_estimators']"
   ]
  },
  {
   "cell_type": "code",
   "execution_count": 36,
   "metadata": {
    "collapsed": false
   },
   "outputs": [
    {
     "data": {
      "text/plain": [
       "ExtraTreesRegressor(bootstrap=False, criterion='mse', max_depth=16,\n",
       "          max_features=78, max_leaf_nodes=None, min_impurity_split=1e-07,\n",
       "          min_samples_leaf=1, min_samples_split=0.001,\n",
       "          min_weight_fraction_leaf=0.0, n_estimators=330, n_jobs=1,\n",
       "          oob_score=False, random_state=77, verbose=0, warm_start=False)"
      ]
     },
     "execution_count": 36,
     "metadata": {},
     "output_type": "execute_result"
    }
   ],
   "source": [
    "gsearch4.best_estimator_"
   ]
  },
  {
   "cell_type": "code",
   "execution_count": 37,
   "metadata": {
    "collapsed": false
   },
   "outputs": [
    {
     "name": "stdout",
     "output_type": "stream",
     "text": [
      "\n",
      "Model Report\n",
      "R-Square: 0.999\n",
      "RMSE : 0.011\n",
      "cv_score: \n",
      "[ 0.90292195  0.89558214  0.85332959  0.90169518  0.88195991]\n",
      "CV Score : Mean: 0.8870978 | Std: 0.0184508 | Min: 0.8533296 | Max: 0.902922\n"
     ]
    },
    {
     "data": {
      "image/png": "[encoded data removed]",
      "text/plain": [
       "<matplotlib.figure.Figure at 0x12c82c0d0>"
      ]
     },
     "metadata": {},
     "output_type": "display_data"
    }
   ],
   "source": [
    "modelfit(gsearch4.best_estimator_, train, features, output)"
   ]
  },
  {
   "cell_type": "markdown",
   "metadata": {},
   "source": [
    "If you compare the feature importance of this model with the baseline model, you’ll find that now we are able to derive value from many more variables."
   ]
  },
  {
   "cell_type": "code",
   "execution_count": 41,
   "metadata": {
    "collapsed": false
   },
   "outputs": [
    {
     "name": "stdout",
     "output_type": "stream",
     "text": [
      "min_samples_split = 0.001000\n",
      "min_samples_leaf = 1\n",
      "max_depth = 16\n",
      "max_features = 78\n",
      "n_estimators = 330\n"
     ]
    }
   ],
   "source": [
    "print(\"min_samples_split = %f\") %min_samples_split \n",
    "print(\"min_samples_leaf = %d\") %min_samples_leaf\n",
    "print(\"max_depth = %d\") %max_depth \n",
    "print(\"max_features = %d\") %max_features \n",
    "print(\"n_estimators = %d\") %n_estimators"
   ]
  }
 ],
 "metadata": {
  "anaconda-cloud": {},
  "kernelspec": {
   "display_name": "Python [conda root]",
   "language": "python",
   "name": "conda-root-py"
  },
  "language_info": {
   "codemirror_mode": {
    "name": "ipython",
    "version": 2
   },
   "file_extension": ".py",
   "mimetype": "text/x-python",
   "name": "python",
   "nbconvert_exporter": "python",
   "pygments_lexer": "ipython2",
   "version": "2.7.12"
  }
 },
 "nbformat": 4,
 "nbformat_minor": 1
}
