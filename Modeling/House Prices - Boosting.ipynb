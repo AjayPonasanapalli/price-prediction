{
 "cells": [
  {
   "cell_type": "code",
   "execution_count": 1,
   "metadata": {
    "collapsed": false
   },
   "outputs": [],
   "source": [
    "import pandas as pd \n",
    "import sklearn\n",
    "import seaborn as sea\n",
    "import numpy as np\n",
    "from scipy import stats\n",
    "import matplotlib.pyplot as plt\n",
    "import xgboost as xgb"
   ]
  },
  {
   "cell_type": "markdown",
   "metadata": {},
   "source": [
    "## Load in the data"
   ]
  },
  {
   "cell_type": "code",
   "execution_count": 2,
   "metadata": {
    "collapsed": false
   },
   "outputs": [
    {
     "data": {
      "text/html": [
       "<div>\n",
       "<table border=\"1\" class=\"dataframe\">\n",
       "  <thead>\n",
       "    <tr style=\"text-align: right;\">\n",
       "      <th></th>\n",
       "      <th>Id</th>\n",
       "      <th>MSSubClass</th>\n",
       "      <th>MSZoning</th>\n",
       "      <th>LotFrontage</th>\n",
       "      <th>LotArea</th>\n",
       "      <th>Street</th>\n",
       "      <th>Alley</th>\n",
       "      <th>LotShape</th>\n",
       "      <th>LandContour</th>\n",
       "      <th>Utilities</th>\n",
       "      <th>...</th>\n",
       "      <th>PoolArea</th>\n",
       "      <th>PoolQC</th>\n",
       "      <th>Fence</th>\n",
       "      <th>MiscFeature</th>\n",
       "      <th>MiscVal</th>\n",
       "      <th>MoSold</th>\n",
       "      <th>YrSold</th>\n",
       "      <th>SaleType</th>\n",
       "      <th>SaleCondition</th>\n",
       "      <th>SalePrice</th>\n",
       "    </tr>\n",
       "  </thead>\n",
       "  <tbody>\n",
       "    <tr>\n",
       "      <th>0</th>\n",
       "      <td>1</td>\n",
       "      <td>60</td>\n",
       "      <td>RL</td>\n",
       "      <td>65.0</td>\n",
       "      <td>8450</td>\n",
       "      <td>Pave</td>\n",
       "      <td>NaN</td>\n",
       "      <td>Reg</td>\n",
       "      <td>Lvl</td>\n",
       "      <td>AllPub</td>\n",
       "      <td>...</td>\n",
       "      <td>0</td>\n",
       "      <td>NaN</td>\n",
       "      <td>NaN</td>\n",
       "      <td>NaN</td>\n",
       "      <td>0</td>\n",
       "      <td>2</td>\n",
       "      <td>2008</td>\n",
       "      <td>WD</td>\n",
       "      <td>Normal</td>\n",
       "      <td>208500</td>\n",
       "    </tr>\n",
       "    <tr>\n",
       "      <th>1</th>\n",
       "      <td>2</td>\n",
       "      <td>20</td>\n",
       "      <td>RL</td>\n",
       "      <td>80.0</td>\n",
       "      <td>9600</td>\n",
       "      <td>Pave</td>\n",
       "      <td>NaN</td>\n",
       "      <td>Reg</td>\n",
       "      <td>Lvl</td>\n",
       "      <td>AllPub</td>\n",
       "      <td>...</td>\n",
       "      <td>0</td>\n",
       "      <td>NaN</td>\n",
       "      <td>NaN</td>\n",
       "      <td>NaN</td>\n",
       "      <td>0</td>\n",
       "      <td>5</td>\n",
       "      <td>2007</td>\n",
       "      <td>WD</td>\n",
       "      <td>Normal</td>\n",
       "      <td>181500</td>\n",
       "    </tr>\n",
       "  </tbody>\n",
       "</table>\n",
       "<p>2 rows × 81 columns</p>\n",
       "</div>"
      ],
      "text/plain": [
       "   Id  MSSubClass MSZoning  LotFrontage  LotArea Street Alley LotShape  \\\n",
       "0   1          60       RL         65.0     8450   Pave   NaN      Reg   \n",
       "1   2          20       RL         80.0     9600   Pave   NaN      Reg   \n",
       "\n",
       "  LandContour Utilities    ...     PoolArea PoolQC Fence MiscFeature MiscVal  \\\n",
       "0         Lvl    AllPub    ...            0    NaN   NaN         NaN       0   \n",
       "1         Lvl    AllPub    ...            0    NaN   NaN         NaN       0   \n",
       "\n",
       "  MoSold YrSold  SaleType  SaleCondition  SalePrice  \n",
       "0      2   2008        WD         Normal     208500  \n",
       "1      5   2007        WD         Normal     181500  \n",
       "\n",
       "[2 rows x 81 columns]"
      ]
     },
     "execution_count": 2,
     "metadata": {},
     "output_type": "execute_result"
    }
   ],
   "source": [
    "house_prices_train = pd.read_csv('train.csv')\n",
    "house_prices_test = pd.read_csv('test.csv')\n",
    "house_prices_train.head(2)"
   ]
  },
  {
   "cell_type": "code",
   "execution_count": 5,
   "metadata": {
    "collapsed": false
   },
   "outputs": [
    {
     "data": {
      "text/html": [
       "<div>\n",
       "<table border=\"1\" class=\"dataframe\">\n",
       "  <thead>\n",
       "    <tr style=\"text-align: right;\">\n",
       "      <th></th>\n",
       "      <th>MSSubClass</th>\n",
       "      <th>MSZoning</th>\n",
       "      <th>LotFrontage</th>\n",
       "      <th>LotArea</th>\n",
       "      <th>Street</th>\n",
       "      <th>Alley</th>\n",
       "      <th>LotShape</th>\n",
       "      <th>LandContour</th>\n",
       "      <th>Utilities</th>\n",
       "      <th>LotConfig</th>\n",
       "      <th>...</th>\n",
       "      <th>ScreenPorch</th>\n",
       "      <th>PoolArea</th>\n",
       "      <th>PoolQC</th>\n",
       "      <th>Fence</th>\n",
       "      <th>MiscFeature</th>\n",
       "      <th>MiscVal</th>\n",
       "      <th>MoSold</th>\n",
       "      <th>YrSold</th>\n",
       "      <th>SaleType</th>\n",
       "      <th>SaleCondition</th>\n",
       "    </tr>\n",
       "  </thead>\n",
       "  <tbody>\n",
       "    <tr>\n",
       "      <th>0</th>\n",
       "      <td>60</td>\n",
       "      <td>RL</td>\n",
       "      <td>65.0</td>\n",
       "      <td>8450</td>\n",
       "      <td>Pave</td>\n",
       "      <td>NaN</td>\n",
       "      <td>Reg</td>\n",
       "      <td>Lvl</td>\n",
       "      <td>AllPub</td>\n",
       "      <td>Inside</td>\n",
       "      <td>...</td>\n",
       "      <td>0</td>\n",
       "      <td>0</td>\n",
       "      <td>NaN</td>\n",
       "      <td>NaN</td>\n",
       "      <td>NaN</td>\n",
       "      <td>0</td>\n",
       "      <td>2</td>\n",
       "      <td>2008</td>\n",
       "      <td>WD</td>\n",
       "      <td>Normal</td>\n",
       "    </tr>\n",
       "    <tr>\n",
       "      <th>1</th>\n",
       "      <td>20</td>\n",
       "      <td>RL</td>\n",
       "      <td>80.0</td>\n",
       "      <td>9600</td>\n",
       "      <td>Pave</td>\n",
       "      <td>NaN</td>\n",
       "      <td>Reg</td>\n",
       "      <td>Lvl</td>\n",
       "      <td>AllPub</td>\n",
       "      <td>FR2</td>\n",
       "      <td>...</td>\n",
       "      <td>0</td>\n",
       "      <td>0</td>\n",
       "      <td>NaN</td>\n",
       "      <td>NaN</td>\n",
       "      <td>NaN</td>\n",
       "      <td>0</td>\n",
       "      <td>5</td>\n",
       "      <td>2007</td>\n",
       "      <td>WD</td>\n",
       "      <td>Normal</td>\n",
       "    </tr>\n",
       "  </tbody>\n",
       "</table>\n",
       "<p>2 rows × 79 columns</p>\n",
       "</div>"
      ],
      "text/plain": [
       "   MSSubClass MSZoning  LotFrontage  LotArea Street Alley LotShape  \\\n",
       "0          60       RL         65.0     8450   Pave   NaN      Reg   \n",
       "1          20       RL         80.0     9600   Pave   NaN      Reg   \n",
       "\n",
       "  LandContour Utilities LotConfig      ...       ScreenPorch PoolArea PoolQC  \\\n",
       "0         Lvl    AllPub    Inside      ...                 0        0    NaN   \n",
       "1         Lvl    AllPub       FR2      ...                 0        0    NaN   \n",
       "\n",
       "  Fence MiscFeature MiscVal  MoSold  YrSold  SaleType  SaleCondition  \n",
       "0   NaN         NaN       0       2    2008        WD         Normal  \n",
       "1   NaN         NaN       0       5    2007        WD         Normal  \n",
       "\n",
       "[2 rows x 79 columns]"
      ]
     },
     "execution_count": 5,
     "metadata": {},
     "output_type": "execute_result"
    }
   ],
   "source": [
    "house_prices_all = pd.concat((house_prices_train.loc[:,'MSSubClass':'SaleCondition'], \n",
    "                              house_prices_test.loc[:,'MSSubClass':'SaleCondition']))\n",
    "house_prices_all.head(2)"
   ]
  },
  {
   "cell_type": "code",
   "execution_count": 3,
   "metadata": {
    "collapsed": false
   },
   "outputs": [
    {
     "data": {
      "text/plain": [
       "((1460, 81), (1459, 80))"
      ]
     },
     "execution_count": 3,
     "metadata": {},
     "output_type": "execute_result"
    }
   ],
   "source": [
    "house_prices_train.shape, house_prices_test.shape"
   ]
  },
  {
   "cell_type": "markdown",
   "metadata": {},
   "source": [
    "## Data Processing"
   ]
  },
  {
   "cell_type": "code",
   "execution_count": 7,
   "metadata": {
    "collapsed": false
   },
   "outputs": [
    {
     "name": "stdout",
     "output_type": "stream",
     "text": [
      "1.88094074603\n",
      "0.121221913115\n"
     ]
    }
   ],
   "source": [
    "print stats.skew(house_prices_train['SalePrice'])\n",
    "print stats.skew(house_prices_train['SalePrice'].apply(lambda x: np.log1p(x)))"
   ]
  },
  {
   "cell_type": "code",
   "execution_count": 7,
   "metadata": {
    "collapsed": false
   },
   "outputs": [
    {
     "data": {
      "text/html": [
       "<div>\n",
       "<table border=\"1\" class=\"dataframe\">\n",
       "  <thead>\n",
       "    <tr style=\"text-align: right;\">\n",
       "      <th></th>\n",
       "      <th>Id</th>\n",
       "      <th>MSSubClass</th>\n",
       "      <th>MSZoning</th>\n",
       "      <th>LotFrontage</th>\n",
       "      <th>LotArea</th>\n",
       "      <th>Street</th>\n",
       "      <th>Alley</th>\n",
       "      <th>LotShape</th>\n",
       "      <th>LandContour</th>\n",
       "      <th>Utilities</th>\n",
       "      <th>...</th>\n",
       "      <th>PoolQC</th>\n",
       "      <th>Fence</th>\n",
       "      <th>MiscFeature</th>\n",
       "      <th>MiscVal</th>\n",
       "      <th>MoSold</th>\n",
       "      <th>YrSold</th>\n",
       "      <th>SaleType</th>\n",
       "      <th>SaleCondition</th>\n",
       "      <th>SalePrice</th>\n",
       "      <th>log_SalePrice</th>\n",
       "    </tr>\n",
       "  </thead>\n",
       "  <tbody>\n",
       "    <tr>\n",
       "      <th>0</th>\n",
       "      <td>1</td>\n",
       "      <td>60</td>\n",
       "      <td>RL</td>\n",
       "      <td>65.0</td>\n",
       "      <td>8450</td>\n",
       "      <td>Pave</td>\n",
       "      <td>NaN</td>\n",
       "      <td>Reg</td>\n",
       "      <td>Lvl</td>\n",
       "      <td>AllPub</td>\n",
       "      <td>...</td>\n",
       "      <td>NaN</td>\n",
       "      <td>NaN</td>\n",
       "      <td>NaN</td>\n",
       "      <td>0</td>\n",
       "      <td>2</td>\n",
       "      <td>2008</td>\n",
       "      <td>WD</td>\n",
       "      <td>Normal</td>\n",
       "      <td>208500</td>\n",
       "      <td>12.247699</td>\n",
       "    </tr>\n",
       "  </tbody>\n",
       "</table>\n",
       "<p>1 rows × 82 columns</p>\n",
       "</div>"
      ],
      "text/plain": [
       "   Id  MSSubClass MSZoning  LotFrontage  LotArea Street Alley LotShape  \\\n",
       "0   1          60       RL         65.0     8450   Pave   NaN      Reg   \n",
       "\n",
       "  LandContour Utilities      ...       PoolQC Fence MiscFeature MiscVal  \\\n",
       "0         Lvl    AllPub      ...          NaN   NaN         NaN       0   \n",
       "\n",
       "  MoSold YrSold SaleType  SaleCondition  SalePrice  log_SalePrice  \n",
       "0      2   2008       WD         Normal     208500      12.247699  \n",
       "\n",
       "[1 rows x 82 columns]"
      ]
     },
     "execution_count": 7,
     "metadata": {},
     "output_type": "execute_result"
    }
   ],
   "source": [
    "house_prices_train['log_SalePrice'] = house_prices_train['SalePrice'].apply(lambda x: np.log1p(x))\n",
    "house_prices_train.head(1)"
   ]
  },
  {
   "cell_type": "code",
   "execution_count": 8,
   "metadata": {
    "collapsed": false
   },
   "outputs": [
    {
     "data": {
      "text/plain": [
       "<matplotlib.axes._subplots.AxesSubplot at 0x1150aca90>"
      ]
     },
     "execution_count": 8,
     "metadata": {},
     "output_type": "execute_result"
    },
    {
     "data": {
      "image/png": "[encoded data removed]",
      "text/plain": [
       "<matplotlib.figure.Figure at 0x1155e0fd0>"
      ]
     },
     "metadata": {},
     "output_type": "display_data"
    }
   ],
   "source": [
    "%matplotlib inline  \n",
    "house_prices_train['log_SalePrice'].hist() #Looks pretty normal!"
   ]
  },
  {
   "cell_type": "code",
   "execution_count": 9,
   "metadata": {
    "collapsed": false
   },
   "outputs": [
    {
     "data": {
      "image/png": "[encoded data removed]",
      "text/plain": [
       "<matplotlib.figure.Figure at 0x11574bad0>"
      ]
     },
     "metadata": {},
     "output_type": "display_data"
    }
   ],
   "source": [
    "plot = house_prices_train.boxplot(column='log_SalePrice')"
   ]
  },
  {
   "cell_type": "code",
   "execution_count": 10,
   "metadata": {
    "collapsed": true
   },
   "outputs": [],
   "source": [
    "house_prices_all = house_prices_all.fillna(house_prices_all.mean()) #replace NaN with mean of the columns"
   ]
  },
  {
   "cell_type": "markdown",
   "metadata": {},
   "source": [
    "### Log transform skewed features"
   ]
  },
  {
   "cell_type": "code",
   "execution_count": 11,
   "metadata": {
    "collapsed": false
   },
   "outputs": [
    {
     "data": {
      "text/plain": [
       "array([  1.37545736,   1.64557379,  12.8224314 ,   0.19711045,\n",
       "         0.57031205,  -0.59980555,  -0.45102038,   2.61154938,\n",
       "         1.42523344,   4.14603364,   0.91950831,   1.16248375,\n",
       "         1.46960442,   0.86167475,  12.088761  ,   1.26935769,\n",
       "         0.62395504,   3.93134301,   0.16760573,   0.69456649,\n",
       "         0.32632435,   4.30225437,   0.75836691,   0.7334946 ,\n",
       "        -0.39279   ,  -0.21829789,   0.24121778,   1.84243281,\n",
       "         2.53511373,   4.00389122,  11.37606468,   3.9466937 ,\n",
       "        16.89832792,  21.94719481,   0.19588394,   0.13239881])"
      ]
     },
     "execution_count": 11,
     "metadata": {},
     "output_type": "execute_result"
    }
   ],
   "source": [
    "numerical_features = house_prices_all.columns[house_prices_all.dtypes != 'object']\n",
    "stats.skew(house_prices_all[numerical_features])"
   ]
  },
  {
   "cell_type": "code",
   "execution_count": 12,
   "metadata": {
    "collapsed": false
   },
   "outputs": [
    {
     "name": "stdout",
     "output_type": "stream",
     "text": [
      "Index([u'MSSubClass', u'LotFrontage', u'LotArea', u'MasVnrArea', u'BsmtFinSF1',\n",
      "       u'BsmtFinSF2', u'BsmtUnfSF', u'TotalBsmtSF', u'1stFlrSF', u'2ndFlrSF',\n",
      "       u'LowQualFinSF', u'GrLivArea', u'BsmtHalfBath', u'KitchenAbvGr',\n",
      "       u'WoodDeckSF', u'OpenPorchSF', u'EnclosedPorch', u'3SsnPorch',\n",
      "       u'ScreenPorch', u'PoolArea', u'MiscVal'],\n",
      "      dtype='object')\n"
     ]
    },
    {
     "data": {
      "text/html": [
       "<div>\n",
       "<table border=\"1\" class=\"dataframe\">\n",
       "  <thead>\n",
       "    <tr style=\"text-align: right;\">\n",
       "      <th></th>\n",
       "      <th>MSSubClass</th>\n",
       "      <th>MSZoning</th>\n",
       "      <th>LotFrontage</th>\n",
       "      <th>LotArea</th>\n",
       "      <th>Street</th>\n",
       "      <th>Alley</th>\n",
       "      <th>LotShape</th>\n",
       "      <th>LandContour</th>\n",
       "      <th>Utilities</th>\n",
       "      <th>LotConfig</th>\n",
       "      <th>...</th>\n",
       "      <th>ScreenPorch</th>\n",
       "      <th>PoolArea</th>\n",
       "      <th>PoolQC</th>\n",
       "      <th>Fence</th>\n",
       "      <th>MiscFeature</th>\n",
       "      <th>MiscVal</th>\n",
       "      <th>MoSold</th>\n",
       "      <th>YrSold</th>\n",
       "      <th>SaleType</th>\n",
       "      <th>SaleCondition</th>\n",
       "    </tr>\n",
       "  </thead>\n",
       "  <tbody>\n",
       "    <tr>\n",
       "      <th>0</th>\n",
       "      <td>4.110874</td>\n",
       "      <td>RL</td>\n",
       "      <td>4.189655</td>\n",
       "      <td>9.042040</td>\n",
       "      <td>Pave</td>\n",
       "      <td>NaN</td>\n",
       "      <td>Reg</td>\n",
       "      <td>Lvl</td>\n",
       "      <td>AllPub</td>\n",
       "      <td>Inside</td>\n",
       "      <td>...</td>\n",
       "      <td>0.0</td>\n",
       "      <td>0.0</td>\n",
       "      <td>NaN</td>\n",
       "      <td>NaN</td>\n",
       "      <td>NaN</td>\n",
       "      <td>0.0</td>\n",
       "      <td>2</td>\n",
       "      <td>2008</td>\n",
       "      <td>WD</td>\n",
       "      <td>Normal</td>\n",
       "    </tr>\n",
       "    <tr>\n",
       "      <th>1</th>\n",
       "      <td>3.044522</td>\n",
       "      <td>RL</td>\n",
       "      <td>4.394449</td>\n",
       "      <td>9.169623</td>\n",
       "      <td>Pave</td>\n",
       "      <td>NaN</td>\n",
       "      <td>Reg</td>\n",
       "      <td>Lvl</td>\n",
       "      <td>AllPub</td>\n",
       "      <td>FR2</td>\n",
       "      <td>...</td>\n",
       "      <td>0.0</td>\n",
       "      <td>0.0</td>\n",
       "      <td>NaN</td>\n",
       "      <td>NaN</td>\n",
       "      <td>NaN</td>\n",
       "      <td>0.0</td>\n",
       "      <td>5</td>\n",
       "      <td>2007</td>\n",
       "      <td>WD</td>\n",
       "      <td>Normal</td>\n",
       "    </tr>\n",
       "  </tbody>\n",
       "</table>\n",
       "<p>2 rows × 79 columns</p>\n",
       "</div>"
      ],
      "text/plain": [
       "   MSSubClass MSZoning  LotFrontage   LotArea Street Alley LotShape  \\\n",
       "0    4.110874       RL     4.189655  9.042040   Pave   NaN      Reg   \n",
       "1    3.044522       RL     4.394449  9.169623   Pave   NaN      Reg   \n",
       "\n",
       "  LandContour Utilities LotConfig      ...       ScreenPorch PoolArea PoolQC  \\\n",
       "0         Lvl    AllPub    Inside      ...               0.0      0.0    NaN   \n",
       "1         Lvl    AllPub       FR2      ...               0.0      0.0    NaN   \n",
       "\n",
       "  Fence MiscFeature MiscVal  MoSold  YrSold  SaleType  SaleCondition  \n",
       "0   NaN         NaN     0.0       2    2008        WD         Normal  \n",
       "1   NaN         NaN     0.0       5    2007        WD         Normal  \n",
       "\n",
       "[2 rows x 79 columns]"
      ]
     },
     "execution_count": 12,
     "metadata": {},
     "output_type": "execute_result"
    }
   ],
   "source": [
    "skewed_features = house_prices_all[numerical_features].columns[np.absolute(stats.skew(house_prices_all[numerical_features]))>0.8]\n",
    "print skewed_features\n",
    "house_prices_all[skewed_features] = house_prices_all[skewed_features].apply(lambda x: np.log1p(x))\n",
    "house_prices_all.head(2)"
   ]
  },
  {
   "cell_type": "markdown",
   "metadata": {},
   "source": [
    "### One hot encoding"
   ]
  },
  {
   "cell_type": "code",
   "execution_count": 13,
   "metadata": {
    "collapsed": false
   },
   "outputs": [
    {
     "data": {
      "text/html": [
       "<div>\n",
       "<table border=\"1\" class=\"dataframe\">\n",
       "  <thead>\n",
       "    <tr style=\"text-align: right;\">\n",
       "      <th></th>\n",
       "      <th>MSSubClass</th>\n",
       "      <th>LotFrontage</th>\n",
       "      <th>LotArea</th>\n",
       "      <th>OverallQual</th>\n",
       "      <th>OverallCond</th>\n",
       "      <th>YearBuilt</th>\n",
       "      <th>YearRemodAdd</th>\n",
       "      <th>MasVnrArea</th>\n",
       "      <th>BsmtFinSF1</th>\n",
       "      <th>BsmtFinSF2</th>\n",
       "      <th>BsmtUnfSF</th>\n",
       "      <th>TotalBsmtSF</th>\n",
       "      <th>1stFlrSF</th>\n",
       "      <th>2ndFlrSF</th>\n",
       "      <th>LowQualFinSF</th>\n",
       "      <th>GrLivArea</th>\n",
       "      <th>BsmtFullBath</th>\n",
       "      <th>BsmtHalfBath</th>\n",
       "      <th>FullBath</th>\n",
       "      <th>HalfBath</th>\n",
       "      <th>BedroomAbvGr</th>\n",
       "      <th>KitchenAbvGr</th>\n",
       "      <th>TotRmsAbvGrd</th>\n",
       "      <th>Fireplaces</th>\n",
       "      <th>GarageYrBlt</th>\n",
       "      <th>GarageCars</th>\n",
       "      <th>GarageArea</th>\n",
       "      <th>WoodDeckSF</th>\n",
       "      <th>OpenPorchSF</th>\n",
       "      <th>EnclosedPorch</th>\n",
       "      <th>3SsnPorch</th>\n",
       "      <th>ScreenPorch</th>\n",
       "      <th>PoolArea</th>\n",
       "      <th>MiscVal</th>\n",
       "      <th>MoSold</th>\n",
       "      <th>YrSold</th>\n",
       "      <th>MSZoning_C (all)</th>\n",
       "      <th>MSZoning_FV</th>\n",
       "      <th>MSZoning_RH</th>\n",
       "      <th>MSZoning_RL</th>\n",
       "      <th>MSZoning_RM</th>\n",
       "      <th>Street_Grvl</th>\n",
       "      <th>Street_Pave</th>\n",
       "      <th>Alley_Grvl</th>\n",
       "      <th>Alley_Pave</th>\n",
       "      <th>LotShape_IR1</th>\n",
       "      <th>LotShape_IR2</th>\n",
       "      <th>LotShape_IR3</th>\n",
       "      <th>LotShape_Reg</th>\n",
       "      <th>LandContour_Bnk</th>\n",
       "      <th>LandContour_HLS</th>\n",
       "      <th>LandContour_Low</th>\n",
       "      <th>LandContour_Lvl</th>\n",
       "      <th>Utilities_AllPub</th>\n",
       "      <th>Utilities_NoSeWa</th>\n",
       "      <th>LotConfig_Corner</th>\n",
       "      <th>LotConfig_CulDSac</th>\n",
       "      <th>LotConfig_FR2</th>\n",
       "      <th>LotConfig_FR3</th>\n",
       "      <th>LotConfig_Inside</th>\n",
       "      <th>LandSlope_Gtl</th>\n",
       "      <th>LandSlope_Mod</th>\n",
       "      <th>LandSlope_Sev</th>\n",
       "      <th>Neighborhood_Blmngtn</th>\n",
       "      <th>Neighborhood_Blueste</th>\n",
       "      <th>Neighborhood_BrDale</th>\n",
       "      <th>Neighborhood_BrkSide</th>\n",
       "      <th>Neighborhood_ClearCr</th>\n",
       "      <th>Neighborhood_CollgCr</th>\n",
       "      <th>Neighborhood_Crawfor</th>\n",
       "      <th>Neighborhood_Edwards</th>\n",
       "      <th>Neighborhood_Gilbert</th>\n",
       "      <th>Neighborhood_IDOTRR</th>\n",
       "      <th>Neighborhood_MeadowV</th>\n",
       "      <th>Neighborhood_Mitchel</th>\n",
       "      <th>Neighborhood_NAmes</th>\n",
       "      <th>Neighborhood_NPkVill</th>\n",
       "      <th>Neighborhood_NWAmes</th>\n",
       "      <th>Neighborhood_NoRidge</th>\n",
       "      <th>Neighborhood_NridgHt</th>\n",
       "      <th>Neighborhood_OldTown</th>\n",
       "      <th>Neighborhood_SWISU</th>\n",
       "      <th>Neighborhood_Sawyer</th>\n",
       "      <th>Neighborhood_SawyerW</th>\n",
       "      <th>Neighborhood_Somerst</th>\n",
       "      <th>Neighborhood_StoneBr</th>\n",
       "      <th>Neighborhood_Timber</th>\n",
       "      <th>Neighborhood_Veenker</th>\n",
       "      <th>Condition1_Artery</th>\n",
       "      <th>Condition1_Feedr</th>\n",
       "      <th>Condition1_Norm</th>\n",
       "      <th>Condition1_PosA</th>\n",
       "      <th>Condition1_PosN</th>\n",
       "      <th>Condition1_RRAe</th>\n",
       "      <th>Condition1_RRAn</th>\n",
       "      <th>Condition1_RRNe</th>\n",
       "      <th>Condition1_RRNn</th>\n",
       "      <th>Condition2_Artery</th>\n",
       "      <th>Condition2_Feedr</th>\n",
       "      <th>Condition2_Norm</th>\n",
       "      <th>Condition2_PosA</th>\n",
       "      <th>Condition2_PosN</th>\n",
       "      <th>Condition2_RRAe</th>\n",
       "      <th>Condition2_RRAn</th>\n",
       "      <th>Condition2_RRNn</th>\n",
       "      <th>BldgType_1Fam</th>\n",
       "      <th>BldgType_2fmCon</th>\n",
       "      <th>BldgType_Duplex</th>\n",
       "      <th>BldgType_Twnhs</th>\n",
       "      <th>BldgType_TwnhsE</th>\n",
       "      <th>HouseStyle_1.5Fin</th>\n",
       "      <th>HouseStyle_1.5Unf</th>\n",
       "      <th>HouseStyle_1Story</th>\n",
       "      <th>HouseStyle_2.5Fin</th>\n",
       "      <th>HouseStyle_2.5Unf</th>\n",
       "      <th>HouseStyle_2Story</th>\n",
       "      <th>HouseStyle_SFoyer</th>\n",
       "      <th>HouseStyle_SLvl</th>\n",
       "      <th>RoofStyle_Flat</th>\n",
       "      <th>RoofStyle_Gable</th>\n",
       "      <th>RoofStyle_Gambrel</th>\n",
       "      <th>RoofStyle_Hip</th>\n",
       "      <th>RoofStyle_Mansard</th>\n",
       "      <th>RoofStyle_Shed</th>\n",
       "      <th>RoofMatl_ClyTile</th>\n",
       "      <th>RoofMatl_CompShg</th>\n",
       "      <th>RoofMatl_Membran</th>\n",
       "      <th>RoofMatl_Metal</th>\n",
       "      <th>RoofMatl_Roll</th>\n",
       "      <th>RoofMatl_Tar&amp;Grv</th>\n",
       "      <th>RoofMatl_WdShake</th>\n",
       "      <th>RoofMatl_WdShngl</th>\n",
       "      <th>Exterior1st_AsbShng</th>\n",
       "      <th>Exterior1st_AsphShn</th>\n",
       "      <th>Exterior1st_BrkComm</th>\n",
       "      <th>Exterior1st_BrkFace</th>\n",
       "      <th>Exterior1st_CBlock</th>\n",
       "      <th>Exterior1st_CemntBd</th>\n",
       "      <th>Exterior1st_HdBoard</th>\n",
       "      <th>Exterior1st_ImStucc</th>\n",
       "      <th>Exterior1st_MetalSd</th>\n",
       "      <th>Exterior1st_Plywood</th>\n",
       "      <th>Exterior1st_Stone</th>\n",
       "      <th>Exterior1st_Stucco</th>\n",
       "      <th>Exterior1st_VinylSd</th>\n",
       "      <th>Exterior1st_Wd Sdng</th>\n",
       "      <th>Exterior1st_WdShing</th>\n",
       "      <th>Exterior2nd_AsbShng</th>\n",
       "      <th>Exterior2nd_AsphShn</th>\n",
       "      <th>Exterior2nd_Brk Cmn</th>\n",
       "      <th>Exterior2nd_BrkFace</th>\n",
       "      <th>Exterior2nd_CBlock</th>\n",
       "      <th>Exterior2nd_CmentBd</th>\n",
       "      <th>Exterior2nd_HdBoard</th>\n",
       "      <th>Exterior2nd_ImStucc</th>\n",
       "      <th>Exterior2nd_MetalSd</th>\n",
       "      <th>Exterior2nd_Other</th>\n",
       "      <th>Exterior2nd_Plywood</th>\n",
       "      <th>Exterior2nd_Stone</th>\n",
       "      <th>Exterior2nd_Stucco</th>\n",
       "      <th>Exterior2nd_VinylSd</th>\n",
       "      <th>Exterior2nd_Wd Sdng</th>\n",
       "      <th>Exterior2nd_Wd Shng</th>\n",
       "      <th>MasVnrType_BrkCmn</th>\n",
       "      <th>MasVnrType_BrkFace</th>\n",
       "      <th>MasVnrType_None</th>\n",
       "      <th>MasVnrType_Stone</th>\n",
       "      <th>ExterQual_Ex</th>\n",
       "      <th>ExterQual_Fa</th>\n",
       "      <th>ExterQual_Gd</th>\n",
       "      <th>ExterQual_TA</th>\n",
       "      <th>ExterCond_Ex</th>\n",
       "      <th>ExterCond_Fa</th>\n",
       "      <th>ExterCond_Gd</th>\n",
       "      <th>ExterCond_Po</th>\n",
       "      <th>ExterCond_TA</th>\n",
       "      <th>Foundation_BrkTil</th>\n",
       "      <th>Foundation_CBlock</th>\n",
       "      <th>Foundation_PConc</th>\n",
       "      <th>Foundation_Slab</th>\n",
       "      <th>Foundation_Stone</th>\n",
       "      <th>Foundation_Wood</th>\n",
       "      <th>BsmtQual_Ex</th>\n",
       "      <th>BsmtQual_Fa</th>\n",
       "      <th>BsmtQual_Gd</th>\n",
       "      <th>BsmtQual_TA</th>\n",
       "      <th>BsmtCond_Fa</th>\n",
       "      <th>BsmtCond_Gd</th>\n",
       "      <th>BsmtCond_Po</th>\n",
       "      <th>BsmtCond_TA</th>\n",
       "      <th>BsmtExposure_Av</th>\n",
       "      <th>BsmtExposure_Gd</th>\n",
       "      <th>BsmtExposure_Mn</th>\n",
       "      <th>BsmtExposure_No</th>\n",
       "      <th>BsmtFinType1_ALQ</th>\n",
       "      <th>BsmtFinType1_BLQ</th>\n",
       "      <th>BsmtFinType1_GLQ</th>\n",
       "      <th>BsmtFinType1_LwQ</th>\n",
       "      <th>BsmtFinType1_Rec</th>\n",
       "      <th>BsmtFinType1_Unf</th>\n",
       "      <th>BsmtFinType2_ALQ</th>\n",
       "      <th>BsmtFinType2_BLQ</th>\n",
       "      <th>BsmtFinType2_GLQ</th>\n",
       "      <th>BsmtFinType2_LwQ</th>\n",
       "      <th>BsmtFinType2_Rec</th>\n",
       "      <th>BsmtFinType2_Unf</th>\n",
       "      <th>Heating_Floor</th>\n",
       "      <th>Heating_GasA</th>\n",
       "      <th>Heating_GasW</th>\n",
       "      <th>Heating_Grav</th>\n",
       "      <th>Heating_OthW</th>\n",
       "      <th>Heating_Wall</th>\n",
       "      <th>HeatingQC_Ex</th>\n",
       "      <th>HeatingQC_Fa</th>\n",
       "      <th>HeatingQC_Gd</th>\n",
       "      <th>HeatingQC_Po</th>\n",
       "      <th>HeatingQC_TA</th>\n",
       "      <th>CentralAir_N</th>\n",
       "      <th>CentralAir_Y</th>\n",
       "      <th>Electrical_FuseA</th>\n",
       "      <th>Electrical_FuseF</th>\n",
       "      <th>Electrical_FuseP</th>\n",
       "      <th>Electrical_Mix</th>\n",
       "      <th>Electrical_SBrkr</th>\n",
       "      <th>KitchenQual_Ex</th>\n",
       "      <th>KitchenQual_Fa</th>\n",
       "      <th>KitchenQual_Gd</th>\n",
       "      <th>KitchenQual_TA</th>\n",
       "      <th>Functional_Maj1</th>\n",
       "      <th>Functional_Maj2</th>\n",
       "      <th>Functional_Min1</th>\n",
       "      <th>Functional_Min2</th>\n",
       "      <th>Functional_Mod</th>\n",
       "      <th>Functional_Sev</th>\n",
       "      <th>Functional_Typ</th>\n",
       "      <th>FireplaceQu_Ex</th>\n",
       "      <th>FireplaceQu_Fa</th>\n",
       "      <th>FireplaceQu_Gd</th>\n",
       "      <th>FireplaceQu_Po</th>\n",
       "      <th>FireplaceQu_TA</th>\n",
       "      <th>GarageType_2Types</th>\n",
       "      <th>GarageType_Attchd</th>\n",
       "      <th>GarageType_Basment</th>\n",
       "      <th>GarageType_BuiltIn</th>\n",
       "      <th>GarageType_CarPort</th>\n",
       "      <th>GarageType_Detchd</th>\n",
       "      <th>GarageFinish_Fin</th>\n",
       "      <th>GarageFinish_RFn</th>\n",
       "      <th>GarageFinish_Unf</th>\n",
       "      <th>GarageQual_Ex</th>\n",
       "      <th>GarageQual_Fa</th>\n",
       "      <th>GarageQual_Gd</th>\n",
       "      <th>GarageQual_Po</th>\n",
       "      <th>GarageQual_TA</th>\n",
       "      <th>GarageCond_Ex</th>\n",
       "      <th>GarageCond_Fa</th>\n",
       "      <th>GarageCond_Gd</th>\n",
       "      <th>GarageCond_Po</th>\n",
       "      <th>GarageCond_TA</th>\n",
       "      <th>PavedDrive_N</th>\n",
       "      <th>PavedDrive_P</th>\n",
       "      <th>PavedDrive_Y</th>\n",
       "      <th>PoolQC_Ex</th>\n",
       "      <th>PoolQC_Fa</th>\n",
       "      <th>PoolQC_Gd</th>\n",
       "      <th>Fence_GdPrv</th>\n",
       "      <th>Fence_GdWo</th>\n",
       "      <th>Fence_MnPrv</th>\n",
       "      <th>Fence_MnWw</th>\n",
       "      <th>MiscFeature_Gar2</th>\n",
       "      <th>MiscFeature_Othr</th>\n",
       "      <th>MiscFeature_Shed</th>\n",
       "      <th>MiscFeature_TenC</th>\n",
       "      <th>SaleType_COD</th>\n",
       "      <th>SaleType_CWD</th>\n",
       "      <th>SaleType_Con</th>\n",
       "      <th>SaleType_ConLD</th>\n",
       "      <th>SaleType_ConLI</th>\n",
       "      <th>SaleType_ConLw</th>\n",
       "      <th>SaleType_New</th>\n",
       "      <th>SaleType_Oth</th>\n",
       "      <th>SaleType_WD</th>\n",
       "      <th>SaleCondition_Abnorml</th>\n",
       "      <th>SaleCondition_AdjLand</th>\n",
       "      <th>SaleCondition_Alloca</th>\n",
       "      <th>SaleCondition_Family</th>\n",
       "      <th>SaleCondition_Normal</th>\n",
       "      <th>SaleCondition_Partial</th>\n",
       "    </tr>\n",
       "  </thead>\n",
       "  <tbody>\n",
       "    <tr>\n",
       "      <th>0</th>\n",
       "      <td>4.110874</td>\n",
       "      <td>4.189655</td>\n",
       "      <td>9.04204</td>\n",
       "      <td>7</td>\n",
       "      <td>5</td>\n",
       "      <td>2003</td>\n",
       "      <td>2003</td>\n",
       "      <td>5.283204</td>\n",
       "      <td>6.561031</td>\n",
       "      <td>0.0</td>\n",
       "      <td>5.01728</td>\n",
       "      <td>6.753438</td>\n",
       "      <td>6.753438</td>\n",
       "      <td>6.751101</td>\n",
       "      <td>0.0</td>\n",
       "      <td>7.444833</td>\n",
       "      <td>1.0</td>\n",
       "      <td>0.0</td>\n",
       "      <td>2</td>\n",
       "      <td>1</td>\n",
       "      <td>3</td>\n",
       "      <td>0.693147</td>\n",
       "      <td>8</td>\n",
       "      <td>0</td>\n",
       "      <td>2003.0</td>\n",
       "      <td>2.0</td>\n",
       "      <td>548.0</td>\n",
       "      <td>0.0</td>\n",
       "      <td>4.127134</td>\n",
       "      <td>0.0</td>\n",
       "      <td>0.0</td>\n",
       "      <td>0.0</td>\n",
       "      <td>0.0</td>\n",
       "      <td>0.0</td>\n",
       "      <td>2</td>\n",
       "      <td>2008</td>\n",
       "      <td>0</td>\n",
       "      <td>0</td>\n",
       "      <td>0</td>\n",
       "      <td>1</td>\n",
       "      <td>0</td>\n",
       "      <td>0</td>\n",
       "      <td>1</td>\n",
       "      <td>0</td>\n",
       "      <td>0</td>\n",
       "      <td>0</td>\n",
       "      <td>0</td>\n",
       "      <td>0</td>\n",
       "      <td>1</td>\n",
       "      <td>0</td>\n",
       "      <td>0</td>\n",
       "      <td>0</td>\n",
       "      <td>1</td>\n",
       "      <td>1</td>\n",
       "      <td>0</td>\n",
       "      <td>0</td>\n",
       "      <td>0</td>\n",
       "      <td>0</td>\n",
       "      <td>0</td>\n",
       "      <td>1</td>\n",
       "      <td>1</td>\n",
       "      <td>0</td>\n",
       "      <td>0</td>\n",
       "      <td>0</td>\n",
       "      <td>0</td>\n",
       "      <td>0</td>\n",
       "      <td>0</td>\n",
       "      <td>0</td>\n",
       "      <td>1</td>\n",
       "      <td>0</td>\n",
       "      <td>0</td>\n",
       "      <td>0</td>\n",
       "      <td>0</td>\n",
       "      <td>0</td>\n",
       "      <td>0</td>\n",
       "      <td>0</td>\n",
       "      <td>0</td>\n",
       "      <td>0</td>\n",
       "      <td>0</td>\n",
       "      <td>0</td>\n",
       "      <td>0</td>\n",
       "      <td>0</td>\n",
       "      <td>0</td>\n",
       "      <td>0</td>\n",
       "      <td>0</td>\n",
       "      <td>0</td>\n",
       "      <td>0</td>\n",
       "      <td>0</td>\n",
       "      <td>0</td>\n",
       "      <td>0</td>\n",
       "      <td>1</td>\n",
       "      <td>0</td>\n",
       "      <td>0</td>\n",
       "      <td>0</td>\n",
       "      <td>0</td>\n",
       "      <td>0</td>\n",
       "      <td>0</td>\n",
       "      <td>0</td>\n",
       "      <td>0</td>\n",
       "      <td>1</td>\n",
       "      <td>0</td>\n",
       "      <td>0</td>\n",
       "      <td>0</td>\n",
       "      <td>0</td>\n",
       "      <td>0</td>\n",
       "      <td>1</td>\n",
       "      <td>0</td>\n",
       "      <td>0</td>\n",
       "      <td>0</td>\n",
       "      <td>0</td>\n",
       "      <td>0</td>\n",
       "      <td>0</td>\n",
       "      <td>0</td>\n",
       "      <td>0</td>\n",
       "      <td>0</td>\n",
       "      <td>1</td>\n",
       "      <td>0</td>\n",
       "      <td>0</td>\n",
       "      <td>0</td>\n",
       "      <td>1</td>\n",
       "      <td>0</td>\n",
       "      <td>0</td>\n",
       "      <td>0</td>\n",
       "      <td>0</td>\n",
       "      <td>0</td>\n",
       "      <td>1</td>\n",
       "      <td>0</td>\n",
       "      <td>0</td>\n",
       "      <td>0</td>\n",
       "      <td>0</td>\n",
       "      <td>0</td>\n",
       "      <td>0</td>\n",
       "      <td>0</td>\n",
       "      <td>0</td>\n",
       "      <td>0</td>\n",
       "      <td>0</td>\n",
       "      <td>0</td>\n",
       "      <td>0</td>\n",
       "      <td>0</td>\n",
       "      <td>0</td>\n",
       "      <td>0</td>\n",
       "      <td>0</td>\n",
       "      <td>0</td>\n",
       "      <td>0</td>\n",
       "      <td>1</td>\n",
       "      <td>0</td>\n",
       "      <td>0</td>\n",
       "      <td>0</td>\n",
       "      <td>0</td>\n",
       "      <td>0</td>\n",
       "      <td>0</td>\n",
       "      <td>0</td>\n",
       "      <td>0</td>\n",
       "      <td>0</td>\n",
       "      <td>0</td>\n",
       "      <td>0</td>\n",
       "      <td>0</td>\n",
       "      <td>0</td>\n",
       "      <td>0</td>\n",
       "      <td>0</td>\n",
       "      <td>1</td>\n",
       "      <td>0</td>\n",
       "      <td>0</td>\n",
       "      <td>0</td>\n",
       "      <td>1</td>\n",
       "      <td>0</td>\n",
       "      <td>0</td>\n",
       "      <td>0</td>\n",
       "      <td>0</td>\n",
       "      <td>1</td>\n",
       "      <td>0</td>\n",
       "      <td>0</td>\n",
       "      <td>0</td>\n",
       "      <td>0</td>\n",
       "      <td>0</td>\n",
       "      <td>1</td>\n",
       "      <td>0</td>\n",
       "      <td>0</td>\n",
       "      <td>1</td>\n",
       "      <td>0</td>\n",
       "      <td>0</td>\n",
       "      <td>0</td>\n",
       "      <td>0</td>\n",
       "      <td>0</td>\n",
       "      <td>1</td>\n",
       "      <td>0</td>\n",
       "      <td>0</td>\n",
       "      <td>0</td>\n",
       "      <td>0</td>\n",
       "      <td>1</td>\n",
       "      <td>0</td>\n",
       "      <td>0</td>\n",
       "      <td>0</td>\n",
       "      <td>1</td>\n",
       "      <td>0</td>\n",
       "      <td>0</td>\n",
       "      <td>1</td>\n",
       "      <td>0</td>\n",
       "      <td>0</td>\n",
       "      <td>0</td>\n",
       "      <td>0</td>\n",
       "      <td>0</td>\n",
       "      <td>0</td>\n",
       "      <td>0</td>\n",
       "      <td>0</td>\n",
       "      <td>1</td>\n",
       "      <td>0</td>\n",
       "      <td>1</td>\n",
       "      <td>0</td>\n",
       "      <td>0</td>\n",
       "      <td>0</td>\n",
       "      <td>0</td>\n",
       "      <td>1</td>\n",
       "      <td>0</td>\n",
       "      <td>0</td>\n",
       "      <td>0</td>\n",
       "      <td>0</td>\n",
       "      <td>0</td>\n",
       "      <td>1</td>\n",
       "      <td>0</td>\n",
       "      <td>0</td>\n",
       "      <td>0</td>\n",
       "      <td>0</td>\n",
       "      <td>1</td>\n",
       "      <td>0</td>\n",
       "      <td>0</td>\n",
       "      <td>1</td>\n",
       "      <td>0</td>\n",
       "      <td>0</td>\n",
       "      <td>0</td>\n",
       "      <td>0</td>\n",
       "      <td>0</td>\n",
       "      <td>0</td>\n",
       "      <td>0</td>\n",
       "      <td>1</td>\n",
       "      <td>0</td>\n",
       "      <td>0</td>\n",
       "      <td>0</td>\n",
       "      <td>0</td>\n",
       "      <td>0</td>\n",
       "      <td>0</td>\n",
       "      <td>1</td>\n",
       "      <td>0</td>\n",
       "      <td>0</td>\n",
       "      <td>0</td>\n",
       "      <td>0</td>\n",
       "      <td>0</td>\n",
       "      <td>1</td>\n",
       "      <td>0</td>\n",
       "      <td>0</td>\n",
       "      <td>0</td>\n",
       "      <td>0</td>\n",
       "      <td>0</td>\n",
       "      <td>1</td>\n",
       "      <td>0</td>\n",
       "      <td>0</td>\n",
       "      <td>0</td>\n",
       "      <td>0</td>\n",
       "      <td>1</td>\n",
       "      <td>0</td>\n",
       "      <td>0</td>\n",
       "      <td>1</td>\n",
       "      <td>0</td>\n",
       "      <td>0</td>\n",
       "      <td>0</td>\n",
       "      <td>0</td>\n",
       "      <td>0</td>\n",
       "      <td>0</td>\n",
       "      <td>0</td>\n",
       "      <td>0</td>\n",
       "      <td>0</td>\n",
       "      <td>0</td>\n",
       "      <td>0</td>\n",
       "      <td>0</td>\n",
       "      <td>0</td>\n",
       "      <td>0</td>\n",
       "      <td>0</td>\n",
       "      <td>0</td>\n",
       "      <td>0</td>\n",
       "      <td>0</td>\n",
       "      <td>0</td>\n",
       "      <td>1</td>\n",
       "      <td>0</td>\n",
       "      <td>0</td>\n",
       "      <td>0</td>\n",
       "      <td>0</td>\n",
       "      <td>1</td>\n",
       "      <td>0</td>\n",
       "    </tr>\n",
       "  </tbody>\n",
       "</table>\n",
       "</div>"
      ],
      "text/plain": [
       "   MSSubClass  LotFrontage  LotArea  OverallQual  OverallCond  YearBuilt  \\\n",
       "0    4.110874     4.189655  9.04204            7            5       2003   \n",
       "\n",
       "   YearRemodAdd  MasVnrArea  BsmtFinSF1  BsmtFinSF2  BsmtUnfSF  TotalBsmtSF  \\\n",
       "0          2003    5.283204    6.561031         0.0    5.01728     6.753438   \n",
       "\n",
       "   1stFlrSF  2ndFlrSF  LowQualFinSF  GrLivArea  BsmtFullBath  BsmtHalfBath  \\\n",
       "0  6.753438  6.751101           0.0   7.444833           1.0           0.0   \n",
       "\n",
       "   FullBath  HalfBath  BedroomAbvGr  KitchenAbvGr  TotRmsAbvGrd  Fireplaces  \\\n",
       "0         2         1             3      0.693147             8           0   \n",
       "\n",
       "   GarageYrBlt  GarageCars  GarageArea  WoodDeckSF  OpenPorchSF  \\\n",
       "0       2003.0         2.0       548.0         0.0     4.127134   \n",
       "\n",
       "   EnclosedPorch  3SsnPorch  ScreenPorch  PoolArea  MiscVal  MoSold  YrSold  \\\n",
       "0            0.0        0.0          0.0       0.0      0.0       2    2008   \n",
       "\n",
       "   MSZoning_C (all)  MSZoning_FV  MSZoning_RH  MSZoning_RL  MSZoning_RM  \\\n",
       "0                 0            0            0            1            0   \n",
       "\n",
       "   Street_Grvl  Street_Pave  Alley_Grvl  Alley_Pave  LotShape_IR1  \\\n",
       "0            0            1           0           0             0   \n",
       "\n",
       "   LotShape_IR2  LotShape_IR3  LotShape_Reg  LandContour_Bnk  LandContour_HLS  \\\n",
       "0             0             0             1                0                0   \n",
       "\n",
       "   LandContour_Low  LandContour_Lvl  Utilities_AllPub  Utilities_NoSeWa  \\\n",
       "0                0                1                 1                 0   \n",
       "\n",
       "   LotConfig_Corner  LotConfig_CulDSac  LotConfig_FR2  LotConfig_FR3  \\\n",
       "0                 0                  0              0              0   \n",
       "\n",
       "   LotConfig_Inside  LandSlope_Gtl  LandSlope_Mod  LandSlope_Sev  \\\n",
       "0                 1              1              0              0   \n",
       "\n",
       "   Neighborhood_Blmngtn  Neighborhood_Blueste  Neighborhood_BrDale  \\\n",
       "0                     0                     0                    0   \n",
       "\n",
       "   Neighborhood_BrkSide  Neighborhood_ClearCr  Neighborhood_CollgCr  \\\n",
       "0                     0                     0                     1   \n",
       "\n",
       "   Neighborhood_Crawfor  Neighborhood_Edwards  Neighborhood_Gilbert  \\\n",
       "0                     0                     0                     0   \n",
       "\n",
       "   Neighborhood_IDOTRR  Neighborhood_MeadowV  Neighborhood_Mitchel  \\\n",
       "0                    0                     0                     0   \n",
       "\n",
       "   Neighborhood_NAmes  Neighborhood_NPkVill  Neighborhood_NWAmes  \\\n",
       "0                   0                     0                    0   \n",
       "\n",
       "   Neighborhood_NoRidge  Neighborhood_NridgHt  Neighborhood_OldTown  \\\n",
       "0                     0                     0                     0   \n",
       "\n",
       "   Neighborhood_SWISU  Neighborhood_Sawyer  Neighborhood_SawyerW  \\\n",
       "0                   0                    0                     0   \n",
       "\n",
       "   Neighborhood_Somerst  Neighborhood_StoneBr  Neighborhood_Timber  \\\n",
       "0                     0                     0                    0   \n",
       "\n",
       "   Neighborhood_Veenker  Condition1_Artery  Condition1_Feedr  Condition1_Norm  \\\n",
       "0                     0                  0                 0                1   \n",
       "\n",
       "   Condition1_PosA  Condition1_PosN  Condition1_RRAe  Condition1_RRAn  \\\n",
       "0                0                0                0                0   \n",
       "\n",
       "   Condition1_RRNe  Condition1_RRNn  Condition2_Artery  Condition2_Feedr  \\\n",
       "0                0                0                  0                 0   \n",
       "\n",
       "   Condition2_Norm  Condition2_PosA  Condition2_PosN  Condition2_RRAe  \\\n",
       "0                1                0                0                0   \n",
       "\n",
       "   Condition2_RRAn  Condition2_RRNn  BldgType_1Fam  BldgType_2fmCon  \\\n",
       "0                0                0              1                0   \n",
       "\n",
       "   BldgType_Duplex  BldgType_Twnhs  BldgType_TwnhsE  HouseStyle_1.5Fin  \\\n",
       "0                0               0                0                  0   \n",
       "\n",
       "   HouseStyle_1.5Unf  HouseStyle_1Story  HouseStyle_2.5Fin  HouseStyle_2.5Unf  \\\n",
       "0                  0                  0                  0                  0   \n",
       "\n",
       "   HouseStyle_2Story  HouseStyle_SFoyer  HouseStyle_SLvl  RoofStyle_Flat  \\\n",
       "0                  1                  0                0               0   \n",
       "\n",
       "   RoofStyle_Gable  RoofStyle_Gambrel  RoofStyle_Hip  RoofStyle_Mansard  \\\n",
       "0                1                  0              0                  0   \n",
       "\n",
       "   RoofStyle_Shed  RoofMatl_ClyTile  RoofMatl_CompShg  RoofMatl_Membran  \\\n",
       "0               0                 0                 1                 0   \n",
       "\n",
       "   RoofMatl_Metal  RoofMatl_Roll  RoofMatl_Tar&Grv  RoofMatl_WdShake  \\\n",
       "0               0              0                 0                 0   \n",
       "\n",
       "   RoofMatl_WdShngl  Exterior1st_AsbShng  Exterior1st_AsphShn  \\\n",
       "0                 0                    0                    0   \n",
       "\n",
       "   Exterior1st_BrkComm  Exterior1st_BrkFace  Exterior1st_CBlock  \\\n",
       "0                    0                    0                   0   \n",
       "\n",
       "   Exterior1st_CemntBd  Exterior1st_HdBoard  Exterior1st_ImStucc  \\\n",
       "0                    0                    0                    0   \n",
       "\n",
       "   Exterior1st_MetalSd  Exterior1st_Plywood  Exterior1st_Stone  \\\n",
       "0                    0                    0                  0   \n",
       "\n",
       "   Exterior1st_Stucco  Exterior1st_VinylSd  Exterior1st_Wd Sdng  \\\n",
       "0                   0                    1                    0   \n",
       "\n",
       "   Exterior1st_WdShing  Exterior2nd_AsbShng  Exterior2nd_AsphShn  \\\n",
       "0                    0                    0                    0   \n",
       "\n",
       "   Exterior2nd_Brk Cmn  Exterior2nd_BrkFace  Exterior2nd_CBlock  \\\n",
       "0                    0                    0                   0   \n",
       "\n",
       "   Exterior2nd_CmentBd  Exterior2nd_HdBoard  Exterior2nd_ImStucc  \\\n",
       "0                    0                    0                    0   \n",
       "\n",
       "   Exterior2nd_MetalSd  Exterior2nd_Other  Exterior2nd_Plywood  \\\n",
       "0                    0                  0                    0   \n",
       "\n",
       "   Exterior2nd_Stone  Exterior2nd_Stucco  Exterior2nd_VinylSd  \\\n",
       "0                  0                   0                    1   \n",
       "\n",
       "   Exterior2nd_Wd Sdng  Exterior2nd_Wd Shng  MasVnrType_BrkCmn  \\\n",
       "0                    0                    0                  0   \n",
       "\n",
       "   MasVnrType_BrkFace  MasVnrType_None  MasVnrType_Stone  ExterQual_Ex  \\\n",
       "0                   1                0                 0             0   \n",
       "\n",
       "   ExterQual_Fa  ExterQual_Gd  ExterQual_TA  ExterCond_Ex  ExterCond_Fa  \\\n",
       "0             0             1             0             0             0   \n",
       "\n",
       "   ExterCond_Gd  ExterCond_Po  ExterCond_TA  Foundation_BrkTil  \\\n",
       "0             0             0             1                  0   \n",
       "\n",
       "   Foundation_CBlock  Foundation_PConc  Foundation_Slab  Foundation_Stone  \\\n",
       "0                  0                 1                0                 0   \n",
       "\n",
       "   Foundation_Wood  BsmtQual_Ex  BsmtQual_Fa  BsmtQual_Gd  BsmtQual_TA  \\\n",
       "0                0            0            0            1            0   \n",
       "\n",
       "   BsmtCond_Fa  BsmtCond_Gd  BsmtCond_Po  BsmtCond_TA  BsmtExposure_Av  \\\n",
       "0            0            0            0            1                0   \n",
       "\n",
       "   BsmtExposure_Gd  BsmtExposure_Mn  BsmtExposure_No  BsmtFinType1_ALQ  \\\n",
       "0                0                0                1                 0   \n",
       "\n",
       "   BsmtFinType1_BLQ  BsmtFinType1_GLQ  BsmtFinType1_LwQ  BsmtFinType1_Rec  \\\n",
       "0                 0                 1                 0                 0   \n",
       "\n",
       "   BsmtFinType1_Unf  BsmtFinType2_ALQ  BsmtFinType2_BLQ  BsmtFinType2_GLQ  \\\n",
       "0                 0                 0                 0                 0   \n",
       "\n",
       "   BsmtFinType2_LwQ  BsmtFinType2_Rec  BsmtFinType2_Unf  Heating_Floor  \\\n",
       "0                 0                 0                 1              0   \n",
       "\n",
       "   Heating_GasA  Heating_GasW  Heating_Grav  Heating_OthW  Heating_Wall  \\\n",
       "0             1             0             0             0             0   \n",
       "\n",
       "   HeatingQC_Ex  HeatingQC_Fa  HeatingQC_Gd  HeatingQC_Po  HeatingQC_TA  \\\n",
       "0             1             0             0             0             0   \n",
       "\n",
       "   CentralAir_N  CentralAir_Y  Electrical_FuseA  Electrical_FuseF  \\\n",
       "0             0             1                 0                 0   \n",
       "\n",
       "   Electrical_FuseP  Electrical_Mix  Electrical_SBrkr  KitchenQual_Ex  \\\n",
       "0                 0               0                 1               0   \n",
       "\n",
       "   KitchenQual_Fa  KitchenQual_Gd  KitchenQual_TA  Functional_Maj1  \\\n",
       "0               0               1               0                0   \n",
       "\n",
       "   Functional_Maj2  Functional_Min1  Functional_Min2  Functional_Mod  \\\n",
       "0                0                0                0               0   \n",
       "\n",
       "   Functional_Sev  Functional_Typ  FireplaceQu_Ex  FireplaceQu_Fa  \\\n",
       "0               0               1               0               0   \n",
       "\n",
       "   FireplaceQu_Gd  FireplaceQu_Po  FireplaceQu_TA  GarageType_2Types  \\\n",
       "0               0               0               0                  0   \n",
       "\n",
       "   GarageType_Attchd  GarageType_Basment  GarageType_BuiltIn  \\\n",
       "0                  1                   0                   0   \n",
       "\n",
       "   GarageType_CarPort  GarageType_Detchd  GarageFinish_Fin  GarageFinish_RFn  \\\n",
       "0                   0                  0                 0                 1   \n",
       "\n",
       "   GarageFinish_Unf  GarageQual_Ex  GarageQual_Fa  GarageQual_Gd  \\\n",
       "0                 0              0              0              0   \n",
       "\n",
       "   GarageQual_Po  GarageQual_TA  GarageCond_Ex  GarageCond_Fa  GarageCond_Gd  \\\n",
       "0              0              1              0              0              0   \n",
       "\n",
       "   GarageCond_Po  GarageCond_TA  PavedDrive_N  PavedDrive_P  PavedDrive_Y  \\\n",
       "0              0              1             0             0             1   \n",
       "\n",
       "   PoolQC_Ex  PoolQC_Fa  PoolQC_Gd  Fence_GdPrv  Fence_GdWo  Fence_MnPrv  \\\n",
       "0          0          0          0            0           0            0   \n",
       "\n",
       "   Fence_MnWw  MiscFeature_Gar2  MiscFeature_Othr  MiscFeature_Shed  \\\n",
       "0           0                 0                 0                 0   \n",
       "\n",
       "   MiscFeature_TenC  SaleType_COD  SaleType_CWD  SaleType_Con  SaleType_ConLD  \\\n",
       "0                 0             0             0             0               0   \n",
       "\n",
       "   SaleType_ConLI  SaleType_ConLw  SaleType_New  SaleType_Oth  SaleType_WD  \\\n",
       "0               0               0             0             0            1   \n",
       "\n",
       "   SaleCondition_Abnorml  SaleCondition_AdjLand  SaleCondition_Alloca  \\\n",
       "0                      0                      0                     0   \n",
       "\n",
       "   SaleCondition_Family  SaleCondition_Normal  SaleCondition_Partial  \n",
       "0                     0                     1                      0  "
      ]
     },
     "execution_count": 13,
     "metadata": {},
     "output_type": "execute_result"
    }
   ],
   "source": [
    "pd.set_option('display.max_columns', 300)\n",
    "house_prices_all = pd.get_dummies(house_prices_all)\n",
    "house_prices_all.head(1)"
   ]
  },
  {
   "cell_type": "code",
   "execution_count": 14,
   "metadata": {
    "collapsed": false
   },
   "outputs": [
    {
     "data": {
      "text/plain": [
       "(2919, 288)"
      ]
     },
     "execution_count": 14,
     "metadata": {},
     "output_type": "execute_result"
    }
   ],
   "source": [
    "house_prices_all.shape"
   ]
  },
  {
   "cell_type": "markdown",
   "metadata": {},
   "source": [
    "#### Split the dataframe into its original train and test with all the data transformation intact"
   ]
  },
  {
   "cell_type": "code",
   "execution_count": 48,
   "metadata": {
    "collapsed": false
   },
   "outputs": [
    {
     "data": {
      "text/plain": [
       "((1460, 288), (1459, 288), (2919, 288))"
      ]
     },
     "execution_count": 48,
     "metadata": {},
     "output_type": "execute_result"
    }
   ],
   "source": [
    "train = house_prices_all[0:len(house_prices_train)]\n",
    "test = house_prices_all[len(house_prices_train):]\n",
    "train.shape, test.shape, house_prices_all.shape"
   ]
  },
  {
   "cell_type": "markdown",
   "metadata": {},
   "source": [
    "## Gradient Boosting"
   ]
  },
  {
   "cell_type": "code",
   "execution_count": 60,
   "metadata": {
    "collapsed": true
   },
   "outputs": [],
   "source": [
    "#Import libraries:\n",
    "import pandas as pd\n",
    "import numpy as np\n",
    "from sklearn.ensemble import GradientBoostingRegressor  #GBM algorithm\n",
    "from sklearn import cross_validation, metrics   #Additional scklearn functions\n",
    "from sklearn.grid_search import GridSearchCV   #Performing grid search\n",
    "\n",
    "import matplotlib.pylab as plt\n",
    "%matplotlib inline\n",
    "from matplotlib.pylab import rcParams\n",
    "rcParams['figure.figsize'] = 12, 4"
   ]
  },
  {
   "cell_type": "markdown",
   "metadata": {},
   "source": [
    "### Function to fit model and do Cross Validation for error calculation"
   ]
  },
  {
   "cell_type": "code",
   "execution_count": 108,
   "metadata": {
    "collapsed": false
   },
   "outputs": [],
   "source": [
    "def modelfit(model, dtrain, features, output, performCV=True, printFeatureImportance=True, cv_folds=5):\n",
    "    #Fit the algorithm on the data\n",
    "    model.fit(dtrain[features], output)\n",
    "        \n",
    "    #Predict training set:\n",
    "    dtrain_predictions = model.predict(dtrain[features])\n",
    "    #dtrain_predprob = model.predict_proba(dtrain[features])[:,1]\n",
    "    \n",
    "    #Perform cross-validation:\n",
    "    if performCV:\n",
    "        cv_score = cross_validation.cross_val_score(model, dtrain[features], output, cv=cv_folds)\n",
    "    \n",
    "    #Print model report:\n",
    "    print \"\\nModel Report\"\n",
    "    print \"R-Square: %.3f\" % metrics.r2_score(output, dtrain_predictions)\n",
    "    print \"RMSE : %.3f\" % np.sqrt(metrics.mean_squared_error(output, dtrain_predictions))\n",
    "    print\"cv_score: \"\n",
    "    print(cv_score)\n",
    "\n",
    "    if performCV:\n",
    "        print \"CV Score : Mean: %.7g | Std: %.7g | Min: %.7g | Max: %.7g\" % (np.mean(cv_score),np.std(cv_score),np.min(cv_score),np.max(cv_score))\n",
    "        \n",
    "    #Print Feature Importance:\n",
    "    if printFeatureImportance:\n",
    "        feat_imp = pd.Series(model.feature_importances_[0:30], features[0:30]).sort_values(ascending=False)\n",
    "        feat_imp.plot(kind='bar', title='Top 30 Feature Importances')\n",
    "        plt.ylabel('Features Importance Score')"
   ]
  },
  {
   "cell_type": "markdown",
   "metadata": {},
   "source": [
    "### Baseline Model"
   ]
  },
  {
   "cell_type": "code",
   "execution_count": 109,
   "metadata": {
    "collapsed": false
   },
   "outputs": [
    {
     "name": "stdout",
     "output_type": "stream",
     "text": [
      "(1460, 288) (1460,)\n",
      "\n",
      "Model Report\n",
      "R-Square: 0.959\n",
      "RMSE : 0.081\n",
      "cv_score: \n",
      "[ 0.90787581  0.89357339  0.89735139  0.90985761  0.89418972]\n",
      "CV Score : Mean: 0.9005696 | Std: 0.006923216 | Min: 0.8935734 | Max: 0.9098576\n"
     ]
    },
    {
     "data": {
      "image/png": "[encoded data removed]",
      "text/plain": [
       "<matplotlib.figure.Figure at 0x11947ead0>"
      ]
     },
     "metadata": {},
     "output_type": "display_data"
    }
   ],
   "source": [
    "#features = [x for x in train.columns if x not in ['SalePrice', 'log_SalePrice']]\n",
    "features = train.columns\n",
    "train_output = house_prices_train['log_SalePrice']\n",
    "print train[features].shape, output.shape\n",
    "#print output\n",
    "gbm = GradientBoostingRegressor(random_state=10)\n",
    "modelfit(gbm, train, features, output, performCV=True, printFeatureImportance=True)"
   ]
  },
  {
   "cell_type": "markdown",
   "metadata": {},
   "source": [
    "Mean CV score is 0.9006 and we should be able to do better so lets keep going!"
   ]
  },
  {
   "cell_type": "markdown",
   "metadata": {},
   "source": [
    "### Parameter Tuning"
   ]
  },
  {
   "cell_type": "code",
   "execution_count": 154,
   "metadata": {
    "collapsed": true
   },
   "outputs": [],
   "source": [
    "min_samples_split = 0.01  #This should be ~0.5-1% of total values. \n",
    "min_samples_leaf = 50 #Can be selected based on intuition. This is just used for preventing overfitting \n",
    "max_depth = 3\n",
    "max_features = 'sqrt' #Its a general thumb-rule to start with square root.\n",
    "subsample = 0.8 #This is a commonly used used start value"
   ]
  },
  {
   "cell_type": "code",
   "execution_count": 168,
   "metadata": {
    "collapsed": false
   },
   "outputs": [],
   "source": [
    "param_test1 = {'n_estimators': range(20,501,10)}\n",
    "gsearch1 = GridSearchCV(estimator = GradientBoostingRegressor(learning_rate=0.3, min_samples_split=min_samples_split, \n",
    "                                                              min_samples_leaf=min_samples_leaf,max_depth=max_depth,\n",
    "                                                              max_features=max_features,\n",
    "                                                              subsample=subsample,random_state=10), \n",
    "                                                              param_grid = param_test1, n_jobs=4,iid=False,cv=5)"
   ]
  },
  {
   "cell_type": "code",
   "execution_count": 169,
   "metadata": {
    "collapsed": false
   },
   "outputs": [
    {
     "data": {
      "text/plain": [
       "GridSearchCV(cv=5, error_score='raise',\n",
       "       estimator=GradientBoostingRegressor(alpha=0.9, init=None, learning_rate=0.3, loss='ls',\n",
       "             max_depth=3, max_features='sqrt', max_leaf_nodes=None,\n",
       "             min_samples_leaf=50, min_samples_split=0.01,\n",
       "             min_weight_fraction_leaf=0.0, n_estimators=100,\n",
       "             presort='auto', random_state=10, subsample=0.8, verbose=0,\n",
       "             warm_start=False),\n",
       "       fit_params={}, iid=False, n_jobs=4,\n",
       "       param_grid={'n_estimators': [20, 30, 40, 50, 60, 70, 80, 90, 100, 110, 120, 130, 140, 150, 160, 170, 180, 190, 200, 210, 220, 230, 240, 250, 260, 270, 280, 290, 300, 310, 320, 330, 340, 350, 360, 370, 380, 390, 400, 410, 420, 430, 440, 450, 460, 470, 480, 490, 500]},\n",
       "       pre_dispatch='2*n_jobs', refit=True, scoring=None, verbose=0)"
      ]
     },
     "execution_count": 169,
     "metadata": {},
     "output_type": "execute_result"
    }
   ],
   "source": [
    "gsearch1.fit(train[features], output)"
   ]
  },
  {
   "cell_type": "code",
   "execution_count": 171,
   "metadata": {
    "collapsed": false
   },
   "outputs": [
    {
     "data": {
      "text/plain": [
       "([mean: 0.84768, std: 0.01022, params: {'n_estimators': 20},\n",
       "  mean: 0.85865, std: 0.01308, params: {'n_estimators': 30},\n",
       "  mean: 0.86530, std: 0.01332, params: {'n_estimators': 40},\n",
       "  mean: 0.86906, std: 0.01477, params: {'n_estimators': 50},\n",
       "  mean: 0.87154, std: 0.01433, params: {'n_estimators': 60},\n",
       "  mean: 0.87285, std: 0.01474, params: {'n_estimators': 70},\n",
       "  mean: 0.87330, std: 0.01533, params: {'n_estimators': 80},\n",
       "  mean: 0.87413, std: 0.01531, params: {'n_estimators': 90},\n",
       "  mean: 0.87374, std: 0.01488, params: {'n_estimators': 100},\n",
       "  mean: 0.87465, std: 0.01526, params: {'n_estimators': 110},\n",
       "  mean: 0.87507, std: 0.01551, params: {'n_estimators': 120},\n",
       "  mean: 0.87597, std: 0.01513, params: {'n_estimators': 130},\n",
       "  mean: 0.87621, std: 0.01596, params: {'n_estimators': 140},\n",
       "  mean: 0.87622, std: 0.01597, params: {'n_estimators': 150},\n",
       "  mean: 0.87602, std: 0.01641, params: {'n_estimators': 160},\n",
       "  mean: 0.87595, std: 0.01583, params: {'n_estimators': 170},\n",
       "  mean: 0.87537, std: 0.01553, params: {'n_estimators': 180},\n",
       "  mean: 0.87507, std: 0.01548, params: {'n_estimators': 190},\n",
       "  mean: 0.87508, std: 0.01523, params: {'n_estimators': 200},\n",
       "  mean: 0.87483, std: 0.01458, params: {'n_estimators': 210},\n",
       "  mean: 0.87469, std: 0.01542, params: {'n_estimators': 220},\n",
       "  mean: 0.87449, std: 0.01503, params: {'n_estimators': 230},\n",
       "  mean: 0.87457, std: 0.01434, params: {'n_estimators': 240},\n",
       "  mean: 0.87428, std: 0.01420, params: {'n_estimators': 250},\n",
       "  mean: 0.87470, std: 0.01448, params: {'n_estimators': 260},\n",
       "  mean: 0.87392, std: 0.01440, params: {'n_estimators': 270},\n",
       "  mean: 0.87363, std: 0.01457, params: {'n_estimators': 280},\n",
       "  mean: 0.87425, std: 0.01429, params: {'n_estimators': 290},\n",
       "  mean: 0.87390, std: 0.01448, params: {'n_estimators': 300},\n",
       "  mean: 0.87448, std: 0.01446, params: {'n_estimators': 310},\n",
       "  mean: 0.87441, std: 0.01425, params: {'n_estimators': 320},\n",
       "  mean: 0.87404, std: 0.01411, params: {'n_estimators': 330},\n",
       "  mean: 0.87415, std: 0.01433, params: {'n_estimators': 340},\n",
       "  mean: 0.87399, std: 0.01432, params: {'n_estimators': 350},\n",
       "  mean: 0.87391, std: 0.01408, params: {'n_estimators': 360},\n",
       "  mean: 0.87390, std: 0.01388, params: {'n_estimators': 370},\n",
       "  mean: 0.87369, std: 0.01383, params: {'n_estimators': 380},\n",
       "  mean: 0.87362, std: 0.01410, params: {'n_estimators': 390},\n",
       "  mean: 0.87349, std: 0.01446, params: {'n_estimators': 400},\n",
       "  mean: 0.87353, std: 0.01456, params: {'n_estimators': 410},\n",
       "  mean: 0.87316, std: 0.01473, params: {'n_estimators': 420},\n",
       "  mean: 0.87326, std: 0.01462, params: {'n_estimators': 430},\n",
       "  mean: 0.87247, std: 0.01432, params: {'n_estimators': 440},\n",
       "  mean: 0.87279, std: 0.01427, params: {'n_estimators': 450},\n",
       "  mean: 0.87289, std: 0.01414, params: {'n_estimators': 460},\n",
       "  mean: 0.87269, std: 0.01418, params: {'n_estimators': 470},\n",
       "  mean: 0.87207, std: 0.01433, params: {'n_estimators': 480},\n",
       "  mean: 0.87136, std: 0.01423, params: {'n_estimators': 490},\n",
       "  mean: 0.87106, std: 0.01413, params: {'n_estimators': 500}],\n",
       " {'n_estimators': 150},\n",
       " 0.87621788799085576)"
      ]
     },
     "execution_count": 171,
     "metadata": {},
     "output_type": "execute_result"
    }
   ],
   "source": [
    "gsearch1.grid_scores_, gsearch1.best_params_, gsearch1.best_score_"
   ]
  },
  {
   "cell_type": "markdown",
   "metadata": {},
   "source": [
    "### Tuning tree-specific parameters\n",
    "\n",
    "Now lets move onto tuning the tree parameters. I plan to do this in following stages:\n",
    "\n",
    "Tune max_depth and num_samples_split\n",
    "Tune min_samples_leaf\n",
    "Tune max_features"
   ]
  },
  {
   "cell_type": "code",
   "execution_count": 181,
   "metadata": {
    "collapsed": false
   },
   "outputs": [
    {
     "data": {
      "text/plain": [
       "([mean: 0.86794, std: 0.01422, params: {'min_samples_split': 0.001, 'max_depth': 1},\n",
       "  mean: 0.86794, std: 0.01422, params: {'min_samples_split': 0.002, 'max_depth': 1},\n",
       "  mean: 0.86794, std: 0.01422, params: {'min_samples_split': 0.0030000000000000001, 'max_depth': 1},\n",
       "  mean: 0.86794, std: 0.01422, params: {'min_samples_split': 0.0040000000000000001, 'max_depth': 1},\n",
       "  mean: 0.86794, std: 0.01422, params: {'min_samples_split': 0.0050000000000000001, 'max_depth': 1},\n",
       "  mean: 0.86794, std: 0.01422, params: {'min_samples_split': 0.0060000000000000001, 'max_depth': 1},\n",
       "  mean: 0.86794, std: 0.01422, params: {'min_samples_split': 0.0070000000000000001, 'max_depth': 1},\n",
       "  mean: 0.86794, std: 0.01422, params: {'min_samples_split': 0.0080000000000000002, 'max_depth': 1},\n",
       "  mean: 0.86794, std: 0.01422, params: {'min_samples_split': 0.0090000000000000011, 'max_depth': 1},\n",
       "  mean: 0.86794, std: 0.01422, params: {'min_samples_split': 0.010000000000000002, 'max_depth': 1},\n",
       "  mean: 0.87622, std: 0.01597, params: {'min_samples_split': 0.001, 'max_depth': 3},\n",
       "  mean: 0.87622, std: 0.01597, params: {'min_samples_split': 0.002, 'max_depth': 3},\n",
       "  mean: 0.87622, std: 0.01597, params: {'min_samples_split': 0.0030000000000000001, 'max_depth': 3},\n",
       "  mean: 0.87622, std: 0.01597, params: {'min_samples_split': 0.0040000000000000001, 'max_depth': 3},\n",
       "  mean: 0.87622, std: 0.01597, params: {'min_samples_split': 0.0050000000000000001, 'max_depth': 3},\n",
       "  mean: 0.87622, std: 0.01597, params: {'min_samples_split': 0.0060000000000000001, 'max_depth': 3},\n",
       "  mean: 0.87622, std: 0.01597, params: {'min_samples_split': 0.0070000000000000001, 'max_depth': 3},\n",
       "  mean: 0.87622, std: 0.01597, params: {'min_samples_split': 0.0080000000000000002, 'max_depth': 3},\n",
       "  mean: 0.87622, std: 0.01597, params: {'min_samples_split': 0.0090000000000000011, 'max_depth': 3},\n",
       "  mean: 0.87622, std: 0.01597, params: {'min_samples_split': 0.010000000000000002, 'max_depth': 3},\n",
       "  mean: 0.86660, std: 0.01228, params: {'min_samples_split': 0.001, 'max_depth': 5},\n",
       "  mean: 0.86660, std: 0.01228, params: {'min_samples_split': 0.002, 'max_depth': 5},\n",
       "  mean: 0.86660, std: 0.01228, params: {'min_samples_split': 0.0030000000000000001, 'max_depth': 5},\n",
       "  mean: 0.86660, std: 0.01228, params: {'min_samples_split': 0.0040000000000000001, 'max_depth': 5},\n",
       "  mean: 0.86660, std: 0.01228, params: {'min_samples_split': 0.0050000000000000001, 'max_depth': 5},\n",
       "  mean: 0.86660, std: 0.01228, params: {'min_samples_split': 0.0060000000000000001, 'max_depth': 5},\n",
       "  mean: 0.86660, std: 0.01228, params: {'min_samples_split': 0.0070000000000000001, 'max_depth': 5},\n",
       "  mean: 0.86660, std: 0.01228, params: {'min_samples_split': 0.0080000000000000002, 'max_depth': 5},\n",
       "  mean: 0.86660, std: 0.01228, params: {'min_samples_split': 0.0090000000000000011, 'max_depth': 5},\n",
       "  mean: 0.86660, std: 0.01228, params: {'min_samples_split': 0.010000000000000002, 'max_depth': 5},\n",
       "  mean: 0.86734, std: 0.01561, params: {'min_samples_split': 0.001, 'max_depth': 7},\n",
       "  mean: 0.86734, std: 0.01561, params: {'min_samples_split': 0.002, 'max_depth': 7},\n",
       "  mean: 0.86734, std: 0.01561, params: {'min_samples_split': 0.0030000000000000001, 'max_depth': 7},\n",
       "  mean: 0.86734, std: 0.01561, params: {'min_samples_split': 0.0040000000000000001, 'max_depth': 7},\n",
       "  mean: 0.86734, std: 0.01561, params: {'min_samples_split': 0.0050000000000000001, 'max_depth': 7},\n",
       "  mean: 0.86734, std: 0.01561, params: {'min_samples_split': 0.0060000000000000001, 'max_depth': 7},\n",
       "  mean: 0.86734, std: 0.01561, params: {'min_samples_split': 0.0070000000000000001, 'max_depth': 7},\n",
       "  mean: 0.86734, std: 0.01561, params: {'min_samples_split': 0.0080000000000000002, 'max_depth': 7},\n",
       "  mean: 0.86734, std: 0.01561, params: {'min_samples_split': 0.0090000000000000011, 'max_depth': 7},\n",
       "  mean: 0.86734, std: 0.01561, params: {'min_samples_split': 0.010000000000000002, 'max_depth': 7},\n",
       "  mean: 0.86500, std: 0.01457, params: {'min_samples_split': 0.001, 'max_depth': 9},\n",
       "  mean: 0.86500, std: 0.01457, params: {'min_samples_split': 0.002, 'max_depth': 9},\n",
       "  mean: 0.86500, std: 0.01457, params: {'min_samples_split': 0.0030000000000000001, 'max_depth': 9},\n",
       "  mean: 0.86500, std: 0.01457, params: {'min_samples_split': 0.0040000000000000001, 'max_depth': 9},\n",
       "  mean: 0.86500, std: 0.01457, params: {'min_samples_split': 0.0050000000000000001, 'max_depth': 9},\n",
       "  mean: 0.86500, std: 0.01457, params: {'min_samples_split': 0.0060000000000000001, 'max_depth': 9},\n",
       "  mean: 0.86500, std: 0.01457, params: {'min_samples_split': 0.0070000000000000001, 'max_depth': 9},\n",
       "  mean: 0.86500, std: 0.01457, params: {'min_samples_split': 0.0080000000000000002, 'max_depth': 9},\n",
       "  mean: 0.86500, std: 0.01457, params: {'min_samples_split': 0.0090000000000000011, 'max_depth': 9},\n",
       "  mean: 0.86500, std: 0.01457, params: {'min_samples_split': 0.010000000000000002, 'max_depth': 9},\n",
       "  mean: 0.86615, std: 0.01404, params: {'min_samples_split': 0.001, 'max_depth': 11},\n",
       "  mean: 0.86615, std: 0.01404, params: {'min_samples_split': 0.002, 'max_depth': 11},\n",
       "  mean: 0.86615, std: 0.01404, params: {'min_samples_split': 0.0030000000000000001, 'max_depth': 11},\n",
       "  mean: 0.86615, std: 0.01404, params: {'min_samples_split': 0.0040000000000000001, 'max_depth': 11},\n",
       "  mean: 0.86615, std: 0.01404, params: {'min_samples_split': 0.0050000000000000001, 'max_depth': 11},\n",
       "  mean: 0.86615, std: 0.01404, params: {'min_samples_split': 0.0060000000000000001, 'max_depth': 11},\n",
       "  mean: 0.86615, std: 0.01404, params: {'min_samples_split': 0.0070000000000000001, 'max_depth': 11},\n",
       "  mean: 0.86615, std: 0.01404, params: {'min_samples_split': 0.0080000000000000002, 'max_depth': 11},\n",
       "  mean: 0.86615, std: 0.01404, params: {'min_samples_split': 0.0090000000000000011, 'max_depth': 11},\n",
       "  mean: 0.86615, std: 0.01404, params: {'min_samples_split': 0.010000000000000002, 'max_depth': 11},\n",
       "  mean: 0.86603, std: 0.01348, params: {'min_samples_split': 0.001, 'max_depth': 13},\n",
       "  mean: 0.86603, std: 0.01348, params: {'min_samples_split': 0.002, 'max_depth': 13},\n",
       "  mean: 0.86603, std: 0.01348, params: {'min_samples_split': 0.0030000000000000001, 'max_depth': 13},\n",
       "  mean: 0.86603, std: 0.01348, params: {'min_samples_split': 0.0040000000000000001, 'max_depth': 13},\n",
       "  mean: 0.86603, std: 0.01348, params: {'min_samples_split': 0.0050000000000000001, 'max_depth': 13},\n",
       "  mean: 0.86603, std: 0.01348, params: {'min_samples_split': 0.0060000000000000001, 'max_depth': 13},\n",
       "  mean: 0.86603, std: 0.01348, params: {'min_samples_split': 0.0070000000000000001, 'max_depth': 13},\n",
       "  mean: 0.86603, std: 0.01348, params: {'min_samples_split': 0.0080000000000000002, 'max_depth': 13},\n",
       "  mean: 0.86603, std: 0.01348, params: {'min_samples_split': 0.0090000000000000011, 'max_depth': 13},\n",
       "  mean: 0.86603, std: 0.01348, params: {'min_samples_split': 0.010000000000000002, 'max_depth': 13},\n",
       "  mean: 0.86561, std: 0.01358, params: {'min_samples_split': 0.001, 'max_depth': 15},\n",
       "  mean: 0.86561, std: 0.01358, params: {'min_samples_split': 0.002, 'max_depth': 15},\n",
       "  mean: 0.86561, std: 0.01358, params: {'min_samples_split': 0.0030000000000000001, 'max_depth': 15},\n",
       "  mean: 0.86561, std: 0.01358, params: {'min_samples_split': 0.0040000000000000001, 'max_depth': 15},\n",
       "  mean: 0.86561, std: 0.01358, params: {'min_samples_split': 0.0050000000000000001, 'max_depth': 15},\n",
       "  mean: 0.86561, std: 0.01358, params: {'min_samples_split': 0.0060000000000000001, 'max_depth': 15},\n",
       "  mean: 0.86561, std: 0.01358, params: {'min_samples_split': 0.0070000000000000001, 'max_depth': 15},\n",
       "  mean: 0.86561, std: 0.01358, params: {'min_samples_split': 0.0080000000000000002, 'max_depth': 15},\n",
       "  mean: 0.86561, std: 0.01358, params: {'min_samples_split': 0.0090000000000000011, 'max_depth': 15},\n",
       "  mean: 0.86561, std: 0.01358, params: {'min_samples_split': 0.010000000000000002, 'max_depth': 15}],\n",
       " {'max_depth': 3, 'min_samples_split': 0.001},\n",
       " 0.87621788799085576)"
      ]
     },
     "execution_count": 181,
     "metadata": {},
     "output_type": "execute_result"
    }
   ],
   "source": [
    "param_test2 = {'max_depth': range(1,16,2), 'min_samples_split': np.arange(0.001, 0.011, 0.001)}\n",
    "gsearch2 = GridSearchCV(estimator = GradientBoostingRegressor(learning_rate=0.3, n_estimators=150, max_features=max_features, \n",
    "                                                              min_samples_leaf=min_samples_leaf, \n",
    "                                                              subsample=subsample, random_state=10), \n",
    "                                                    param_grid = param_test2 ,n_jobs=4,iid=False, cv=5)\n",
    "gsearch2.fit(train[features],output)\n",
    "gsearch2.grid_scores_, gsearch2.best_params_, gsearch2.best_score_"
   ]
  },
  {
   "cell_type": "code",
   "execution_count": 182,
   "metadata": {
    "collapsed": true
   },
   "outputs": [],
   "source": [
    "min_samples_split = 0.001  \n",
    "min_samples_leaf = 50 \n",
    "max_depth = 3\n",
    "max_features = 'sqrt'\n",
    "subsample = 0.8\n",
    "n_estimators=150\n",
    "learning_rate=0.3"
   ]
  },
  {
   "cell_type": "code",
   "execution_count": 185,
   "metadata": {
    "collapsed": false
   },
   "outputs": [
    {
     "data": {
      "text/plain": [
       "([mean: 0.87233, std: 0.01029, params: {'max_features': 7, 'min_samples_leaf': 10},\n",
       "  mean: 0.87719, std: 0.00940, params: {'max_features': 7, 'min_samples_leaf': 20},\n",
       "  mean: 0.87281, std: 0.01447, params: {'max_features': 7, 'min_samples_leaf': 30},\n",
       "  mean: 0.86897, std: 0.01546, params: {'max_features': 7, 'min_samples_leaf': 40},\n",
       "  mean: 0.86822, std: 0.01380, params: {'max_features': 7, 'min_samples_leaf': 50},\n",
       "  mean: 0.86430, std: 0.01235, params: {'max_features': 7, 'min_samples_leaf': 60},\n",
       "  mean: 0.85739, std: 0.01446, params: {'max_features': 7, 'min_samples_leaf': 70},\n",
       "  mean: 0.85172, std: 0.01551, params: {'max_features': 7, 'min_samples_leaf': 80},\n",
       "  mean: 0.84525, std: 0.01359, params: {'max_features': 7, 'min_samples_leaf': 90},\n",
       "  mean: 0.84619, std: 0.01461, params: {'max_features': 7, 'min_samples_leaf': 100},\n",
       "  mean: 0.86741, std: 0.01287, params: {'max_features': 9, 'min_samples_leaf': 10},\n",
       "  mean: 0.86697, std: 0.01699, params: {'max_features': 9, 'min_samples_leaf': 20},\n",
       "  mean: 0.86796, std: 0.01298, params: {'max_features': 9, 'min_samples_leaf': 30},\n",
       "  mean: 0.86397, std: 0.00904, params: {'max_features': 9, 'min_samples_leaf': 40},\n",
       "  mean: 0.86820, std: 0.01170, params: {'max_features': 9, 'min_samples_leaf': 50},\n",
       "  mean: 0.86232, std: 0.01428, params: {'max_features': 9, 'min_samples_leaf': 60},\n",
       "  mean: 0.85108, std: 0.01699, params: {'max_features': 9, 'min_samples_leaf': 70},\n",
       "  mean: 0.85358, std: 0.00993, params: {'max_features': 9, 'min_samples_leaf': 80},\n",
       "  mean: 0.85009, std: 0.00688, params: {'max_features': 9, 'min_samples_leaf': 90},\n",
       "  mean: 0.85143, std: 0.01025, params: {'max_features': 9, 'min_samples_leaf': 100},\n",
       "  mean: 0.87335, std: 0.00729, params: {'max_features': 11, 'min_samples_leaf': 10},\n",
       "  mean: 0.87238, std: 0.00718, params: {'max_features': 11, 'min_samples_leaf': 20},\n",
       "  mean: 0.87196, std: 0.00703, params: {'max_features': 11, 'min_samples_leaf': 30},\n",
       "  mean: 0.87287, std: 0.00694, params: {'max_features': 11, 'min_samples_leaf': 40},\n",
       "  mean: 0.87175, std: 0.00764, params: {'max_features': 11, 'min_samples_leaf': 50},\n",
       "  mean: 0.86449, std: 0.00825, params: {'max_features': 11, 'min_samples_leaf': 60},\n",
       "  mean: 0.86015, std: 0.00831, params: {'max_features': 11, 'min_samples_leaf': 70},\n",
       "  mean: 0.85305, std: 0.00749, params: {'max_features': 11, 'min_samples_leaf': 80},\n",
       "  mean: 0.85265, std: 0.00643, params: {'max_features': 11, 'min_samples_leaf': 90},\n",
       "  mean: 0.85119, std: 0.00606, params: {'max_features': 11, 'min_samples_leaf': 100},\n",
       "  mean: 0.87271, std: 0.01404, params: {'max_features': 13, 'min_samples_leaf': 10},\n",
       "  mean: 0.87713, std: 0.01006, params: {'max_features': 13, 'min_samples_leaf': 20},\n",
       "  mean: 0.87498, std: 0.01130, params: {'max_features': 13, 'min_samples_leaf': 30},\n",
       "  mean: 0.87613, std: 0.01622, params: {'max_features': 13, 'min_samples_leaf': 40},\n",
       "  mean: 0.87390, std: 0.01351, params: {'max_features': 13, 'min_samples_leaf': 50},\n",
       "  mean: 0.87095, std: 0.01204, params: {'max_features': 13, 'min_samples_leaf': 60},\n",
       "  mean: 0.86352, std: 0.01510, params: {'max_features': 13, 'min_samples_leaf': 70},\n",
       "  mean: 0.85888, std: 0.00952, params: {'max_features': 13, 'min_samples_leaf': 80},\n",
       "  mean: 0.86130, std: 0.00618, params: {'max_features': 13, 'min_samples_leaf': 90},\n",
       "  mean: 0.85849, std: 0.00720, params: {'max_features': 13, 'min_samples_leaf': 100},\n",
       "  mean: 0.86702, std: 0.01667, params: {'max_features': 15, 'min_samples_leaf': 10},\n",
       "  mean: 0.87572, std: 0.01334, params: {'max_features': 15, 'min_samples_leaf': 20},\n",
       "  mean: 0.87636, std: 0.00789, params: {'max_features': 15, 'min_samples_leaf': 30},\n",
       "  mean: 0.86906, std: 0.01629, params: {'max_features': 15, 'min_samples_leaf': 40},\n",
       "  mean: 0.87063, std: 0.01519, params: {'max_features': 15, 'min_samples_leaf': 50},\n",
       "  mean: 0.86803, std: 0.01251, params: {'max_features': 15, 'min_samples_leaf': 60},\n",
       "  mean: 0.86309, std: 0.01193, params: {'max_features': 15, 'min_samples_leaf': 70},\n",
       "  mean: 0.86037, std: 0.01121, params: {'max_features': 15, 'min_samples_leaf': 80},\n",
       "  mean: 0.86114, std: 0.00834, params: {'max_features': 15, 'min_samples_leaf': 90},\n",
       "  mean: 0.85907, std: 0.01262, params: {'max_features': 15, 'min_samples_leaf': 100},\n",
       "  mean: 0.88006, std: 0.01748, params: {'max_features': 17, 'min_samples_leaf': 10},\n",
       "  mean: 0.87572, std: 0.01052, params: {'max_features': 17, 'min_samples_leaf': 20},\n",
       "  mean: 0.87927, std: 0.01075, params: {'max_features': 17, 'min_samples_leaf': 30},\n",
       "  mean: 0.87748, std: 0.01696, params: {'max_features': 17, 'min_samples_leaf': 40},\n",
       "  mean: 0.87695, std: 0.01546, params: {'max_features': 17, 'min_samples_leaf': 50},\n",
       "  mean: 0.87374, std: 0.01213, params: {'max_features': 17, 'min_samples_leaf': 60},\n",
       "  mean: 0.86382, std: 0.01608, params: {'max_features': 17, 'min_samples_leaf': 70},\n",
       "  mean: 0.86436, std: 0.01256, params: {'max_features': 17, 'min_samples_leaf': 80},\n",
       "  mean: 0.85764, std: 0.01362, params: {'max_features': 17, 'min_samples_leaf': 90},\n",
       "  mean: 0.85904, std: 0.01183, params: {'max_features': 17, 'min_samples_leaf': 100},\n",
       "  mean: 0.88312, std: 0.01050, params: {'max_features': 19, 'min_samples_leaf': 10},\n",
       "  mean: 0.88067, std: 0.00977, params: {'max_features': 19, 'min_samples_leaf': 20},\n",
       "  mean: 0.88078, std: 0.00831, params: {'max_features': 19, 'min_samples_leaf': 30},\n",
       "  mean: 0.87664, std: 0.01042, params: {'max_features': 19, 'min_samples_leaf': 40},\n",
       "  mean: 0.87833, std: 0.00723, params: {'max_features': 19, 'min_samples_leaf': 50},\n",
       "  mean: 0.87429, std: 0.00925, params: {'max_features': 19, 'min_samples_leaf': 60},\n",
       "  mean: 0.86525, std: 0.00945, params: {'max_features': 19, 'min_samples_leaf': 70},\n",
       "  mean: 0.86605, std: 0.01100, params: {'max_features': 19, 'min_samples_leaf': 80},\n",
       "  mean: 0.85865, std: 0.01025, params: {'max_features': 19, 'min_samples_leaf': 90},\n",
       "  mean: 0.85830, std: 0.00776, params: {'max_features': 19, 'min_samples_leaf': 100},\n",
       "  mean: 0.87295, std: 0.01838, params: {'max_features': 21, 'min_samples_leaf': 10},\n",
       "  mean: 0.87495, std: 0.01605, params: {'max_features': 21, 'min_samples_leaf': 20},\n",
       "  mean: 0.87932, std: 0.01602, params: {'max_features': 21, 'min_samples_leaf': 30},\n",
       "  mean: 0.87340, std: 0.01779, params: {'max_features': 21, 'min_samples_leaf': 40},\n",
       "  mean: 0.87308, std: 0.01777, params: {'max_features': 21, 'min_samples_leaf': 50},\n",
       "  mean: 0.87757, std: 0.01365, params: {'max_features': 21, 'min_samples_leaf': 60},\n",
       "  mean: 0.87060, std: 0.01263, params: {'max_features': 21, 'min_samples_leaf': 70},\n",
       "  mean: 0.86432, std: 0.01403, params: {'max_features': 21, 'min_samples_leaf': 80},\n",
       "  mean: 0.86161, std: 0.01531, params: {'max_features': 21, 'min_samples_leaf': 90},\n",
       "  mean: 0.85831, std: 0.01358, params: {'max_features': 21, 'min_samples_leaf': 100},\n",
       "  mean: 0.87546, std: 0.00800, params: {'max_features': 23, 'min_samples_leaf': 10},\n",
       "  mean: 0.87974, std: 0.01218, params: {'max_features': 23, 'min_samples_leaf': 20},\n",
       "  mean: 0.88300, std: 0.01203, params: {'max_features': 23, 'min_samples_leaf': 30},\n",
       "  mean: 0.87615, std: 0.01072, params: {'max_features': 23, 'min_samples_leaf': 40},\n",
       "  mean: 0.88064, std: 0.01193, params: {'max_features': 23, 'min_samples_leaf': 50},\n",
       "  mean: 0.88011, std: 0.01071, params: {'max_features': 23, 'min_samples_leaf': 60},\n",
       "  mean: 0.87154, std: 0.01210, params: {'max_features': 23, 'min_samples_leaf': 70},\n",
       "  mean: 0.87082, std: 0.00893, params: {'max_features': 23, 'min_samples_leaf': 80},\n",
       "  mean: 0.86361, std: 0.01013, params: {'max_features': 23, 'min_samples_leaf': 90},\n",
       "  mean: 0.86716, std: 0.01184, params: {'max_features': 23, 'min_samples_leaf': 100},\n",
       "  mean: 0.87697, std: 0.01031, params: {'max_features': 25, 'min_samples_leaf': 10},\n",
       "  mean: 0.88223, std: 0.01092, params: {'max_features': 25, 'min_samples_leaf': 20},\n",
       "  mean: 0.88168, std: 0.01454, params: {'max_features': 25, 'min_samples_leaf': 30},\n",
       "  mean: 0.88363, std: 0.01109, params: {'max_features': 25, 'min_samples_leaf': 40},\n",
       "  mean: 0.87514, std: 0.01295, params: {'max_features': 25, 'min_samples_leaf': 50},\n",
       "  mean: 0.87713, std: 0.01148, params: {'max_features': 25, 'min_samples_leaf': 60},\n",
       "  mean: 0.86968, std: 0.01332, params: {'max_features': 25, 'min_samples_leaf': 70},\n",
       "  mean: 0.86491, std: 0.01168, params: {'max_features': 25, 'min_samples_leaf': 80},\n",
       "  mean: 0.86422, std: 0.00838, params: {'max_features': 25, 'min_samples_leaf': 90},\n",
       "  mean: 0.85923, std: 0.01067, params: {'max_features': 25, 'min_samples_leaf': 100},\n",
       "  mean: 0.87429, std: 0.01602, params: {'max_features': 27, 'min_samples_leaf': 10},\n",
       "  mean: 0.88047, std: 0.00867, params: {'max_features': 27, 'min_samples_leaf': 20},\n",
       "  mean: 0.87769, std: 0.00979, params: {'max_features': 27, 'min_samples_leaf': 30},\n",
       "  mean: 0.87848, std: 0.01473, params: {'max_features': 27, 'min_samples_leaf': 40},\n",
       "  mean: 0.87835, std: 0.01597, params: {'max_features': 27, 'min_samples_leaf': 50},\n",
       "  mean: 0.87764, std: 0.01435, params: {'max_features': 27, 'min_samples_leaf': 60},\n",
       "  mean: 0.87242, std: 0.01874, params: {'max_features': 27, 'min_samples_leaf': 70},\n",
       "  mean: 0.86823, std: 0.01400, params: {'max_features': 27, 'min_samples_leaf': 80},\n",
       "  mean: 0.86080, std: 0.01315, params: {'max_features': 27, 'min_samples_leaf': 90},\n",
       "  mean: 0.85680, std: 0.01496, params: {'max_features': 27, 'min_samples_leaf': 100},\n",
       "  mean: 0.87412, std: 0.01309, params: {'max_features': 29, 'min_samples_leaf': 10},\n",
       "  mean: 0.88402, std: 0.00724, params: {'max_features': 29, 'min_samples_leaf': 20},\n",
       "  mean: 0.87964, std: 0.01017, params: {'max_features': 29, 'min_samples_leaf': 30},\n",
       "  mean: 0.87835, std: 0.01402, params: {'max_features': 29, 'min_samples_leaf': 40},\n",
       "  mean: 0.87382, std: 0.01019, params: {'max_features': 29, 'min_samples_leaf': 50},\n",
       "  mean: 0.87498, std: 0.01085, params: {'max_features': 29, 'min_samples_leaf': 60},\n",
       "  mean: 0.87505, std: 0.01284, params: {'max_features': 29, 'min_samples_leaf': 70},\n",
       "  mean: 0.86864, std: 0.01186, params: {'max_features': 29, 'min_samples_leaf': 80},\n",
       "  mean: 0.86654, std: 0.00934, params: {'max_features': 29, 'min_samples_leaf': 90},\n",
       "  mean: 0.86189, std: 0.01016, params: {'max_features': 29, 'min_samples_leaf': 100}],\n",
       " {'max_features': 29, 'min_samples_leaf': 20},\n",
       " 0.88401764221477275)"
      ]
     },
     "execution_count": 185,
     "metadata": {},
     "output_type": "execute_result"
    }
   ],
   "source": [
    "param_test3 = {'min_samples_leaf':range(10,101,10), 'max_features':range(7,30,2)}\n",
    "gsearch3 = GridSearchCV(estimator = GradientBoostingRegressor(learning_rate=learning_rate, n_estimators=n_estimators,\n",
    "                                                              min_samples_split=min_samples_split,max_depth=max_depth, \n",
    "                                                              subsample=0.8, random_state=10), \n",
    "                                                param_grid = param_test3, n_jobs=4, iid=False, cv=5)\n",
    "gsearch3.fit(train[features], output)\n",
    "gsearch3.grid_scores_, gsearch3.best_params_, gsearch3.best_score_"
   ]
  },
  {
   "cell_type": "markdown",
   "metadata": {},
   "source": [
    "#### Optimum parameters so far: "
   ]
  },
  {
   "cell_type": "code",
   "execution_count": 189,
   "metadata": {
    "collapsed": true
   },
   "outputs": [],
   "source": [
    "min_samples_split = 0.001  \n",
    "min_samples_leaf = 20 \n",
    "max_depth = 3\n",
    "max_features = 29\n",
    "subsample = 0.8\n",
    "n_estimators=150\n",
    "learning_rate=0.3"
   ]
  },
  {
   "cell_type": "code",
   "execution_count": 190,
   "metadata": {
    "collapsed": false
   },
   "outputs": [
    {
     "name": "stdout",
     "output_type": "stream",
     "text": [
      "\n",
      "Model Report\n",
      "R-Square: 0.957\n",
      "RMSE : 0.083\n",
      "cv_score: \n",
      "[ 0.89576248  0.88097111  0.88417541  0.8857439   0.87343531]\n",
      "CV Score : Mean: 0.8840176 | Std: 0.007241728 | Min: 0.8734353 | Max: 0.8957625\n"
     ]
    },
    {
     "data": {
      "image/png": "[encoded data removed]",
      "text/plain": [
       "<matplotlib.figure.Figure at 0x119489490>"
      ]
     },
     "metadata": {},
     "output_type": "display_data"
    }
   ],
   "source": [
    "modelfit(gsearch3.best_estimator_, train, features, output)"
   ]
  },
  {
   "cell_type": "markdown",
   "metadata": {},
   "source": [
    "If you compare the feature importance of this model with the baseline model, you’ll find that now we are able to derive value from many more variables. CV Score has gone down and RMSE has gone up, no performance is not as good as baseline model! This could be due to higher learning rate used so lets tune that down!"
   ]
  },
  {
   "cell_type": "markdown",
   "metadata": {},
   "source": [
    "#### Lets tune subsample"
   ]
  },
  {
   "cell_type": "code",
   "execution_count": 192,
   "metadata": {
    "collapsed": false
   },
   "outputs": [
    {
     "data": {
      "text/plain": [
       "([mean: 0.87819, std: 0.01695, params: {'subsample': 0.6},\n",
       "  mean: 0.87669, std: 0.01770, params: {'subsample': 0.7},\n",
       "  mean: 0.87644, std: 0.01342, params: {'subsample': 0.75},\n",
       "  mean: 0.88402, std: 0.00724, params: {'subsample': 0.8},\n",
       "  mean: 0.88291, std: 0.00897, params: {'subsample': 0.85},\n",
       "  mean: 0.88754, std: 0.01354, params: {'subsample': 0.9},\n",
       "  mean: 0.88503, std: 0.00981, params: {'subsample': 0.95},\n",
       "  mean: 0.88397, std: 0.00737, params: {'subsample': 1.0}],\n",
       " {'subsample': 0.9},\n",
       " 0.88753719626393823)"
      ]
     },
     "execution_count": 192,
     "metadata": {},
     "output_type": "execute_result"
    }
   ],
   "source": [
    "param_test5 = {'subsample':[0.6,0.7,0.75,0.8,0.85,0.9, 0.95, 1.0]}\n",
    "gsearch5 = GridSearchCV(estimator = GradientBoostingRegressor(learning_rate=learning_rate, n_estimators=n_estimators,\n",
    "                                                               max_depth=max_depth,min_samples_split=min_samples_split, \n",
    "                                                               min_samples_leaf=min_samples_leaf, random_state=10,\n",
    "                                                               max_features=max_features),\n",
    "                                                param_grid = param_test5,n_jobs=4,iid=False, cv=5)\n",
    "gsearch5.fit(train[features],output)\n",
    "gsearch5.grid_scores_, gsearch5.best_params_, gsearch5.best_score_"
   ]
  },
  {
   "cell_type": "markdown",
   "metadata": {},
   "source": [
    "#### Lets decrease learning rate by half and double the number of trees"
   ]
  },
  {
   "cell_type": "code",
   "execution_count": 198,
   "metadata": {
    "collapsed": true
   },
   "outputs": [],
   "source": [
    "min_samples_split = 0.001  \n",
    "min_samples_leaf = 20 \n",
    "max_depth = 3\n",
    "max_features = 29\n",
    "subsample = 0.9\n",
    "n_estimators=300\n",
    "learning_rate=0.15"
   ]
  },
  {
   "cell_type": "code",
   "execution_count": 199,
   "metadata": {
    "collapsed": false
   },
   "outputs": [
    {
     "name": "stdout",
     "output_type": "stream",
     "text": [
      "\n",
      "Model Report\n",
      "R-Square: 0.964\n",
      "RMSE : 0.075\n",
      "cv_score: \n",
      "[ 0.91441176  0.90479091  0.88726714  0.90642328  0.89117827]\n",
      "CV Score : Mean: 0.9008143 | Std: 0.01008507 | Min: 0.8872671 | Max: 0.9144118\n"
     ]
    },
    {
     "data": {
      "image/png": "[encoded data removed]",
      "text/plain": [
       "<matplotlib.figure.Figure at 0x11b0d66d0>"
      ]
     },
     "metadata": {},
     "output_type": "display_data"
    }
   ],
   "source": [
    "gbm_tuned_1 = GradientBoostingRegressor(learning_rate=learning_rate, n_estimators=n_estimators,\n",
    "                                        max_depth=max_depth, min_samples_split=min_samples_split,\n",
    "                                        min_samples_leaf=min_samples_leaf, subsample=subsample, random_state=10, \n",
    "                                        max_features=max_features)\n",
    "modelfit(gbm_tuned_1, train, features, output)"
   ]
  },
  {
   "cell_type": "markdown",
   "metadata": {},
   "source": [
    "#### Lets further decrease learning rate by half and increase the number of trees"
   ]
  },
  {
   "cell_type": "code",
   "execution_count": 200,
   "metadata": {
    "collapsed": true
   },
   "outputs": [],
   "source": [
    "min_samples_split = 0.001  \n",
    "min_samples_leaf = 20 \n",
    "max_depth = 3\n",
    "max_features = 29\n",
    "subsample = 0.9\n",
    "n_estimators=600\n",
    "learning_rate=0.075"
   ]
  },
  {
   "cell_type": "code",
   "execution_count": 201,
   "metadata": {
    "collapsed": false
   },
   "outputs": [
    {
     "name": "stdout",
     "output_type": "stream",
     "text": [
      "\n",
      "Model Report\n",
      "R-Square: 0.968\n",
      "RMSE : 0.072\n",
      "cv_score: \n",
      "[ 0.91559875  0.90274567  0.89530648  0.91272359  0.8950806 ]\n",
      "CV Score : Mean: 0.904291 | Std: 0.008566388 | Min: 0.8950806 | Max: 0.9155988\n"
     ]
    },
    {
     "data": {
      "image/png": "[encoded data removed]",
      "text/plain": [
       "<matplotlib.figure.Figure at 0x11b694910>"
      ]
     },
     "metadata": {},
     "output_type": "display_data"
    }
   ],
   "source": [
    "gbm_tuned_2 = GradientBoostingRegressor(learning_rate=learning_rate, n_estimators=n_estimators,\n",
    "                                        max_depth=max_depth, min_samples_split=min_samples_split,\n",
    "                                        min_samples_leaf=min_samples_leaf, subsample=subsample, random_state=10, \n",
    "                                        max_features=max_features)\n",
    "modelfit(gbm_tuned_2, train, features, output)"
   ]
  },
  {
   "cell_type": "markdown",
   "metadata": {},
   "source": [
    "#### Now lets reduce learning rate to one-tenth of the original value, i.e. 0.03 "
   ]
  },
  {
   "cell_type": "code",
   "execution_count": 202,
   "metadata": {
    "collapsed": true
   },
   "outputs": [],
   "source": [
    "min_samples_split = 0.001  \n",
    "min_samples_leaf = 20 \n",
    "max_depth = 3\n",
    "max_features = 29\n",
    "subsample = 0.9\n",
    "n_estimators=1500\n",
    "learning_rate=0.03"
   ]
  },
  {
   "cell_type": "code",
   "execution_count": 203,
   "metadata": {
    "collapsed": false
   },
   "outputs": [
    {
     "name": "stdout",
     "output_type": "stream",
     "text": [
      "\n",
      "Model Report\n",
      "R-Square: 0.969\n",
      "RMSE : 0.071\n",
      "cv_score: \n",
      "[ 0.91660881  0.9078334   0.90023572  0.91462321  0.89849028]\n",
      "CV Score : Mean: 0.9075583 | Std: 0.007317782 | Min: 0.8984903 | Max: 0.9166088\n"
     ]
    },
    {
     "data": {
      "image/png": "[encoded data removed]",
      "text/plain": [
       "<matplotlib.figure.Figure at 0x1160e7e50>"
      ]
     },
     "metadata": {},
     "output_type": "display_data"
    }
   ],
   "source": [
    "gbm_tuned_3 = GradientBoostingRegressor(learning_rate=learning_rate, n_estimators=n_estimators,\n",
    "                                        max_depth=max_depth, min_samples_split=min_samples_split,\n",
    "                                        min_samples_leaf=min_samples_leaf, subsample=subsample, random_state=10, \n",
    "                                        max_features=max_features)\n",
    "modelfit(gbm_tuned_3, train, features, output)"
   ]
  },
  {
   "cell_type": "markdown",
   "metadata": {},
   "source": [
    "#### Now lets reduce learning rate to one-twentieth of the original value, i.e. 0.015"
   ]
  },
  {
   "cell_type": "code",
   "execution_count": 204,
   "metadata": {
    "collapsed": true
   },
   "outputs": [],
   "source": [
    "min_samples_split = 0.001  \n",
    "min_samples_leaf = 20 \n",
    "max_depth = 3\n",
    "max_features = 29\n",
    "subsample = 0.9\n",
    "n_estimators=3000\n",
    "learning_rate=0.015"
   ]
  },
  {
   "cell_type": "code",
   "execution_count": 205,
   "metadata": {
    "collapsed": false
   },
   "outputs": [
    {
     "name": "stdout",
     "output_type": "stream",
     "text": [
      "\n",
      "Model Report\n",
      "R-Square: 0.969\n",
      "RMSE : 0.070\n",
      "cv_score: \n",
      "[ 0.91870027  0.90641669  0.90229493  0.91449818  0.89883848]\n",
      "CV Score : Mean: 0.9081497 | Std: 0.007424263 | Min: 0.8988385 | Max: 0.9187003\n"
     ]
    },
    {
     "data": {
      "image/png": "[encoded data removed]",
      "text/plain": [
       "<matplotlib.figure.Figure at 0x119890790>"
      ]
     },
     "metadata": {},
     "output_type": "display_data"
    }
   ],
   "source": [
    "gbm_tuned_4 = GradientBoostingRegressor(learning_rate=learning_rate, n_estimators=n_estimators,\n",
    "                                        max_depth=max_depth, min_samples_split=min_samples_split,\n",
    "                                        min_samples_leaf=min_samples_leaf, subsample=subsample, random_state=10, \n",
    "                                        max_features=max_features)\n",
    "modelfit(gbm_tuned_4, train, features, output)"
   ]
  },
  {
   "cell_type": "markdown",
   "metadata": {},
   "source": [
    "### Time to make predictions and submit to kaggle"
   ]
  },
  {
   "cell_type": "code",
   "execution_count": 211,
   "metadata": {
    "collapsed": false
   },
   "outputs": [
    {
     "data": {
      "text/html": [
       "<div>\n",
       "<table border=\"1\" class=\"dataframe\">\n",
       "  <thead>\n",
       "    <tr style=\"text-align: right;\">\n",
       "      <th></th>\n",
       "      <th>Id</th>\n",
       "      <th>SalePrice</th>\n",
       "    </tr>\n",
       "  </thead>\n",
       "  <tbody>\n",
       "    <tr>\n",
       "      <th>0</th>\n",
       "      <td>1461</td>\n",
       "      <td>120515.873909</td>\n",
       "    </tr>\n",
       "    <tr>\n",
       "      <th>1</th>\n",
       "      <td>1462</td>\n",
       "      <td>163069.249429</td>\n",
       "    </tr>\n",
       "    <tr>\n",
       "      <th>2</th>\n",
       "      <td>1463</td>\n",
       "      <td>182314.286866</td>\n",
       "    </tr>\n",
       "    <tr>\n",
       "      <th>3</th>\n",
       "      <td>1464</td>\n",
       "      <td>184875.422120</td>\n",
       "    </tr>\n",
       "    <tr>\n",
       "      <th>4</th>\n",
       "      <td>1465</td>\n",
       "      <td>178566.890565</td>\n",
       "    </tr>\n",
       "  </tbody>\n",
       "</table>\n",
       "</div>"
      ],
      "text/plain": [
       "     Id      SalePrice\n",
       "0  1461  120515.873909\n",
       "1  1462  163069.249429\n",
       "2  1463  182314.286866\n",
       "3  1464  184875.422120\n",
       "4  1465  178566.890565"
      ]
     },
     "execution_count": 211,
     "metadata": {},
     "output_type": "execute_result"
    }
   ],
   "source": [
    "pred = np.expm1(gbm_tuned_1.predict(test))\n",
    "gbm_tuned_1_prediction = pd.DataFrame({'Id': house_prices_test['Id'], 'SalePrice': pred})\n",
    "gbm_tuned_1_prediction.head(5)"
   ]
  },
  {
   "cell_type": "code",
   "execution_count": 213,
   "metadata": {
    "collapsed": false
   },
   "outputs": [],
   "source": [
    "gbm_tuned_1_prediction.to_csv('kaggle_submission_gbm1_12202016.csv', index=False)"
   ]
  },
  {
   "cell_type": "code",
   "execution_count": 214,
   "metadata": {
    "collapsed": false
   },
   "outputs": [
    {
     "data": {
      "text/html": [
       "<div>\n",
       "<table border=\"1\" class=\"dataframe\">\n",
       "  <thead>\n",
       "    <tr style=\"text-align: right;\">\n",
       "      <th></th>\n",
       "      <th>Id</th>\n",
       "      <th>SalePrice</th>\n",
       "    </tr>\n",
       "  </thead>\n",
       "  <tbody>\n",
       "    <tr>\n",
       "      <th>0</th>\n",
       "      <td>1461</td>\n",
       "      <td>127611.869509</td>\n",
       "    </tr>\n",
       "    <tr>\n",
       "      <th>1</th>\n",
       "      <td>1462</td>\n",
       "      <td>164773.757758</td>\n",
       "    </tr>\n",
       "    <tr>\n",
       "      <th>2</th>\n",
       "      <td>1463</td>\n",
       "      <td>176677.123525</td>\n",
       "    </tr>\n",
       "    <tr>\n",
       "      <th>3</th>\n",
       "      <td>1464</td>\n",
       "      <td>183863.986092</td>\n",
       "    </tr>\n",
       "    <tr>\n",
       "      <th>4</th>\n",
       "      <td>1465</td>\n",
       "      <td>187586.653009</td>\n",
       "    </tr>\n",
       "  </tbody>\n",
       "</table>\n",
       "</div>"
      ],
      "text/plain": [
       "     Id      SalePrice\n",
       "0  1461  127611.869509\n",
       "1  1462  164773.757758\n",
       "2  1463  176677.123525\n",
       "3  1464  183863.986092\n",
       "4  1465  187586.653009"
      ]
     },
     "execution_count": 214,
     "metadata": {},
     "output_type": "execute_result"
    }
   ],
   "source": [
    "pred = np.expm1(gbm_tuned_2.predict(test))\n",
    "gbm_tuned_2_prediction = pd.DataFrame({'Id': house_prices_test['Id'], 'SalePrice': pred})\n",
    "gbm_tuned_2_prediction.head(5)"
   ]
  },
  {
   "cell_type": "code",
   "execution_count": 215,
   "metadata": {
    "collapsed": true
   },
   "outputs": [],
   "source": [
    "gbm_tuned_2_prediction.to_csv('kaggle_submission_gbm2_12202016.csv', index=False)"
   ]
  },
  {
   "cell_type": "code",
   "execution_count": 216,
   "metadata": {
    "collapsed": false
   },
   "outputs": [
    {
     "data": {
      "text/html": [
       "<div>\n",
       "<table border=\"1\" class=\"dataframe\">\n",
       "  <thead>\n",
       "    <tr style=\"text-align: right;\">\n",
       "      <th></th>\n",
       "      <th>Id</th>\n",
       "      <th>SalePrice</th>\n",
       "    </tr>\n",
       "  </thead>\n",
       "  <tbody>\n",
       "    <tr>\n",
       "      <th>0</th>\n",
       "      <td>1461</td>\n",
       "      <td>120093.323411</td>\n",
       "    </tr>\n",
       "    <tr>\n",
       "      <th>1</th>\n",
       "      <td>1462</td>\n",
       "      <td>164032.675231</td>\n",
       "    </tr>\n",
       "    <tr>\n",
       "      <th>2</th>\n",
       "      <td>1463</td>\n",
       "      <td>181405.247879</td>\n",
       "    </tr>\n",
       "    <tr>\n",
       "      <th>3</th>\n",
       "      <td>1464</td>\n",
       "      <td>192018.941609</td>\n",
       "    </tr>\n",
       "    <tr>\n",
       "      <th>4</th>\n",
       "      <td>1465</td>\n",
       "      <td>189233.612793</td>\n",
       "    </tr>\n",
       "  </tbody>\n",
       "</table>\n",
       "</div>"
      ],
      "text/plain": [
       "     Id      SalePrice\n",
       "0  1461  120093.323411\n",
       "1  1462  164032.675231\n",
       "2  1463  181405.247879\n",
       "3  1464  192018.941609\n",
       "4  1465  189233.612793"
      ]
     },
     "execution_count": 216,
     "metadata": {},
     "output_type": "execute_result"
    }
   ],
   "source": [
    "pred = np.expm1(gbm_tuned_3.predict(test))\n",
    "gbm_tuned_3_prediction = pd.DataFrame({'Id': house_prices_test['Id'], 'SalePrice': pred})\n",
    "gbm_tuned_3_prediction.head(5)"
   ]
  },
  {
   "cell_type": "code",
   "execution_count": 217,
   "metadata": {
    "collapsed": true
   },
   "outputs": [],
   "source": [
    "gbm_tuned_3_prediction.to_csv('kaggle_submission_gbm3_12202016.csv', index=False)"
   ]
  },
  {
   "cell_type": "code",
   "execution_count": 218,
   "metadata": {
    "collapsed": false
   },
   "outputs": [
    {
     "data": {
      "text/html": [
       "<div>\n",
       "<table border=\"1\" class=\"dataframe\">\n",
       "  <thead>\n",
       "    <tr style=\"text-align: right;\">\n",
       "      <th></th>\n",
       "      <th>Id</th>\n",
       "      <th>SalePrice</th>\n",
       "    </tr>\n",
       "  </thead>\n",
       "  <tbody>\n",
       "    <tr>\n",
       "      <th>0</th>\n",
       "      <td>1461</td>\n",
       "      <td>122399.218462</td>\n",
       "    </tr>\n",
       "    <tr>\n",
       "      <th>1</th>\n",
       "      <td>1462</td>\n",
       "      <td>161498.857155</td>\n",
       "    </tr>\n",
       "    <tr>\n",
       "      <th>2</th>\n",
       "      <td>1463</td>\n",
       "      <td>183873.471887</td>\n",
       "    </tr>\n",
       "    <tr>\n",
       "      <th>3</th>\n",
       "      <td>1464</td>\n",
       "      <td>191490.045717</td>\n",
       "    </tr>\n",
       "    <tr>\n",
       "      <th>4</th>\n",
       "      <td>1465</td>\n",
       "      <td>192704.855396</td>\n",
       "    </tr>\n",
       "  </tbody>\n",
       "</table>\n",
       "</div>"
      ],
      "text/plain": [
       "     Id      SalePrice\n",
       "0  1461  122399.218462\n",
       "1  1462  161498.857155\n",
       "2  1463  183873.471887\n",
       "3  1464  191490.045717\n",
       "4  1465  192704.855396"
      ]
     },
     "execution_count": 218,
     "metadata": {},
     "output_type": "execute_result"
    }
   ],
   "source": [
    "pred = np.expm1(gbm_tuned_4.predict(test))\n",
    "gbm_tuned_4_prediction = pd.DataFrame({'Id': house_prices_test['Id'], 'SalePrice': pred})\n",
    "gbm_tuned_4_prediction.head(5)"
   ]
  },
  {
   "cell_type": "code",
   "execution_count": 219,
   "metadata": {
    "collapsed": true
   },
   "outputs": [],
   "source": [
    "gbm_tuned_4_prediction.to_csv('kaggle_submission_gbm4_12202016.csv', index=False)"
   ]
  },
  {
   "cell_type": "markdown",
   "metadata": {},
   "source": [
    "### None of the above improved the LB Score over Ridge Regression! :( :( Lets keep trying"
   ]
  },
  {
   "cell_type": "code",
   "execution_count": 229,
   "metadata": {
    "collapsed": true
   },
   "outputs": [],
   "source": [
    "min_samples_split = 0.001  \n",
    "min_samples_leaf = 20 \n",
    "max_depth = 3\n",
    "max_features = 29\n",
    "subsample = 0.9\n",
    "n_estimators=30000\n",
    "learning_rate=0.0015"
   ]
  },
  {
   "cell_type": "code",
   "execution_count": 230,
   "metadata": {
    "collapsed": false
   },
   "outputs": [
    {
     "name": "stdout",
     "output_type": "stream",
     "text": [
      "\n",
      "Model Report\n",
      "R-Square: 0.969\n",
      "RMSE : 0.070\n",
      "cv_score: \n",
      "[ 0.92328629  0.90581639  0.90280078  0.91617828  0.89724968]\n",
      "CV Score : Mean: 0.9090663 | Std: 0.009404675 | Min: 0.8972497 | Max: 0.9232863\n"
     ]
    },
    {
     "data": {
      "image/png": "[encoded data removed]",
      "text/plain": [
       "<matplotlib.figure.Figure at 0x119021350>"
      ]
     },
     "metadata": {},
     "output_type": "display_data"
    }
   ],
   "source": [
    "gbm_tuned_5 = GradientBoostingRegressor(learning_rate=learning_rate, n_estimators=n_estimators,\n",
    "                                        max_depth=max_depth, min_samples_split=min_samples_split,\n",
    "                                        min_samples_leaf=min_samples_leaf, subsample=subsample, random_state=10, \n",
    "                                        max_features=max_features)\n",
    "modelfit(gbm_tuned_5, train, features, output)"
   ]
  },
  {
   "cell_type": "code",
   "execution_count": 231,
   "metadata": {
    "collapsed": false
   },
   "outputs": [
    {
     "data": {
      "text/html": [
       "<div>\n",
       "<table border=\"1\" class=\"dataframe\">\n",
       "  <thead>\n",
       "    <tr style=\"text-align: right;\">\n",
       "      <th></th>\n",
       "      <th>Id</th>\n",
       "      <th>SalePrice</th>\n",
       "    </tr>\n",
       "  </thead>\n",
       "  <tbody>\n",
       "    <tr>\n",
       "      <th>0</th>\n",
       "      <td>1461</td>\n",
       "      <td>122035.292708</td>\n",
       "    </tr>\n",
       "    <tr>\n",
       "      <th>1</th>\n",
       "      <td>1462</td>\n",
       "      <td>160532.645518</td>\n",
       "    </tr>\n",
       "    <tr>\n",
       "      <th>2</th>\n",
       "      <td>1463</td>\n",
       "      <td>184200.397737</td>\n",
       "    </tr>\n",
       "    <tr>\n",
       "      <th>3</th>\n",
       "      <td>1464</td>\n",
       "      <td>195402.706237</td>\n",
       "    </tr>\n",
       "    <tr>\n",
       "      <th>4</th>\n",
       "      <td>1465</td>\n",
       "      <td>192402.247416</td>\n",
       "    </tr>\n",
       "  </tbody>\n",
       "</table>\n",
       "</div>"
      ],
      "text/plain": [
       "     Id      SalePrice\n",
       "0  1461  122035.292708\n",
       "1  1462  160532.645518\n",
       "2  1463  184200.397737\n",
       "3  1464  195402.706237\n",
       "4  1465  192402.247416"
      ]
     },
     "execution_count": 231,
     "metadata": {},
     "output_type": "execute_result"
    }
   ],
   "source": [
    "pred = np.expm1(gbm_tuned_5.predict(test))\n",
    "gbm_tuned_5_prediction = pd.DataFrame({'Id': house_prices_test['Id'], 'SalePrice': pred})\n",
    "gbm_tuned_5_prediction.head(5)"
   ]
  },
  {
   "cell_type": "code",
   "execution_count": 232,
   "metadata": {
    "collapsed": true
   },
   "outputs": [],
   "source": [
    "gbm_tuned_5_prediction.to_csv('kaggle_submission_gbm5_12202016.csv', index=False)"
   ]
  }
 ],
 "metadata": {
  "anaconda-cloud": {},
  "kernelspec": {
   "display_name": "Python [conda root]",
   "language": "python",
   "name": "conda-root-py"
  },
  "language_info": {
   "codemirror_mode": {
    "name": "ipython",
    "version": 2
   },
   "file_extension": ".py",
   "mimetype": "text/x-python",
   "name": "python",
   "nbconvert_exporter": "python",
   "pygments_lexer": "ipython2",
   "version": "2.7.12"
  }
 },
 "nbformat": 4,
 "nbformat_minor": 1
}
